{
 "cells": [
  {
   "attachments": {},
   "cell_type": "markdown",
   "metadata": {},
   "source": [
    "# Analyze Supermarket Data Across the Country - Company XYZ\n",
    "\n",
    "Company XYZ owns a supermarket chain across the country. Each major branch located in 3 cities across the country recorded sales information for 3 months, to help the company understand sales trends and determine its growth, as the rise of supermarkets competition is seen.\n",
    "\n",
    "This project was inspired from [here](https://github.com/bleso-a/Data-Analysis-Project). Original copy [here](https://docs.google.com/document/d/1Sv-DlynHpOBAs5qKokn5MtbzqZcumTSlSI4-wQ0kf0w/edit)"
   ]
  },
  {
   "attachments": {},
   "cell_type": "markdown",
   "metadata": {},
   "source": [
    "## Step 1 - Loading the Dataset\n",
    "In this step, you will combine the dataset from each branch (3 branches) into one dataset for easy analysis. You expected to write the syntaxes that will read multiple files from your current working directory and export a CSV file after combining. \n",
    "The learning from this step is the ability to automate reading and combining multiple CSV files."
   ]
  },
  {
   "cell_type": "code",
   "execution_count": 3,
   "metadata": {},
   "outputs": [],
   "source": [
    "import os\n",
    "import pandas as pd\n",
    "import glob\n",
    "\n",
    "import numpy as np\n",
    "import seaborn as sns\n",
    "import matplotlib.pyplot as plt\n",
    "%matplotlib inline\n",
    "plt.style.use('fivethirtyeight')  \n",
    "import warnings\n",
    "warnings.filterwarnings('ignore')\n",
    "from datetime import datetime, timedelta, date"
   ]
  },
  {
   "attachments": {},
   "cell_type": "markdown",
   "metadata": {},
   "source": [
    "#### Use glob to match the pattern \"csv\" and combine all the files in the generated list above and export to a CSV."
   ]
  },
  {
   "cell_type": "code",
   "execution_count": 5,
   "metadata": {},
   "outputs": [],
   "source": [
    "source_files = glob.glob('/Users/toluxxxx/Downloads/Data-Analysis-Project-main/*.csv')\n",
    "dataframes_csv = []\n",
    "\n",
    "for file in source_files:\n",
    "    df = pd.read_csv(file)\n",
    "    dataframes_csv.append(df)\n",
    "xyz= pd.concat(dataframes_csv,ignore_index=True)\n",
    "\n",
    "xyz.to_csv('Company XYZ')\n",
    "\n",
    "pd.set_option('display.max_columns', None)\n",
    "pd.set_option('display.max_rows', 50)"
   ]
  },
  {
   "attachments": {},
   "cell_type": "markdown",
   "metadata": {},
   "source": [
    "## Step 2 - Data Exploration\n",
    "In this step you will explore the loaded dataset using some built-in Pandas function. "
   ]
  },
  {
   "cell_type": "code",
   "execution_count": 7,
   "metadata": {},
   "outputs": [
    {
     "data": {
      "text/html": [
       "<div>\n",
       "<style scoped>\n",
       "    .dataframe tbody tr th:only-of-type {\n",
       "        vertical-align: middle;\n",
       "    }\n",
       "\n",
       "    .dataframe tbody tr th {\n",
       "        vertical-align: top;\n",
       "    }\n",
       "\n",
       "    .dataframe thead th {\n",
       "        text-align: right;\n",
       "    }\n",
       "</style>\n",
       "<table border=\"1\" class=\"dataframe\">\n",
       "  <thead>\n",
       "    <tr style=\"text-align: right;\">\n",
       "      <th></th>\n",
       "      <th>Invoice ID</th>\n",
       "      <th>Branch</th>\n",
       "      <th>City</th>\n",
       "      <th>Customer type</th>\n",
       "      <th>Gender</th>\n",
       "      <th>Product line</th>\n",
       "      <th>Unit price</th>\n",
       "      <th>Quantity</th>\n",
       "      <th>Tax 5%</th>\n",
       "      <th>Total</th>\n",
       "      <th>Date</th>\n",
       "      <th>Time</th>\n",
       "      <th>Payment</th>\n",
       "      <th>cogs</th>\n",
       "      <th>gross margin percentage</th>\n",
       "      <th>gross income</th>\n",
       "      <th>Rating</th>\n",
       "    </tr>\n",
       "  </thead>\n",
       "  <tbody>\n",
       "    <tr>\n",
       "      <th>0</th>\n",
       "      <td>692-92-5582</td>\n",
       "      <td>B</td>\n",
       "      <td>Abuja</td>\n",
       "      <td>Member</td>\n",
       "      <td>Female</td>\n",
       "      <td>Food and beverages</td>\n",
       "      <td>19742.4</td>\n",
       "      <td>3</td>\n",
       "      <td>2961.36</td>\n",
       "      <td>62188.56</td>\n",
       "      <td>2/20/2019</td>\n",
       "      <td>13:27</td>\n",
       "      <td>Card</td>\n",
       "      <td>59227.2</td>\n",
       "      <td>4.761905</td>\n",
       "      <td>2961.36</td>\n",
       "      <td>5.9</td>\n",
       "    </tr>\n",
       "    <tr>\n",
       "      <th>1</th>\n",
       "      <td>351-62-0822</td>\n",
       "      <td>B</td>\n",
       "      <td>Abuja</td>\n",
       "      <td>Member</td>\n",
       "      <td>Female</td>\n",
       "      <td>Fashion accessories</td>\n",
       "      <td>5212.8</td>\n",
       "      <td>4</td>\n",
       "      <td>1042.56</td>\n",
       "      <td>21893.76</td>\n",
       "      <td>2/6/2019</td>\n",
       "      <td>18:07</td>\n",
       "      <td>Epay</td>\n",
       "      <td>20851.2</td>\n",
       "      <td>4.761905</td>\n",
       "      <td>1042.56</td>\n",
       "      <td>4.5</td>\n",
       "    </tr>\n",
       "    <tr>\n",
       "      <th>2</th>\n",
       "      <td>529-56-3974</td>\n",
       "      <td>B</td>\n",
       "      <td>Abuja</td>\n",
       "      <td>Member</td>\n",
       "      <td>Male</td>\n",
       "      <td>Electronic accessories</td>\n",
       "      <td>9183.6</td>\n",
       "      <td>4</td>\n",
       "      <td>1836.72</td>\n",
       "      <td>38571.12</td>\n",
       "      <td>3/9/2019</td>\n",
       "      <td>17:03</td>\n",
       "      <td>Cash</td>\n",
       "      <td>36734.4</td>\n",
       "      <td>4.761905</td>\n",
       "      <td>1836.72</td>\n",
       "      <td>6.8</td>\n",
       "    </tr>\n",
       "    <tr>\n",
       "      <th>3</th>\n",
       "      <td>299-46-1805</td>\n",
       "      <td>B</td>\n",
       "      <td>Abuja</td>\n",
       "      <td>Member</td>\n",
       "      <td>Female</td>\n",
       "      <td>Sports and travel</td>\n",
       "      <td>33739.2</td>\n",
       "      <td>6</td>\n",
       "      <td>10121.76</td>\n",
       "      <td>212556.96</td>\n",
       "      <td>1/15/2019</td>\n",
       "      <td>16:19</td>\n",
       "      <td>Cash</td>\n",
       "      <td>202435.2</td>\n",
       "      <td>4.761905</td>\n",
       "      <td>10121.76</td>\n",
       "      <td>4.5</td>\n",
       "    </tr>\n",
       "    <tr>\n",
       "      <th>4</th>\n",
       "      <td>319-50-3348</td>\n",
       "      <td>B</td>\n",
       "      <td>Abuja</td>\n",
       "      <td>Normal</td>\n",
       "      <td>Female</td>\n",
       "      <td>Home and lifestyle</td>\n",
       "      <td>14508.0</td>\n",
       "      <td>2</td>\n",
       "      <td>1450.80</td>\n",
       "      <td>30466.80</td>\n",
       "      <td>3/11/2019</td>\n",
       "      <td>15:30</td>\n",
       "      <td>Epay</td>\n",
       "      <td>29016.0</td>\n",
       "      <td>4.761905</td>\n",
       "      <td>1450.80</td>\n",
       "      <td>4.4</td>\n",
       "    </tr>\n",
       "  </tbody>\n",
       "</table>\n",
       "</div>"
      ],
      "text/plain": [
       "    Invoice ID Branch   City Customer type  Gender            Product line  \\\n",
       "0  692-92-5582      B  Abuja        Member  Female      Food and beverages   \n",
       "1  351-62-0822      B  Abuja        Member  Female     Fashion accessories   \n",
       "2  529-56-3974      B  Abuja        Member    Male  Electronic accessories   \n",
       "3  299-46-1805      B  Abuja        Member  Female       Sports and travel   \n",
       "4  319-50-3348      B  Abuja        Normal  Female      Home and lifestyle   \n",
       "\n",
       "   Unit price  Quantity    Tax 5%      Total       Date   Time Payment  \\\n",
       "0     19742.4         3   2961.36   62188.56  2/20/2019  13:27    Card   \n",
       "1      5212.8         4   1042.56   21893.76   2/6/2019  18:07    Epay   \n",
       "2      9183.6         4   1836.72   38571.12   3/9/2019  17:03    Cash   \n",
       "3     33739.2         6  10121.76  212556.96  1/15/2019  16:19    Cash   \n",
       "4     14508.0         2   1450.80   30466.80  3/11/2019  15:30    Epay   \n",
       "\n",
       "       cogs  gross margin percentage  gross income  Rating  \n",
       "0   59227.2                 4.761905       2961.36     5.9  \n",
       "1   20851.2                 4.761905       1042.56     4.5  \n",
       "2   36734.4                 4.761905       1836.72     6.8  \n",
       "3  202435.2                 4.761905      10121.76     4.5  \n",
       "4   29016.0                 4.761905       1450.80     4.4  "
      ]
     },
     "execution_count": 7,
     "metadata": {},
     "output_type": "execute_result"
    }
   ],
   "source": [
    "xyz.head()"
   ]
  },
  {
   "attachments": {},
   "cell_type": "markdown",
   "metadata": {},
   "source": [
    "#### Check the number of rows and columns present."
   ]
  },
  {
   "cell_type": "code",
   "execution_count": 8,
   "metadata": {},
   "outputs": [
    {
     "data": {
      "text/plain": [
       "(1000, 17)"
      ]
     },
     "execution_count": 8,
     "metadata": {},
     "output_type": "execute_result"
    }
   ],
   "source": [
    "xyz.shape"
   ]
  },
  {
   "attachments": {},
   "cell_type": "markdown",
   "metadata": {},
   "source": [
    "#### Generate the names of the columns."
   ]
  },
  {
   "cell_type": "code",
   "execution_count": 9,
   "metadata": {},
   "outputs": [
    {
     "data": {
      "text/plain": [
       "Index(['Invoice ID', 'Branch', 'City', 'Customer type', 'Gender',\n",
       "       'Product line', 'Unit price', 'Quantity', 'Tax 5%', 'Total', 'Date',\n",
       "       'Time', 'Payment', 'cogs', 'gross margin percentage', 'gross income',\n",
       "       'Rating'],\n",
       "      dtype='object')"
      ]
     },
     "execution_count": 9,
     "metadata": {},
     "output_type": "execute_result"
    }
   ],
   "source": [
    "xyz.columns"
   ]
  },
  {
   "attachments": {},
   "cell_type": "markdown",
   "metadata": {},
   "source": [
    "#### Statiscal Summary\n",
    "The describe method provides the data statistical summary for the dataset."
   ]
  },
  {
   "cell_type": "code",
   "execution_count": 10,
   "metadata": {},
   "outputs": [
    {
     "data": {
      "text/html": [
       "<div>\n",
       "<style scoped>\n",
       "    .dataframe tbody tr th:only-of-type {\n",
       "        vertical-align: middle;\n",
       "    }\n",
       "\n",
       "    .dataframe tbody tr th {\n",
       "        vertical-align: top;\n",
       "    }\n",
       "\n",
       "    .dataframe thead th {\n",
       "        text-align: right;\n",
       "    }\n",
       "</style>\n",
       "<table border=\"1\" class=\"dataframe\">\n",
       "  <thead>\n",
       "    <tr style=\"text-align: right;\">\n",
       "      <th></th>\n",
       "      <th>Unit price</th>\n",
       "      <th>Quantity</th>\n",
       "      <th>Tax 5%</th>\n",
       "      <th>Total</th>\n",
       "      <th>cogs</th>\n",
       "      <th>gross margin percentage</th>\n",
       "      <th>gross income</th>\n",
       "      <th>Rating</th>\n",
       "    </tr>\n",
       "  </thead>\n",
       "  <tbody>\n",
       "    <tr>\n",
       "      <th>count</th>\n",
       "      <td>1000.000000</td>\n",
       "      <td>1000.000000</td>\n",
       "      <td>1000.000000</td>\n",
       "      <td>1000.000000</td>\n",
       "      <td>1000.000000</td>\n",
       "      <td>1.000000e+03</td>\n",
       "      <td>1000.000000</td>\n",
       "      <td>1000.00000</td>\n",
       "    </tr>\n",
       "    <tr>\n",
       "      <th>mean</th>\n",
       "      <td>20041.966800</td>\n",
       "      <td>5.510000</td>\n",
       "      <td>5536.572840</td>\n",
       "      <td>116268.029640</td>\n",
       "      <td>110731.456800</td>\n",
       "      <td>4.761905e+00</td>\n",
       "      <td>5536.572840</td>\n",
       "      <td>6.97270</td>\n",
       "    </tr>\n",
       "    <tr>\n",
       "      <th>std</th>\n",
       "      <td>9538.066205</td>\n",
       "      <td>2.923431</td>\n",
       "      <td>4215.177173</td>\n",
       "      <td>88518.720636</td>\n",
       "      <td>84303.543463</td>\n",
       "      <td>6.131498e-14</td>\n",
       "      <td>4215.177173</td>\n",
       "      <td>1.71858</td>\n",
       "    </tr>\n",
       "    <tr>\n",
       "      <th>min</th>\n",
       "      <td>3628.800000</td>\n",
       "      <td>1.000000</td>\n",
       "      <td>183.060000</td>\n",
       "      <td>3844.260000</td>\n",
       "      <td>3661.200000</td>\n",
       "      <td>4.761905e+00</td>\n",
       "      <td>183.060000</td>\n",
       "      <td>4.00000</td>\n",
       "    </tr>\n",
       "    <tr>\n",
       "      <th>25%</th>\n",
       "      <td>11835.000000</td>\n",
       "      <td>3.000000</td>\n",
       "      <td>2132.955000</td>\n",
       "      <td>44792.055000</td>\n",
       "      <td>42659.100000</td>\n",
       "      <td>4.761905e+00</td>\n",
       "      <td>2132.955000</td>\n",
       "      <td>5.50000</td>\n",
       "    </tr>\n",
       "    <tr>\n",
       "      <th>50%</th>\n",
       "      <td>19882.800000</td>\n",
       "      <td>5.000000</td>\n",
       "      <td>4351.680000</td>\n",
       "      <td>91385.280000</td>\n",
       "      <td>87033.600000</td>\n",
       "      <td>4.761905e+00</td>\n",
       "      <td>4351.680000</td>\n",
       "      <td>7.00000</td>\n",
       "    </tr>\n",
       "    <tr>\n",
       "      <th>75%</th>\n",
       "      <td>28056.600000</td>\n",
       "      <td>8.000000</td>\n",
       "      <td>8080.290000</td>\n",
       "      <td>169686.090000</td>\n",
       "      <td>161605.800000</td>\n",
       "      <td>4.761905e+00</td>\n",
       "      <td>8080.290000</td>\n",
       "      <td>8.50000</td>\n",
       "    </tr>\n",
       "    <tr>\n",
       "      <th>max</th>\n",
       "      <td>35985.600000</td>\n",
       "      <td>10.000000</td>\n",
       "      <td>17874.000000</td>\n",
       "      <td>375354.000000</td>\n",
       "      <td>357480.000000</td>\n",
       "      <td>4.761905e+00</td>\n",
       "      <td>17874.000000</td>\n",
       "      <td>10.00000</td>\n",
       "    </tr>\n",
       "  </tbody>\n",
       "</table>\n",
       "</div>"
      ],
      "text/plain": [
       "         Unit price     Quantity        Tax 5%          Total           cogs  \\\n",
       "count   1000.000000  1000.000000   1000.000000    1000.000000    1000.000000   \n",
       "mean   20041.966800     5.510000   5536.572840  116268.029640  110731.456800   \n",
       "std     9538.066205     2.923431   4215.177173   88518.720636   84303.543463   \n",
       "min     3628.800000     1.000000    183.060000    3844.260000    3661.200000   \n",
       "25%    11835.000000     3.000000   2132.955000   44792.055000   42659.100000   \n",
       "50%    19882.800000     5.000000   4351.680000   91385.280000   87033.600000   \n",
       "75%    28056.600000     8.000000   8080.290000  169686.090000  161605.800000   \n",
       "max    35985.600000    10.000000  17874.000000  375354.000000  357480.000000   \n",
       "\n",
       "       gross margin percentage  gross income      Rating  \n",
       "count             1.000000e+03   1000.000000  1000.00000  \n",
       "mean              4.761905e+00   5536.572840     6.97270  \n",
       "std               6.131498e-14   4215.177173     1.71858  \n",
       "min               4.761905e+00    183.060000     4.00000  \n",
       "25%               4.761905e+00   2132.955000     5.50000  \n",
       "50%               4.761905e+00   4351.680000     7.00000  \n",
       "75%               4.761905e+00   8080.290000     8.50000  \n",
       "max               4.761905e+00  17874.000000    10.00000  "
      ]
     },
     "execution_count": 10,
     "metadata": {},
     "output_type": "execute_result"
    }
   ],
   "source": [
    "xyz.describe()"
   ]
  },
  {
   "attachments": {},
   "cell_type": "markdown",
   "metadata": {},
   "source": [
    "####  Missing values"
   ]
  },
  {
   "cell_type": "code",
   "execution_count": 11,
   "metadata": {},
   "outputs": [
    {
     "data": {
      "text/plain": [
       "Invoice ID                 0\n",
       "Branch                     0\n",
       "City                       0\n",
       "Customer type              0\n",
       "Gender                     0\n",
       "Product line               0\n",
       "Unit price                 0\n",
       "Quantity                   0\n",
       "Tax 5%                     0\n",
       "Total                      0\n",
       "Date                       0\n",
       "Time                       0\n",
       "Payment                    0\n",
       "cogs                       0\n",
       "gross margin percentage    0\n",
       "gross income               0\n",
       "Rating                     0\n",
       "dtype: int64"
      ]
     },
     "execution_count": 11,
     "metadata": {},
     "output_type": "execute_result"
    }
   ],
   "source": [
    "xyz.isna().sum()"
   ]
  },
  {
   "attachments": {},
   "cell_type": "markdown",
   "metadata": {},
   "source": [
    "#### Data Information"
   ]
  },
  {
   "cell_type": "code",
   "execution_count": 12,
   "metadata": {},
   "outputs": [
    {
     "name": "stdout",
     "output_type": "stream",
     "text": [
      "<class 'pandas.core.frame.DataFrame'>\n",
      "RangeIndex: 1000 entries, 0 to 999\n",
      "Data columns (total 17 columns):\n",
      " #   Column                   Non-Null Count  Dtype  \n",
      "---  ------                   --------------  -----  \n",
      " 0   Invoice ID               1000 non-null   object \n",
      " 1   Branch                   1000 non-null   object \n",
      " 2   City                     1000 non-null   object \n",
      " 3   Customer type            1000 non-null   object \n",
      " 4   Gender                   1000 non-null   object \n",
      " 5   Product line             1000 non-null   object \n",
      " 6   Unit price               1000 non-null   float64\n",
      " 7   Quantity                 1000 non-null   int64  \n",
      " 8   Tax 5%                   1000 non-null   float64\n",
      " 9   Total                    1000 non-null   float64\n",
      " 10  Date                     1000 non-null   object \n",
      " 11  Time                     1000 non-null   object \n",
      " 12  Payment                  1000 non-null   object \n",
      " 13  cogs                     1000 non-null   float64\n",
      " 14  gross margin percentage  1000 non-null   float64\n",
      " 15  gross income             1000 non-null   float64\n",
      " 16  Rating                   1000 non-null   float64\n",
      "dtypes: float64(7), int64(1), object(9)\n",
      "memory usage: 132.9+ KB\n"
     ]
    }
   ],
   "source": [
    "xyz.info()"
   ]
  },
  {
   "cell_type": "markdown",
   "metadata": {},
   "source": [
    "## Step 3 - Dealing with DateTime Features"
   ]
  },
  {
   "attachments": {},
   "cell_type": "markdown",
   "metadata": {},
   "source": [
    "####  Use `to_datetime()` to convert the `date` column to `datetime`"
   ]
  },
  {
   "cell_type": "code",
   "execution_count": 13,
   "metadata": {},
   "outputs": [],
   "source": [
    "xyz['Date']= pd.to_datetime(xyz['Date'])"
   ]
  },
  {
   "attachments": {},
   "cell_type": "markdown",
   "metadata": {},
   "source": [
    "#### Check the datatype to confirm if it's in `datetime`"
   ]
  },
  {
   "cell_type": "code",
   "execution_count": 14,
   "metadata": {},
   "outputs": [
    {
     "name": "stdout",
     "output_type": "stream",
     "text": [
      "<class 'pandas.core.frame.DataFrame'>\n",
      "RangeIndex: 1000 entries, 0 to 999\n",
      "Data columns (total 17 columns):\n",
      " #   Column                   Non-Null Count  Dtype         \n",
      "---  ------                   --------------  -----         \n",
      " 0   Invoice ID               1000 non-null   object        \n",
      " 1   Branch                   1000 non-null   object        \n",
      " 2   City                     1000 non-null   object        \n",
      " 3   Customer type            1000 non-null   object        \n",
      " 4   Gender                   1000 non-null   object        \n",
      " 5   Product line             1000 non-null   object        \n",
      " 6   Unit price               1000 non-null   float64       \n",
      " 7   Quantity                 1000 non-null   int64         \n",
      " 8   Tax 5%                   1000 non-null   float64       \n",
      " 9   Total                    1000 non-null   float64       \n",
      " 10  Date                     1000 non-null   datetime64[ns]\n",
      " 11  Time                     1000 non-null   object        \n",
      " 12  Payment                  1000 non-null   object        \n",
      " 13  cogs                     1000 non-null   float64       \n",
      " 14  gross margin percentage  1000 non-null   float64       \n",
      " 15  gross income             1000 non-null   float64       \n",
      " 16  Rating                   1000 non-null   float64       \n",
      "dtypes: datetime64[ns](1), float64(7), int64(1), object(8)\n",
      "memory usage: 132.9+ KB\n"
     ]
    }
   ],
   "source": [
    "xyz.info()"
   ]
  },
  {
   "attachments": {},
   "cell_type": "markdown",
   "metadata": {},
   "source": [
    "#### Repeat the two steps above to the `time` column"
   ]
  },
  {
   "cell_type": "code",
   "execution_count": 15,
   "metadata": {
    "scrolled": true
   },
   "outputs": [],
   "source": [
    "xyz['Time']= pd.to_datetime(xyz['Time'])"
   ]
  },
  {
   "cell_type": "markdown",
   "metadata": {},
   "source": [
    "## Extract Features from date & time"
   ]
  },
  {
   "attachments": {},
   "cell_type": "markdown",
   "metadata": {},
   "source": [
    "#### Extract the Day feature from the `Date` column, and save to a new `Day` column"
   ]
  },
  {
   "cell_type": "code",
   "execution_count": 16,
   "metadata": {},
   "outputs": [],
   "source": [
    "xyz['Day'] = xyz['Date'].dt.day"
   ]
  },
  {
   "attachments": {},
   "cell_type": "markdown",
   "metadata": {},
   "source": [
    "#### Extract the Month feature from the `Date` column, and save to a new `Month` column"
   ]
  },
  {
   "cell_type": "code",
   "execution_count": 17,
   "metadata": {},
   "outputs": [],
   "source": [
    "xyz['Month'] = xyz['Date'].dt.month"
   ]
  },
  {
   "attachments": {},
   "cell_type": "markdown",
   "metadata": {},
   "source": [
    "#### Extract the Year feature from the `Date` column, and save to a new `Year` column  "
   ]
  },
  {
   "cell_type": "code",
   "execution_count": 18,
   "metadata": {},
   "outputs": [],
   "source": [
    "xyz['Year'] = xyz['Date'].dt.year"
   ]
  },
  {
   "attachments": {},
   "cell_type": "markdown",
   "metadata": {},
   "source": [
    "#### Extract the `Hour` feature from the `Time` column and save to a new `Hour` column"
   ]
  },
  {
   "cell_type": "code",
   "execution_count": 19,
   "metadata": {},
   "outputs": [],
   "source": [
    "xyz['Hour'] = xyz['Time'].dt.hour"
   ]
  },
  {
   "cell_type": "code",
   "execution_count": 20,
   "metadata": {},
   "outputs": [
    {
     "data": {
      "text/html": [
       "<div>\n",
       "<style scoped>\n",
       "    .dataframe tbody tr th:only-of-type {\n",
       "        vertical-align: middle;\n",
       "    }\n",
       "\n",
       "    .dataframe tbody tr th {\n",
       "        vertical-align: top;\n",
       "    }\n",
       "\n",
       "    .dataframe thead th {\n",
       "        text-align: right;\n",
       "    }\n",
       "</style>\n",
       "<table border=\"1\" class=\"dataframe\">\n",
       "  <thead>\n",
       "    <tr style=\"text-align: right;\">\n",
       "      <th></th>\n",
       "      <th>Invoice ID</th>\n",
       "      <th>Branch</th>\n",
       "      <th>City</th>\n",
       "      <th>Customer type</th>\n",
       "      <th>Gender</th>\n",
       "      <th>Product line</th>\n",
       "      <th>Unit price</th>\n",
       "      <th>Quantity</th>\n",
       "      <th>Tax 5%</th>\n",
       "      <th>Total</th>\n",
       "      <th>Date</th>\n",
       "      <th>Time</th>\n",
       "      <th>Payment</th>\n",
       "      <th>cogs</th>\n",
       "      <th>gross margin percentage</th>\n",
       "      <th>gross income</th>\n",
       "      <th>Rating</th>\n",
       "      <th>Day</th>\n",
       "      <th>Month</th>\n",
       "      <th>Year</th>\n",
       "      <th>Hour</th>\n",
       "    </tr>\n",
       "  </thead>\n",
       "  <tbody>\n",
       "    <tr>\n",
       "      <th>0</th>\n",
       "      <td>692-92-5582</td>\n",
       "      <td>B</td>\n",
       "      <td>Abuja</td>\n",
       "      <td>Member</td>\n",
       "      <td>Female</td>\n",
       "      <td>Food and beverages</td>\n",
       "      <td>19742.4</td>\n",
       "      <td>3</td>\n",
       "      <td>2961.36</td>\n",
       "      <td>62188.56</td>\n",
       "      <td>2019-02-20</td>\n",
       "      <td>2021-09-12 13:27:00</td>\n",
       "      <td>Card</td>\n",
       "      <td>59227.2</td>\n",
       "      <td>4.761905</td>\n",
       "      <td>2961.36</td>\n",
       "      <td>5.9</td>\n",
       "      <td>20</td>\n",
       "      <td>2</td>\n",
       "      <td>2019</td>\n",
       "      <td>13</td>\n",
       "    </tr>\n",
       "    <tr>\n",
       "      <th>1</th>\n",
       "      <td>351-62-0822</td>\n",
       "      <td>B</td>\n",
       "      <td>Abuja</td>\n",
       "      <td>Member</td>\n",
       "      <td>Female</td>\n",
       "      <td>Fashion accessories</td>\n",
       "      <td>5212.8</td>\n",
       "      <td>4</td>\n",
       "      <td>1042.56</td>\n",
       "      <td>21893.76</td>\n",
       "      <td>2019-02-06</td>\n",
       "      <td>2021-09-12 18:07:00</td>\n",
       "      <td>Epay</td>\n",
       "      <td>20851.2</td>\n",
       "      <td>4.761905</td>\n",
       "      <td>1042.56</td>\n",
       "      <td>4.5</td>\n",
       "      <td>6</td>\n",
       "      <td>2</td>\n",
       "      <td>2019</td>\n",
       "      <td>18</td>\n",
       "    </tr>\n",
       "    <tr>\n",
       "      <th>2</th>\n",
       "      <td>529-56-3974</td>\n",
       "      <td>B</td>\n",
       "      <td>Abuja</td>\n",
       "      <td>Member</td>\n",
       "      <td>Male</td>\n",
       "      <td>Electronic accessories</td>\n",
       "      <td>9183.6</td>\n",
       "      <td>4</td>\n",
       "      <td>1836.72</td>\n",
       "      <td>38571.12</td>\n",
       "      <td>2019-03-09</td>\n",
       "      <td>2021-09-12 17:03:00</td>\n",
       "      <td>Cash</td>\n",
       "      <td>36734.4</td>\n",
       "      <td>4.761905</td>\n",
       "      <td>1836.72</td>\n",
       "      <td>6.8</td>\n",
       "      <td>9</td>\n",
       "      <td>3</td>\n",
       "      <td>2019</td>\n",
       "      <td>17</td>\n",
       "    </tr>\n",
       "    <tr>\n",
       "      <th>3</th>\n",
       "      <td>299-46-1805</td>\n",
       "      <td>B</td>\n",
       "      <td>Abuja</td>\n",
       "      <td>Member</td>\n",
       "      <td>Female</td>\n",
       "      <td>Sports and travel</td>\n",
       "      <td>33739.2</td>\n",
       "      <td>6</td>\n",
       "      <td>10121.76</td>\n",
       "      <td>212556.96</td>\n",
       "      <td>2019-01-15</td>\n",
       "      <td>2021-09-12 16:19:00</td>\n",
       "      <td>Cash</td>\n",
       "      <td>202435.2</td>\n",
       "      <td>4.761905</td>\n",
       "      <td>10121.76</td>\n",
       "      <td>4.5</td>\n",
       "      <td>15</td>\n",
       "      <td>1</td>\n",
       "      <td>2019</td>\n",
       "      <td>16</td>\n",
       "    </tr>\n",
       "    <tr>\n",
       "      <th>4</th>\n",
       "      <td>319-50-3348</td>\n",
       "      <td>B</td>\n",
       "      <td>Abuja</td>\n",
       "      <td>Normal</td>\n",
       "      <td>Female</td>\n",
       "      <td>Home and lifestyle</td>\n",
       "      <td>14508.0</td>\n",
       "      <td>2</td>\n",
       "      <td>1450.80</td>\n",
       "      <td>30466.80</td>\n",
       "      <td>2019-03-11</td>\n",
       "      <td>2021-09-12 15:30:00</td>\n",
       "      <td>Epay</td>\n",
       "      <td>29016.0</td>\n",
       "      <td>4.761905</td>\n",
       "      <td>1450.80</td>\n",
       "      <td>4.4</td>\n",
       "      <td>11</td>\n",
       "      <td>3</td>\n",
       "      <td>2019</td>\n",
       "      <td>15</td>\n",
       "    </tr>\n",
       "  </tbody>\n",
       "</table>\n",
       "</div>"
      ],
      "text/plain": [
       "    Invoice ID Branch   City Customer type  Gender            Product line  \\\n",
       "0  692-92-5582      B  Abuja        Member  Female      Food and beverages   \n",
       "1  351-62-0822      B  Abuja        Member  Female     Fashion accessories   \n",
       "2  529-56-3974      B  Abuja        Member    Male  Electronic accessories   \n",
       "3  299-46-1805      B  Abuja        Member  Female       Sports and travel   \n",
       "4  319-50-3348      B  Abuja        Normal  Female      Home and lifestyle   \n",
       "\n",
       "   Unit price  Quantity    Tax 5%      Total       Date                Time  \\\n",
       "0     19742.4         3   2961.36   62188.56 2019-02-20 2021-09-12 13:27:00   \n",
       "1      5212.8         4   1042.56   21893.76 2019-02-06 2021-09-12 18:07:00   \n",
       "2      9183.6         4   1836.72   38571.12 2019-03-09 2021-09-12 17:03:00   \n",
       "3     33739.2         6  10121.76  212556.96 2019-01-15 2021-09-12 16:19:00   \n",
       "4     14508.0         2   1450.80   30466.80 2019-03-11 2021-09-12 15:30:00   \n",
       "\n",
       "  Payment      cogs  gross margin percentage  gross income  Rating  Day  \\\n",
       "0    Card   59227.2                 4.761905       2961.36     5.9   20   \n",
       "1    Epay   20851.2                 4.761905       1042.56     4.5    6   \n",
       "2    Cash   36734.4                 4.761905       1836.72     6.8    9   \n",
       "3    Cash  202435.2                 4.761905      10121.76     4.5   15   \n",
       "4    Epay   29016.0                 4.761905       1450.80     4.4   11   \n",
       "\n",
       "   Month  Year  Hour  \n",
       "0      2  2019    13  \n",
       "1      2  2019    18  \n",
       "2      3  2019    17  \n",
       "3      1  2019    16  \n",
       "4      3  2019    15  "
      ]
     },
     "execution_count": 20,
     "metadata": {},
     "output_type": "execute_result"
    }
   ],
   "source": [
    "xyz.head()"
   ]
  },
  {
   "attachments": {},
   "cell_type": "markdown",
   "metadata": {},
   "source": [
    "####  From the hours information, determine the numbers of unique hours of sales in the supermarket, and return an array of the hours using the unique() method"
   ]
  },
  {
   "cell_type": "code",
   "execution_count": 21,
   "metadata": {},
   "outputs": [
    {
     "data": {
      "text/plain": [
       "array([13, 18, 17, 16, 15, 10, 12, 19, 14, 11, 20])"
      ]
     },
     "execution_count": 21,
     "metadata": {},
     "output_type": "execute_result"
    }
   ],
   "source": [
    "xyz['Hour'].unique()"
   ]
  },
  {
   "cell_type": "code",
   "execution_count": 22,
   "metadata": {},
   "outputs": [
    {
     "data": {
      "text/plain": [
       "11"
      ]
     },
     "execution_count": 22,
     "metadata": {},
     "output_type": "execute_result"
    }
   ],
   "source": [
    "xyz['Hour'].nunique()"
   ]
  },
  {
   "cell_type": "markdown",
   "metadata": {},
   "source": [
    "## Step 4 - Unique Values in Columns"
   ]
  },
  {
   "cell_type": "markdown",
   "metadata": {},
   "source": [
    "With the line of code below, we can get a list of the categorical column in the dataset. We iterate through the columns and check if each element is an object datatype. The result is saved to the \"categorical_columns\" variable\n",
    "as a list."
   ]
  },
  {
   "cell_type": "code",
   "execution_count": 23,
   "metadata": {},
   "outputs": [
    {
     "data": {
      "text/plain": [
       "['Invoice ID',\n",
       " 'Branch',\n",
       " 'City',\n",
       " 'Customer type',\n",
       " 'Gender',\n",
       " 'Product line',\n",
       " 'Payment']"
      ]
     },
     "execution_count": 23,
     "metadata": {},
     "output_type": "execute_result"
    }
   ],
   "source": [
    "cat_col = [col for col in xyz.columns if xyz[col].dtype == 'object']\n",
    "cat_col"
   ]
  },
  {
   "attachments": {},
   "cell_type": "markdown",
   "metadata": {},
   "source": [
    "#### From the information above, generate the unique values in the categorical columns (apart from the example - Branch column)."
   ]
  },
  {
   "cell_type": "code",
   "execution_count": 24,
   "metadata": {},
   "outputs": [
    {
     "data": {
      "text/plain": [
       "['B', 'C', 'A']"
      ]
     },
     "execution_count": 24,
     "metadata": {},
     "output_type": "execute_result"
    }
   ],
   "source": [
    "#Example - Uncomment the Code and Run it\n",
    "xyz['Branch'].unique().tolist()"
   ]
  },
  {
   "cell_type": "code",
   "execution_count": 25,
   "metadata": {},
   "outputs": [
    {
     "name": "stdout",
     "output_type": "stream",
     "text": [
      "Total Number of unique values in the Branch Column : 3\n"
     ]
    }
   ],
   "source": [
    "print(\"Total Number of unique values in the Branch Column : {}\". format(len(xyz['Branch'].unique().tolist())))"
   ]
  },
  {
   "attachments": {},
   "cell_type": "markdown",
   "metadata": {},
   "source": [
    "####  `value_counts()` function is used to get a Series containing counts of unique values. "
   ]
  },
  {
   "cell_type": "code",
   "execution_count": 26,
   "metadata": {},
   "outputs": [
    {
     "data": {
      "text/plain": [
       "Fashion accessories       178\n",
       "Food and beverages        174\n",
       "Electronic accessories    170\n",
       "Sports and travel         166\n",
       "Home and lifestyle        160\n",
       "Health and beauty         152\n",
       "Name: Product line, dtype: int64"
      ]
     },
     "execution_count": 26,
     "metadata": {},
     "output_type": "execute_result"
    }
   ],
   "source": [
    "xyz['Product line'].value_counts()"
   ]
  },
  {
   "cell_type": "code",
   "execution_count": 27,
   "metadata": {},
   "outputs": [
    {
     "data": {
      "text/plain": [
       "Member    501\n",
       "Normal    499\n",
       "Name: Customer type, dtype: int64"
      ]
     },
     "execution_count": 27,
     "metadata": {},
     "output_type": "execute_result"
    }
   ],
   "source": [
    "xyz['Customer type'].value_counts()"
   ]
  },
  {
   "cell_type": "markdown",
   "metadata": {},
   "source": [
    "## Step 5 - Aggregration with GroupBy"
   ]
  },
  {
   "cell_type": "code",
   "execution_count": 28,
   "metadata": {},
   "outputs": [
    {
     "data": {
      "text/html": [
       "<div>\n",
       "<style scoped>\n",
       "    .dataframe tbody tr th:only-of-type {\n",
       "        vertical-align: middle;\n",
       "    }\n",
       "\n",
       "    .dataframe tbody tr th {\n",
       "        vertical-align: top;\n",
       "    }\n",
       "\n",
       "    .dataframe thead th {\n",
       "        text-align: right;\n",
       "    }\n",
       "</style>\n",
       "<table border=\"1\" class=\"dataframe\">\n",
       "  <thead>\n",
       "    <tr style=\"text-align: right;\">\n",
       "      <th></th>\n",
       "      <th>Unit price</th>\n",
       "      <th>Quantity</th>\n",
       "      <th>Tax 5%</th>\n",
       "      <th>Total</th>\n",
       "      <th>cogs</th>\n",
       "      <th>gross margin percentage</th>\n",
       "      <th>gross income</th>\n",
       "      <th>Rating</th>\n",
       "      <th>Day</th>\n",
       "      <th>Month</th>\n",
       "      <th>Year</th>\n",
       "      <th>Hour</th>\n",
       "    </tr>\n",
       "    <tr>\n",
       "      <th>City</th>\n",
       "      <th></th>\n",
       "      <th></th>\n",
       "      <th></th>\n",
       "      <th></th>\n",
       "      <th></th>\n",
       "      <th></th>\n",
       "      <th></th>\n",
       "      <th></th>\n",
       "      <th></th>\n",
       "      <th></th>\n",
       "      <th></th>\n",
       "      <th></th>\n",
       "    </tr>\n",
       "  </thead>\n",
       "  <tbody>\n",
       "    <tr>\n",
       "      <th>Abuja</th>\n",
       "      <td>6652396.8</td>\n",
       "      <td>1820</td>\n",
       "      <td>1820531.52</td>\n",
       "      <td>38231161.92</td>\n",
       "      <td>36410630.4</td>\n",
       "      <td>1580.952381</td>\n",
       "      <td>1820531.52</td>\n",
       "      <td>2263.6</td>\n",
       "      <td>5068</td>\n",
       "      <td>665</td>\n",
       "      <td>670308</td>\n",
       "      <td>5029</td>\n",
       "    </tr>\n",
       "    <tr>\n",
       "      <th>Lagos</th>\n",
       "      <td>6705176.4</td>\n",
       "      <td>1859</td>\n",
       "      <td>1820577.78</td>\n",
       "      <td>38232133.38</td>\n",
       "      <td>36411555.6</td>\n",
       "      <td>1619.047619</td>\n",
       "      <td>1820577.78</td>\n",
       "      <td>2389.2</td>\n",
       "      <td>5232</td>\n",
       "      <td>688</td>\n",
       "      <td>686460</td>\n",
       "      <td>4987</td>\n",
       "    </tr>\n",
       "    <tr>\n",
       "      <th>Port Harcourt</th>\n",
       "      <td>6684393.6</td>\n",
       "      <td>1831</td>\n",
       "      <td>1895463.54</td>\n",
       "      <td>39804734.34</td>\n",
       "      <td>37909270.8</td>\n",
       "      <td>1561.904762</td>\n",
       "      <td>1895463.54</td>\n",
       "      <td>2319.9</td>\n",
       "      <td>4956</td>\n",
       "      <td>640</td>\n",
       "      <td>662232</td>\n",
       "      <td>4894</td>\n",
       "    </tr>\n",
       "  </tbody>\n",
       "</table>\n",
       "</div>"
      ],
      "text/plain": [
       "               Unit price  Quantity      Tax 5%        Total        cogs  \\\n",
       "City                                                                       \n",
       "Abuja           6652396.8      1820  1820531.52  38231161.92  36410630.4   \n",
       "Lagos           6705176.4      1859  1820577.78  38232133.38  36411555.6   \n",
       "Port Harcourt   6684393.6      1831  1895463.54  39804734.34  37909270.8   \n",
       "\n",
       "               gross margin percentage  gross income  Rating   Day  Month  \\\n",
       "City                                                                        \n",
       "Abuja                      1580.952381    1820531.52  2263.6  5068    665   \n",
       "Lagos                      1619.047619    1820577.78  2389.2  5232    688   \n",
       "Port Harcourt              1561.904762    1895463.54  2319.9  4956    640   \n",
       "\n",
       "                 Year  Hour  \n",
       "City                         \n",
       "Abuja          670308  5029  \n",
       "Lagos          686460  4987  \n",
       "Port Harcourt  662232  4894  "
      ]
     },
     "execution_count": 28,
     "metadata": {},
     "output_type": "execute_result"
    }
   ],
   "source": [
    "xyz.groupby('City').sum()"
   ]
  },
  {
   "cell_type": "code",
   "execution_count": 29,
   "metadata": {},
   "outputs": [
    {
     "data": {
      "text/html": [
       "<div>\n",
       "<style scoped>\n",
       "    .dataframe tbody tr th:only-of-type {\n",
       "        vertical-align: middle;\n",
       "    }\n",
       "\n",
       "    .dataframe tbody tr th {\n",
       "        vertical-align: top;\n",
       "    }\n",
       "\n",
       "    .dataframe thead th {\n",
       "        text-align: right;\n",
       "    }\n",
       "</style>\n",
       "<table border=\"1\" class=\"dataframe\">\n",
       "  <thead>\n",
       "    <tr style=\"text-align: right;\">\n",
       "      <th></th>\n",
       "      <th>Unit price</th>\n",
       "      <th>Quantity</th>\n",
       "      <th>Tax 5%</th>\n",
       "      <th>Total</th>\n",
       "      <th>cogs</th>\n",
       "      <th>gross margin percentage</th>\n",
       "      <th>gross income</th>\n",
       "      <th>Rating</th>\n",
       "      <th>Day</th>\n",
       "      <th>Month</th>\n",
       "      <th>Year</th>\n",
       "      <th>Hour</th>\n",
       "    </tr>\n",
       "    <tr>\n",
       "      <th>City</th>\n",
       "      <th></th>\n",
       "      <th></th>\n",
       "      <th></th>\n",
       "      <th></th>\n",
       "      <th></th>\n",
       "      <th></th>\n",
       "      <th></th>\n",
       "      <th></th>\n",
       "      <th></th>\n",
       "      <th></th>\n",
       "      <th></th>\n",
       "      <th></th>\n",
       "    </tr>\n",
       "  </thead>\n",
       "  <tbody>\n",
       "    <tr>\n",
       "      <th>Abuja</th>\n",
       "      <td>20037.339759</td>\n",
       "      <td>5.481928</td>\n",
       "      <td>5483.528675</td>\n",
       "      <td>115154.102169</td>\n",
       "      <td>109670.573494</td>\n",
       "      <td>4.761905</td>\n",
       "      <td>5483.528675</td>\n",
       "      <td>6.818072</td>\n",
       "      <td>15.265060</td>\n",
       "      <td>2.003012</td>\n",
       "      <td>2019.0</td>\n",
       "      <td>15.147590</td>\n",
       "    </tr>\n",
       "    <tr>\n",
       "      <th>Lagos</th>\n",
       "      <td>19721.107059</td>\n",
       "      <td>5.467647</td>\n",
       "      <td>5354.640529</td>\n",
       "      <td>112447.451118</td>\n",
       "      <td>107092.810588</td>\n",
       "      <td>4.761905</td>\n",
       "      <td>5354.640529</td>\n",
       "      <td>7.027059</td>\n",
       "      <td>15.388235</td>\n",
       "      <td>2.023529</td>\n",
       "      <td>2019.0</td>\n",
       "      <td>14.667647</td>\n",
       "    </tr>\n",
       "    <tr>\n",
       "      <th>Port Harcourt</th>\n",
       "      <td>20379.248780</td>\n",
       "      <td>5.582317</td>\n",
       "      <td>5778.852256</td>\n",
       "      <td>121355.897378</td>\n",
       "      <td>115577.045122</td>\n",
       "      <td>4.761905</td>\n",
       "      <td>5778.852256</td>\n",
       "      <td>7.072866</td>\n",
       "      <td>15.109756</td>\n",
       "      <td>1.951220</td>\n",
       "      <td>2019.0</td>\n",
       "      <td>14.920732</td>\n",
       "    </tr>\n",
       "  </tbody>\n",
       "</table>\n",
       "</div>"
      ],
      "text/plain": [
       "                 Unit price  Quantity       Tax 5%          Total  \\\n",
       "City                                                                \n",
       "Abuja          20037.339759  5.481928  5483.528675  115154.102169   \n",
       "Lagos          19721.107059  5.467647  5354.640529  112447.451118   \n",
       "Port Harcourt  20379.248780  5.582317  5778.852256  121355.897378   \n",
       "\n",
       "                        cogs  gross margin percentage  gross income    Rating  \\\n",
       "City                                                                            \n",
       "Abuja          109670.573494                 4.761905   5483.528675  6.818072   \n",
       "Lagos          107092.810588                 4.761905   5354.640529  7.027059   \n",
       "Port Harcourt  115577.045122                 4.761905   5778.852256  7.072866   \n",
       "\n",
       "                     Day     Month    Year       Hour  \n",
       "City                                                   \n",
       "Abuja          15.265060  2.003012  2019.0  15.147590  \n",
       "Lagos          15.388235  2.023529  2019.0  14.667647  \n",
       "Port Harcourt  15.109756  1.951220  2019.0  14.920732  "
      ]
     },
     "execution_count": 29,
     "metadata": {},
     "output_type": "execute_result"
    }
   ],
   "source": [
    "xyz.groupby('City').mean()"
   ]
  },
  {
   "attachments": {},
   "cell_type": "markdown",
   "metadata": {},
   "source": [
    "####  Using the groupby object, display a table that shows the gross income of each city, and determine the city with the highest total gross income."
   ]
  },
  {
   "cell_type": "code",
   "execution_count": 30,
   "metadata": {},
   "outputs": [
    {
     "data": {
      "text/html": [
       "<div>\n",
       "<style scoped>\n",
       "    .dataframe tbody tr th:only-of-type {\n",
       "        vertical-align: middle;\n",
       "    }\n",
       "\n",
       "    .dataframe tbody tr th {\n",
       "        vertical-align: top;\n",
       "    }\n",
       "\n",
       "    .dataframe thead th {\n",
       "        text-align: right;\n",
       "    }\n",
       "</style>\n",
       "<table border=\"1\" class=\"dataframe\">\n",
       "  <thead>\n",
       "    <tr style=\"text-align: right;\">\n",
       "      <th></th>\n",
       "      <th>sum</th>\n",
       "    </tr>\n",
       "    <tr>\n",
       "      <th>City</th>\n",
       "      <th></th>\n",
       "    </tr>\n",
       "  </thead>\n",
       "  <tbody>\n",
       "    <tr>\n",
       "      <th>Abuja</th>\n",
       "      <td>1820531.52</td>\n",
       "    </tr>\n",
       "    <tr>\n",
       "      <th>Lagos</th>\n",
       "      <td>1820577.78</td>\n",
       "    </tr>\n",
       "    <tr>\n",
       "      <th>Port Harcourt</th>\n",
       "      <td>1895463.54</td>\n",
       "    </tr>\n",
       "  </tbody>\n",
       "</table>\n",
       "</div>"
      ],
      "text/plain": [
       "                      sum\n",
       "City                     \n",
       "Abuja          1820531.52\n",
       "Lagos          1820577.78\n",
       "Port Harcourt  1895463.54"
      ]
     },
     "execution_count": 30,
     "metadata": {},
     "output_type": "execute_result"
    }
   ],
   "source": [
    "xyz.groupby('City')['gross income'].agg(['sum'])"
   ]
  },
  {
   "cell_type": "markdown",
   "metadata": {},
   "source": [
    "Port Harcourt have the highest gross income"
   ]
  },
  {
   "cell_type": "markdown",
   "metadata": {},
   "source": [
    "## Step 6 - Data Visualization"
   ]
  },
  {
   "attachments": {},
   "cell_type": "markdown",
   "metadata": {},
   "source": [
    "#### Using `countplot`, determine the branch with the highest sales record."
   ]
  },
  {
   "cell_type": "code",
   "execution_count": 31,
   "metadata": {
    "scrolled": true
   },
   "outputs": [
    {
     "data": {
      "image/png": "[encoded data removed]",
      "text/plain": [
       "<Figure size 288x360 with 1 Axes>"
      ]
     },
     "metadata": {},
     "output_type": "display_data"
    }
   ],
   "source": [
    "sns.catplot(x='Branch', data = xyz, kind= 'count', height=5, aspect=.8);"
   ]
  },
  {
   "cell_type": "markdown",
   "metadata": {},
   "source": [
    "The branch with the highest sales is A"
   ]
  },
  {
   "cell_type": "code",
   "execution_count": 32,
   "metadata": {},
   "outputs": [
    {
     "data": {
      "image/png": "[encoded data removed]",
      "text/plain": [
       "<Figure size 403.075x360 with 1 Axes>"
      ]
     },
     "metadata": {},
     "output_type": "display_data"
    }
   ],
   "source": [
    "sns.catplot(x ='City', hue='Customer type', data = xyz, kind= 'count', height=5, aspect=.8);"
   ]
  },
  {
   "cell_type": "markdown",
   "metadata": {},
   "source": [
    "#### Explore a countplot for the Payment and City Column"
   ]
  },
  {
   "cell_type": "code",
   "execution_count": 33,
   "metadata": {},
   "outputs": [
    {
     "data": {
      "image/png": "[encoded data removed]",
      "text/plain": [
       "<Figure size 445.025x360 with 1 Axes>"
      ]
     },
     "metadata": {},
     "output_type": "display_data"
    }
   ],
   "source": [
    "sns.catplot(x ='City', hue='Payment', data = xyz, kind= 'count', height=5, aspect=1);"
   ]
  },
  {
   "cell_type": "markdown",
   "metadata": {},
   "source": [
    "Majority of customers at Abuja use Epay\n",
    "\n",
    "Majority of customers at PH use Cash\n",
    "\n",
    "Majority of customers at Lagos use Epay"
   ]
  },
  {
   "cell_type": "code",
   "execution_count": 34,
   "metadata": {},
   "outputs": [
    {
     "data": {
      "image/png": "[encoded data removed]",
      "text/plain": [
       "<Figure size 461.15x360 with 1 Axes>"
      ]
     },
     "metadata": {},
     "output_type": "display_data"
    }
   ],
   "source": [
    "sns.catplot(x ='City', hue='Gender', data = xyz, kind= 'count', height=5, aspect=1);"
   ]
  },
  {
   "cell_type": "markdown",
   "metadata": {},
   "source": [
    "Shows the most patronizing Gender in each City"
   ]
  },
  {
   "attachments": {},
   "cell_type": "markdown",
   "metadata": {},
   "source": [
    "#### Determine the highest & lowest sold product line, using Countplot "
   ]
  },
  {
   "cell_type": "code",
   "execution_count": 35,
   "metadata": {},
   "outputs": [
    {
     "data": {
      "image/png": "[encoded data removed]",
      "text/plain": [
       "<Figure size 1080x360 with 1 Axes>"
      ]
     },
     "metadata": {},
     "output_type": "display_data"
    }
   ],
   "source": [
    "sns.catplot(x='Product line', data = xyz, kind= 'count', height=5, aspect=3);"
   ]
  },
  {
   "cell_type": "markdown",
   "metadata": {},
   "source": [
    "Product with the highest sales is Fashion accesories\n",
    "\n",
    "Product with the lowest sales is Health and beauty"
   ]
  },
  {
   "attachments": {},
   "cell_type": "markdown",
   "metadata": {},
   "source": [
    "#### Determine the Payment channel used by most customer to pay for each product line. "
   ]
  },
  {
   "cell_type": "code",
   "execution_count": 36,
   "metadata": {},
   "outputs": [
    {
     "data": {
      "image/png": "[encoded data removed]",
      "text/plain": [
       "<Figure size 1165.03x360 with 1 Axes>"
      ]
     },
     "metadata": {},
     "output_type": "display_data"
    }
   ],
   "source": [
    "sns.catplot(x ='Product line', hue='Payment', data = xyz, kind='count',height=5, aspect=3);"
   ]
  },
  {
   "attachments": {},
   "cell_type": "markdown",
   "metadata": {},
   "source": [
    "#### Determine the Payment channel for each branch."
   ]
  },
  {
   "cell_type": "code",
   "execution_count": 37,
   "metadata": {},
   "outputs": [
    {
     "data": {
      "image/png": "[encoded data removed]",
      "text/plain": [
       "<Figure size 348.575x360 with 1 Axes>"
      ]
     },
     "metadata": {},
     "output_type": "display_data"
    }
   ],
   "source": [
    "sns.catplot(x ='Payment', hue='Branch', data = xyz, kind= 'count', height=5, aspect=.8);"
   ]
  },
  {
   "attachments": {},
   "cell_type": "markdown",
   "metadata": {},
   "source": [
    "#### Determine the branch with the lowest rating. "
   ]
  },
  {
   "cell_type": "code",
   "execution_count": 38,
   "metadata": {
    "scrolled": true
   },
   "outputs": [
    {
     "data": {
      "image/png": "[encoded data removed]",
      "text/plain": [
       "<Figure size 719.65x576 with 1 Axes>"
      ]
     },
     "metadata": {},
     "output_type": "display_data"
    }
   ],
   "source": [
    "sns.catplot(x=\"Branch\", y=\"Rating\", hue= 'City', data=xyz, kind='box',height=8, linewidth=1.5, palette= 'Set1')\n",
    "sns.swarmplot(x=\"Branch\", y=\"Rating\", data=xyz, color=\".25\");"
   ]
  },
  {
   "cell_type": "code",
   "execution_count": 39,
   "metadata": {},
   "outputs": [
    {
     "data": {
      "text/html": [
       "        <script type=\"text/javascript\">\n",
       "        window.PlotlyConfig = {MathJaxConfig: 'local'};\n",
       "        if (window.MathJax) {MathJax.Hub.Config({SVG: {font: \"STIX-Web\"}});}\n",
       "        if (typeof require !== 'undefined') {\n",
       "        require.undef(\"plotly\");\n",
       "        requirejs.config({\n",
       "            paths: {\n",
       "                'plotly': ['https://cdn.plot.ly/plotly-2.4.1.min']\n",
       "            }\n",
       "        });\n",
       "        require(['plotly'], function(Plotly) {\n",
       "            window._Plotly = Plotly;\n",
       "        });\n",
       "        }\n",
       "        </script>\n",
       "        "
      ]
     },
     "metadata": {},
     "output_type": "display_data"
    },
    {
     "data": {
      "text/html": [
       "        <script type=\"text/javascript\">\n",
       "        window.PlotlyConfig = {MathJaxConfig: 'local'};\n",
       "        if (window.MathJax) {MathJax.Hub.Config({SVG: {font: \"STIX-Web\"}});}\n",
       "        if (typeof require !== 'undefined') {\n",
       "        require.undef(\"plotly\");\n",
       "        requirejs.config({\n",
       "            paths: {\n",
       "                'plotly': ['https://cdn.plot.ly/plotly-2.4.1.min']\n",
       "            }\n",
       "        });\n",
       "        require(['plotly'], function(Plotly) {\n",
       "            window._Plotly = Plotly;\n",
       "        });\n",
       "        }\n",
       "        </script>\n",
       "        "
      ]
     },
     "metadata": {},
     "output_type": "display_data"
    },
    {
     "data": {
      "application/vnd.plotly.v1+json": {
       "config": {
        "plotlyServerURL": "https://plot.ly"
       },
       "data": [
        {
         "alignmentgroup": "True",
         "boxpoints": "all",
         "customdata": [
          [
           "Abuja"
          ],
          [
           "Abuja"
          ],
          [
           "Abuja"
          ],
          [
           "Abuja"
          ],
          [
           "Abuja"
          ],
          [
           "Abuja"
          ],
          [
           "Abuja"
          ],
          [
           "Abuja"
          ],
          [
           "Abuja"
          ],
          [
           "Abuja"
          ],
          [
           "Abuja"
          ],
          [
           "Abuja"
          ],
          [
           "Abuja"
          ],
          [
           "Abuja"
          ],
          [
           "Abuja"
          ],
          [
           "Abuja"
          ],
          [
           "Abuja"
          ],
          [
           "Abuja"
          ],
          [
           "Abuja"
          ],
          [
           "Abuja"
          ],
          [
           "Abuja"
          ],
          [
           "Abuja"
          ],
          [
           "Abuja"
          ],
          [
           "Abuja"
          ],
          [
           "Abuja"
          ],
          [
           "Abuja"
          ],
          [
           "Abuja"
          ],
          [
           "Abuja"
          ],
          [
           "Abuja"
          ],
          [
           "Abuja"
          ],
          [
           "Abuja"
          ],
          [
           "Abuja"
          ],
          [
           "Abuja"
          ],
          [
           "Abuja"
          ],
          [
           "Abuja"
          ],
          [
           "Abuja"
          ],
          [
           "Abuja"
          ],
          [
           "Abuja"
          ],
          [
           "Abuja"
          ],
          [
           "Abuja"
          ],
          [
           "Abuja"
          ],
          [
           "Abuja"
          ],
          [
           "Abuja"
          ],
          [
           "Abuja"
          ],
          [
           "Abuja"
          ],
          [
           "Abuja"
          ],
          [
           "Abuja"
          ],
          [
           "Abuja"
          ],
          [
           "Abuja"
          ],
          [
           "Abuja"
          ],
          [
           "Abuja"
          ],
          [
           "Abuja"
          ],
          [
           "Abuja"
          ],
          [
           "Abuja"
          ],
          [
           "Abuja"
          ],
          [
           "Abuja"
          ],
          [
           "Abuja"
          ],
          [
           "Abuja"
          ],
          [
           "Abuja"
          ],
          [
           "Abuja"
          ],
          [
           "Abuja"
          ],
          [
           "Abuja"
          ],
          [
           "Abuja"
          ],
          [
           "Abuja"
          ],
          [
           "Abuja"
          ],
          [
           "Abuja"
          ],
          [
           "Abuja"
          ],
          [
           "Abuja"
          ],
          [
           "Abuja"
          ],
          [
           "Abuja"
          ],
          [
           "Abuja"
          ],
          [
           "Abuja"
          ],
          [
           "Abuja"
          ],
          [
           "Abuja"
          ],
          [
           "Abuja"
          ],
          [
           "Abuja"
          ],
          [
           "Abuja"
          ],
          [
           "Abuja"
          ],
          [
           "Abuja"
          ],
          [
           "Abuja"
          ],
          [
           "Abuja"
          ],
          [
           "Abuja"
          ],
          [
           "Abuja"
          ],
          [
           "Abuja"
          ],
          [
           "Abuja"
          ],
          [
           "Abuja"
          ],
          [
           "Abuja"
          ],
          [
           "Abuja"
          ],
          [
           "Abuja"
          ],
          [
           "Abuja"
          ],
          [
           "Abuja"
          ],
          [
           "Abuja"
          ],
          [
           "Abuja"
          ],
          [
           "Abuja"
          ],
          [
           "Abuja"
          ],
          [
           "Abuja"
          ],
          [
           "Abuja"
          ],
          [
           "Abuja"
          ],
          [
           "Abuja"
          ],
          [
           "Abuja"
          ],
          [
           "Abuja"
          ],
          [
           "Abuja"
          ],
          [
           "Abuja"
          ],
          [
           "Abuja"
          ],
          [
           "Abuja"
          ],
          [
           "Abuja"
          ],
          [
           "Abuja"
          ],
          [
           "Abuja"
          ],
          [
           "Abuja"
          ],
          [
           "Abuja"
          ],
          [
           "Abuja"
          ],
          [
           "Abuja"
          ],
          [
           "Abuja"
          ],
          [
           "Abuja"
          ],
          [
           "Abuja"
          ],
          [
           "Abuja"
          ],
          [
           "Abuja"
          ],
          [
           "Abuja"
          ],
          [
           "Abuja"
          ],
          [
           "Abuja"
          ],
          [
           "Abuja"
          ],
          [
           "Abuja"
          ],
          [
           "Abuja"
          ],
          [
           "Abuja"
          ],
          [
           "Abuja"
          ],
          [
           "Abuja"
          ],
          [
           "Abuja"
          ],
          [
           "Abuja"
          ],
          [
           "Abuja"
          ],
          [
           "Abuja"
          ],
          [
           "Abuja"
          ],
          [
           "Abuja"
          ],
          [
           "Abuja"
          ],
          [
           "Abuja"
          ],
          [
           "Abuja"
          ],
          [
           "Abuja"
          ],
          [
           "Abuja"
          ],
          [
           "Abuja"
          ],
          [
           "Abuja"
          ],
          [
           "Abuja"
          ],
          [
           "Abuja"
          ],
          [
           "Abuja"
          ],
          [
           "Abuja"
          ],
          [
           "Abuja"
          ],
          [
           "Abuja"
          ],
          [
           "Abuja"
          ],
          [
           "Abuja"
          ],
          [
           "Abuja"
          ],
          [
           "Abuja"
          ],
          [
           "Abuja"
          ],
          [
           "Abuja"
          ],
          [
           "Abuja"
          ],
          [
           "Abuja"
          ],
          [
           "Abuja"
          ],
          [
           "Abuja"
          ],
          [
           "Abuja"
          ],
          [
           "Abuja"
          ],
          [
           "Abuja"
          ],
          [
           "Abuja"
          ],
          [
           "Abuja"
          ],
          [
           "Abuja"
          ],
          [
           "Abuja"
          ],
          [
           "Abuja"
          ],
          [
           "Abuja"
          ],
          [
           "Abuja"
          ],
          [
           "Abuja"
          ],
          [
           "Abuja"
          ],
          [
           "Abuja"
          ],
          [
           "Abuja"
          ],
          [
           "Abuja"
          ],
          [
           "Abuja"
          ],
          [
           "Abuja"
          ],
          [
           "Abuja"
          ],
          [
           "Abuja"
          ],
          [
           "Abuja"
          ],
          [
           "Abuja"
          ],
          [
           "Abuja"
          ],
          [
           "Abuja"
          ],
          [
           "Abuja"
          ],
          [
           "Abuja"
          ],
          [
           "Abuja"
          ],
          [
           "Abuja"
          ],
          [
           "Abuja"
          ],
          [
           "Abuja"
          ],
          [
           "Abuja"
          ],
          [
           "Abuja"
          ],
          [
           "Abuja"
          ],
          [
           "Abuja"
          ],
          [
           "Abuja"
          ],
          [
           "Abuja"
          ],
          [
           "Abuja"
          ],
          [
           "Abuja"
          ],
          [
           "Abuja"
          ],
          [
           "Abuja"
          ],
          [
           "Abuja"
          ],
          [
           "Abuja"
          ],
          [
           "Abuja"
          ],
          [
           "Abuja"
          ],
          [
           "Abuja"
          ],
          [
           "Abuja"
          ],
          [
           "Abuja"
          ],
          [
           "Abuja"
          ],
          [
           "Abuja"
          ],
          [
           "Abuja"
          ],
          [
           "Abuja"
          ],
          [
           "Abuja"
          ],
          [
           "Abuja"
          ],
          [
           "Abuja"
          ],
          [
           "Abuja"
          ],
          [
           "Abuja"
          ],
          [
           "Abuja"
          ],
          [
           "Abuja"
          ],
          [
           "Abuja"
          ],
          [
           "Abuja"
          ],
          [
           "Abuja"
          ],
          [
           "Abuja"
          ],
          [
           "Abuja"
          ],
          [
           "Abuja"
          ],
          [
           "Abuja"
          ],
          [
           "Abuja"
          ],
          [
           "Abuja"
          ],
          [
           "Abuja"
          ],
          [
           "Abuja"
          ],
          [
           "Abuja"
          ],
          [
           "Abuja"
          ],
          [
           "Abuja"
          ],
          [
           "Abuja"
          ],
          [
           "Abuja"
          ],
          [
           "Abuja"
          ],
          [
           "Abuja"
          ],
          [
           "Abuja"
          ],
          [
           "Abuja"
          ],
          [
           "Abuja"
          ],
          [
           "Abuja"
          ],
          [
           "Abuja"
          ],
          [
           "Abuja"
          ],
          [
           "Abuja"
          ],
          [
           "Abuja"
          ],
          [
           "Abuja"
          ],
          [
           "Abuja"
          ],
          [
           "Abuja"
          ],
          [
           "Abuja"
          ],
          [
           "Abuja"
          ],
          [
           "Abuja"
          ],
          [
           "Abuja"
          ],
          [
           "Abuja"
          ],
          [
           "Abuja"
          ],
          [
           "Abuja"
          ],
          [
           "Abuja"
          ],
          [
           "Abuja"
          ],
          [
           "Abuja"
          ],
          [
           "Abuja"
          ],
          [
           "Abuja"
          ],
          [
           "Abuja"
          ],
          [
           "Abuja"
          ],
          [
           "Abuja"
          ],
          [
           "Abuja"
          ],
          [
           "Abuja"
          ],
          [
           "Abuja"
          ],
          [
           "Abuja"
          ],
          [
           "Abuja"
          ],
          [
           "Abuja"
          ],
          [
           "Abuja"
          ],
          [
           "Abuja"
          ],
          [
           "Abuja"
          ],
          [
           "Abuja"
          ],
          [
           "Abuja"
          ],
          [
           "Abuja"
          ],
          [
           "Abuja"
          ],
          [
           "Abuja"
          ],
          [
           "Abuja"
          ],
          [
           "Abuja"
          ],
          [
           "Abuja"
          ],
          [
           "Abuja"
          ],
          [
           "Abuja"
          ],
          [
           "Abuja"
          ],
          [
           "Abuja"
          ],
          [
           "Abuja"
          ],
          [
           "Abuja"
          ],
          [
           "Abuja"
          ],
          [
           "Abuja"
          ],
          [
           "Abuja"
          ],
          [
           "Abuja"
          ],
          [
           "Abuja"
          ],
          [
           "Abuja"
          ],
          [
           "Abuja"
          ],
          [
           "Abuja"
          ],
          [
           "Abuja"
          ],
          [
           "Abuja"
          ],
          [
           "Abuja"
          ],
          [
           "Abuja"
          ],
          [
           "Abuja"
          ],
          [
           "Abuja"
          ],
          [
           "Abuja"
          ],
          [
           "Abuja"
          ],
          [
           "Abuja"
          ],
          [
           "Abuja"
          ],
          [
           "Abuja"
          ],
          [
           "Abuja"
          ],
          [
           "Abuja"
          ],
          [
           "Abuja"
          ],
          [
           "Abuja"
          ],
          [
           "Abuja"
          ],
          [
           "Abuja"
          ],
          [
           "Abuja"
          ],
          [
           "Abuja"
          ],
          [
           "Abuja"
          ],
          [
           "Abuja"
          ],
          [
           "Abuja"
          ],
          [
           "Abuja"
          ],
          [
           "Abuja"
          ],
          [
           "Abuja"
          ],
          [
           "Abuja"
          ],
          [
           "Abuja"
          ],
          [
           "Abuja"
          ],
          [
           "Abuja"
          ],
          [
           "Abuja"
          ],
          [
           "Abuja"
          ],
          [
           "Abuja"
          ],
          [
           "Abuja"
          ],
          [
           "Abuja"
          ],
          [
           "Abuja"
          ],
          [
           "Abuja"
          ],
          [
           "Abuja"
          ],
          [
           "Abuja"
          ],
          [
           "Abuja"
          ],
          [
           "Abuja"
          ],
          [
           "Abuja"
          ],
          [
           "Abuja"
          ],
          [
           "Abuja"
          ],
          [
           "Abuja"
          ],
          [
           "Abuja"
          ],
          [
           "Port Harcourt"
          ],
          [
           "Port Harcourt"
          ],
          [
           "Port Harcourt"
          ],
          [
           "Port Harcourt"
          ],
          [
           "Port Harcourt"
          ],
          [
           "Port Harcourt"
          ],
          [
           "Port Harcourt"
          ],
          [
           "Port Harcourt"
          ],
          [
           "Port Harcourt"
          ],
          [
           "Port Harcourt"
          ],
          [
           "Port Harcourt"
          ],
          [
           "Port Harcourt"
          ],
          [
           "Port Harcourt"
          ],
          [
           "Port Harcourt"
          ],
          [
           "Port Harcourt"
          ],
          [
           "Port Harcourt"
          ],
          [
           "Port Harcourt"
          ],
          [
           "Port Harcourt"
          ],
          [
           "Port Harcourt"
          ],
          [
           "Port Harcourt"
          ],
          [
           "Port Harcourt"
          ],
          [
           "Port Harcourt"
          ],
          [
           "Port Harcourt"
          ],
          [
           "Port Harcourt"
          ],
          [
           "Port Harcourt"
          ],
          [
           "Port Harcourt"
          ],
          [
           "Port Harcourt"
          ],
          [
           "Port Harcourt"
          ],
          [
           "Port Harcourt"
          ],
          [
           "Port Harcourt"
          ],
          [
           "Port Harcourt"
          ],
          [
           "Port Harcourt"
          ],
          [
           "Port Harcourt"
          ],
          [
           "Port Harcourt"
          ],
          [
           "Port Harcourt"
          ],
          [
           "Port Harcourt"
          ],
          [
           "Port Harcourt"
          ],
          [
           "Port Harcourt"
          ],
          [
           "Port Harcourt"
          ],
          [
           "Port Harcourt"
          ],
          [
           "Port Harcourt"
          ],
          [
           "Port Harcourt"
          ],
          [
           "Port Harcourt"
          ],
          [
           "Port Harcourt"
          ],
          [
           "Port Harcourt"
          ],
          [
           "Port Harcourt"
          ],
          [
           "Port Harcourt"
          ],
          [
           "Port Harcourt"
          ],
          [
           "Port Harcourt"
          ],
          [
           "Port Harcourt"
          ],
          [
           "Port Harcourt"
          ],
          [
           "Port Harcourt"
          ],
          [
           "Port Harcourt"
          ],
          [
           "Port Harcourt"
          ],
          [
           "Port Harcourt"
          ],
          [
           "Port Harcourt"
          ],
          [
           "Port Harcourt"
          ],
          [
           "Port Harcourt"
          ],
          [
           "Port Harcourt"
          ],
          [
           "Port Harcourt"
          ],
          [
           "Port Harcourt"
          ],
          [
           "Port Harcourt"
          ],
          [
           "Port Harcourt"
          ],
          [
           "Port Harcourt"
          ],
          [
           "Port Harcourt"
          ],
          [
           "Port Harcourt"
          ],
          [
           "Port Harcourt"
          ],
          [
           "Port Harcourt"
          ],
          [
           "Port Harcourt"
          ],
          [
           "Port Harcourt"
          ],
          [
           "Port Harcourt"
          ],
          [
           "Port Harcourt"
          ],
          [
           "Port Harcourt"
          ],
          [
           "Port Harcourt"
          ],
          [
           "Port Harcourt"
          ],
          [
           "Port Harcourt"
          ],
          [
           "Port Harcourt"
          ],
          [
           "Port Harcourt"
          ],
          [
           "Port Harcourt"
          ],
          [
           "Port Harcourt"
          ],
          [
           "Port Harcourt"
          ],
          [
           "Port Harcourt"
          ],
          [
           "Port Harcourt"
          ],
          [
           "Port Harcourt"
          ],
          [
           "Port Harcourt"
          ],
          [
           "Port Harcourt"
          ],
          [
           "Port Harcourt"
          ],
          [
           "Port Harcourt"
          ],
          [
           "Port Harcourt"
          ],
          [
           "Port Harcourt"
          ],
          [
           "Port Harcourt"
          ],
          [
           "Port Harcourt"
          ],
          [
           "Port Harcourt"
          ],
          [
           "Port Harcourt"
          ],
          [
           "Port Harcourt"
          ],
          [
           "Port Harcourt"
          ],
          [
           "Port Harcourt"
          ],
          [
           "Port Harcourt"
          ],
          [
           "Port Harcourt"
          ],
          [
           "Port Harcourt"
          ],
          [
           "Port Harcourt"
          ],
          [
           "Port Harcourt"
          ],
          [
           "Port Harcourt"
          ],
          [
           "Port Harcourt"
          ],
          [
           "Port Harcourt"
          ],
          [
           "Port Harcourt"
          ],
          [
           "Port Harcourt"
          ],
          [
           "Port Harcourt"
          ],
          [
           "Port Harcourt"
          ],
          [
           "Port Harcourt"
          ],
          [
           "Port Harcourt"
          ],
          [
           "Port Harcourt"
          ],
          [
           "Port Harcourt"
          ],
          [
           "Port Harcourt"
          ],
          [
           "Port Harcourt"
          ],
          [
           "Port Harcourt"
          ],
          [
           "Port Harcourt"
          ],
          [
           "Port Harcourt"
          ],
          [
           "Port Harcourt"
          ],
          [
           "Port Harcourt"
          ],
          [
           "Port Harcourt"
          ],
          [
           "Port Harcourt"
          ],
          [
           "Port Harcourt"
          ],
          [
           "Port Harcourt"
          ],
          [
           "Port Harcourt"
          ],
          [
           "Port Harcourt"
          ],
          [
           "Port Harcourt"
          ],
          [
           "Port Harcourt"
          ],
          [
           "Port Harcourt"
          ],
          [
           "Port Harcourt"
          ],
          [
           "Port Harcourt"
          ],
          [
           "Port Harcourt"
          ],
          [
           "Port Harcourt"
          ],
          [
           "Port Harcourt"
          ],
          [
           "Port Harcourt"
          ],
          [
           "Port Harcourt"
          ],
          [
           "Port Harcourt"
          ],
          [
           "Port Harcourt"
          ],
          [
           "Port Harcourt"
          ],
          [
           "Port Harcourt"
          ],
          [
           "Port Harcourt"
          ],
          [
           "Port Harcourt"
          ],
          [
           "Port Harcourt"
          ],
          [
           "Port Harcourt"
          ],
          [
           "Port Harcourt"
          ],
          [
           "Port Harcourt"
          ],
          [
           "Port Harcourt"
          ],
          [
           "Port Harcourt"
          ],
          [
           "Port Harcourt"
          ],
          [
           "Port Harcourt"
          ],
          [
           "Port Harcourt"
          ],
          [
           "Port Harcourt"
          ],
          [
           "Port Harcourt"
          ],
          [
           "Port Harcourt"
          ],
          [
           "Port Harcourt"
          ],
          [
           "Port Harcourt"
          ],
          [
           "Port Harcourt"
          ],
          [
           "Port Harcourt"
          ],
          [
           "Port Harcourt"
          ],
          [
           "Port Harcourt"
          ],
          [
           "Port Harcourt"
          ],
          [
           "Port Harcourt"
          ],
          [
           "Port Harcourt"
          ],
          [
           "Port Harcourt"
          ],
          [
           "Port Harcourt"
          ],
          [
           "Port Harcourt"
          ],
          [
           "Port Harcourt"
          ],
          [
           "Port Harcourt"
          ],
          [
           "Port Harcourt"
          ],
          [
           "Port Harcourt"
          ],
          [
           "Port Harcourt"
          ],
          [
           "Port Harcourt"
          ],
          [
           "Port Harcourt"
          ],
          [
           "Port Harcourt"
          ],
          [
           "Port Harcourt"
          ],
          [
           "Port Harcourt"
          ],
          [
           "Port Harcourt"
          ],
          [
           "Port Harcourt"
          ],
          [
           "Port Harcourt"
          ],
          [
           "Port Harcourt"
          ],
          [
           "Port Harcourt"
          ],
          [
           "Port Harcourt"
          ],
          [
           "Port Harcourt"
          ],
          [
           "Port Harcourt"
          ],
          [
           "Port Harcourt"
          ],
          [
           "Port Harcourt"
          ],
          [
           "Port Harcourt"
          ],
          [
           "Port Harcourt"
          ],
          [
           "Port Harcourt"
          ],
          [
           "Port Harcourt"
          ],
          [
           "Port Harcourt"
          ],
          [
           "Port Harcourt"
          ],
          [
           "Port Harcourt"
          ],
          [
           "Port Harcourt"
          ],
          [
           "Port Harcourt"
          ],
          [
           "Port Harcourt"
          ],
          [
           "Port Harcourt"
          ],
          [
           "Port Harcourt"
          ],
          [
           "Port Harcourt"
          ],
          [
           "Port Harcourt"
          ],
          [
           "Port Harcourt"
          ],
          [
           "Port Harcourt"
          ],
          [
           "Port Harcourt"
          ],
          [
           "Port Harcourt"
          ],
          [
           "Port Harcourt"
          ],
          [
           "Port Harcourt"
          ],
          [
           "Port Harcourt"
          ],
          [
           "Port Harcourt"
          ],
          [
           "Port Harcourt"
          ],
          [
           "Port Harcourt"
          ],
          [
           "Port Harcourt"
          ],
          [
           "Port Harcourt"
          ],
          [
           "Port Harcourt"
          ],
          [
           "Port Harcourt"
          ],
          [
           "Port Harcourt"
          ],
          [
           "Port Harcourt"
          ],
          [
           "Port Harcourt"
          ],
          [
           "Port Harcourt"
          ],
          [
           "Port Harcourt"
          ],
          [
           "Port Harcourt"
          ],
          [
           "Port Harcourt"
          ],
          [
           "Port Harcourt"
          ],
          [
           "Port Harcourt"
          ],
          [
           "Port Harcourt"
          ],
          [
           "Port Harcourt"
          ],
          [
           "Port Harcourt"
          ],
          [
           "Port Harcourt"
          ],
          [
           "Port Harcourt"
          ],
          [
           "Port Harcourt"
          ],
          [
           "Port Harcourt"
          ],
          [
           "Port Harcourt"
          ],
          [
           "Port Harcourt"
          ],
          [
           "Port Harcourt"
          ],
          [
           "Port Harcourt"
          ],
          [
           "Port Harcourt"
          ],
          [
           "Port Harcourt"
          ],
          [
           "Port Harcourt"
          ],
          [
           "Port Harcourt"
          ],
          [
           "Port Harcourt"
          ],
          [
           "Port Harcourt"
          ],
          [
           "Port Harcourt"
          ],
          [
           "Port Harcourt"
          ],
          [
           "Port Harcourt"
          ],
          [
           "Port Harcourt"
          ],
          [
           "Port Harcourt"
          ],
          [
           "Port Harcourt"
          ],
          [
           "Port Harcourt"
          ],
          [
           "Port Harcourt"
          ],
          [
           "Port Harcourt"
          ],
          [
           "Port Harcourt"
          ],
          [
           "Port Harcourt"
          ],
          [
           "Port Harcourt"
          ],
          [
           "Port Harcourt"
          ],
          [
           "Port Harcourt"
          ],
          [
           "Port Harcourt"
          ],
          [
           "Port Harcourt"
          ],
          [
           "Port Harcourt"
          ],
          [
           "Port Harcourt"
          ],
          [
           "Port Harcourt"
          ],
          [
           "Port Harcourt"
          ],
          [
           "Port Harcourt"
          ],
          [
           "Port Harcourt"
          ],
          [
           "Port Harcourt"
          ],
          [
           "Port Harcourt"
          ],
          [
           "Port Harcourt"
          ],
          [
           "Port Harcourt"
          ],
          [
           "Port Harcourt"
          ],
          [
           "Port Harcourt"
          ],
          [
           "Port Harcourt"
          ],
          [
           "Port Harcourt"
          ],
          [
           "Port Harcourt"
          ],
          [
           "Port Harcourt"
          ],
          [
           "Port Harcourt"
          ],
          [
           "Port Harcourt"
          ],
          [
           "Port Harcourt"
          ],
          [
           "Port Harcourt"
          ],
          [
           "Port Harcourt"
          ],
          [
           "Port Harcourt"
          ],
          [
           "Port Harcourt"
          ],
          [
           "Port Harcourt"
          ],
          [
           "Port Harcourt"
          ],
          [
           "Port Harcourt"
          ],
          [
           "Port Harcourt"
          ],
          [
           "Port Harcourt"
          ],
          [
           "Port Harcourt"
          ],
          [
           "Port Harcourt"
          ],
          [
           "Port Harcourt"
          ],
          [
           "Port Harcourt"
          ],
          [
           "Port Harcourt"
          ],
          [
           "Port Harcourt"
          ],
          [
           "Port Harcourt"
          ],
          [
           "Port Harcourt"
          ],
          [
           "Port Harcourt"
          ],
          [
           "Port Harcourt"
          ],
          [
           "Port Harcourt"
          ],
          [
           "Port Harcourt"
          ],
          [
           "Port Harcourt"
          ],
          [
           "Port Harcourt"
          ],
          [
           "Port Harcourt"
          ],
          [
           "Port Harcourt"
          ],
          [
           "Port Harcourt"
          ],
          [
           "Port Harcourt"
          ],
          [
           "Port Harcourt"
          ],
          [
           "Port Harcourt"
          ],
          [
           "Port Harcourt"
          ],
          [
           "Port Harcourt"
          ],
          [
           "Port Harcourt"
          ],
          [
           "Port Harcourt"
          ],
          [
           "Port Harcourt"
          ],
          [
           "Port Harcourt"
          ],
          [
           "Port Harcourt"
          ],
          [
           "Port Harcourt"
          ],
          [
           "Port Harcourt"
          ],
          [
           "Port Harcourt"
          ],
          [
           "Port Harcourt"
          ],
          [
           "Port Harcourt"
          ],
          [
           "Port Harcourt"
          ],
          [
           "Port Harcourt"
          ],
          [
           "Port Harcourt"
          ],
          [
           "Port Harcourt"
          ],
          [
           "Port Harcourt"
          ],
          [
           "Port Harcourt"
          ],
          [
           "Port Harcourt"
          ],
          [
           "Port Harcourt"
          ],
          [
           "Port Harcourt"
          ],
          [
           "Port Harcourt"
          ],
          [
           "Port Harcourt"
          ],
          [
           "Port Harcourt"
          ],
          [
           "Lagos"
          ],
          [
           "Lagos"
          ],
          [
           "Lagos"
          ],
          [
           "Lagos"
          ],
          [
           "Lagos"
          ],
          [
           "Lagos"
          ],
          [
           "Lagos"
          ],
          [
           "Lagos"
          ],
          [
           "Lagos"
          ],
          [
           "Lagos"
          ],
          [
           "Lagos"
          ],
          [
           "Lagos"
          ],
          [
           "Lagos"
          ],
          [
           "Lagos"
          ],
          [
           "Lagos"
          ],
          [
           "Lagos"
          ],
          [
           "Lagos"
          ],
          [
           "Lagos"
          ],
          [
           "Lagos"
          ],
          [
           "Lagos"
          ],
          [
           "Lagos"
          ],
          [
           "Lagos"
          ],
          [
           "Lagos"
          ],
          [
           "Lagos"
          ],
          [
           "Lagos"
          ],
          [
           "Lagos"
          ],
          [
           "Lagos"
          ],
          [
           "Lagos"
          ],
          [
           "Lagos"
          ],
          [
           "Lagos"
          ],
          [
           "Lagos"
          ],
          [
           "Lagos"
          ],
          [
           "Lagos"
          ],
          [
           "Lagos"
          ],
          [
           "Lagos"
          ],
          [
           "Lagos"
          ],
          [
           "Lagos"
          ],
          [
           "Lagos"
          ],
          [
           "Lagos"
          ],
          [
           "Lagos"
          ],
          [
           "Lagos"
          ],
          [
           "Lagos"
          ],
          [
           "Lagos"
          ],
          [
           "Lagos"
          ],
          [
           "Lagos"
          ],
          [
           "Lagos"
          ],
          [
           "Lagos"
          ],
          [
           "Lagos"
          ],
          [
           "Lagos"
          ],
          [
           "Lagos"
          ],
          [
           "Lagos"
          ],
          [
           "Lagos"
          ],
          [
           "Lagos"
          ],
          [
           "Lagos"
          ],
          [
           "Lagos"
          ],
          [
           "Lagos"
          ],
          [
           "Lagos"
          ],
          [
           "Lagos"
          ],
          [
           "Lagos"
          ],
          [
           "Lagos"
          ],
          [
           "Lagos"
          ],
          [
           "Lagos"
          ],
          [
           "Lagos"
          ],
          [
           "Lagos"
          ],
          [
           "Lagos"
          ],
          [
           "Lagos"
          ],
          [
           "Lagos"
          ],
          [
           "Lagos"
          ],
          [
           "Lagos"
          ],
          [
           "Lagos"
          ],
          [
           "Lagos"
          ],
          [
           "Lagos"
          ],
          [
           "Lagos"
          ],
          [
           "Lagos"
          ],
          [
           "Lagos"
          ],
          [
           "Lagos"
          ],
          [
           "Lagos"
          ],
          [
           "Lagos"
          ],
          [
           "Lagos"
          ],
          [
           "Lagos"
          ],
          [
           "Lagos"
          ],
          [
           "Lagos"
          ],
          [
           "Lagos"
          ],
          [
           "Lagos"
          ],
          [
           "Lagos"
          ],
          [
           "Lagos"
          ],
          [
           "Lagos"
          ],
          [
           "Lagos"
          ],
          [
           "Lagos"
          ],
          [
           "Lagos"
          ],
          [
           "Lagos"
          ],
          [
           "Lagos"
          ],
          [
           "Lagos"
          ],
          [
           "Lagos"
          ],
          [
           "Lagos"
          ],
          [
           "Lagos"
          ],
          [
           "Lagos"
          ],
          [
           "Lagos"
          ],
          [
           "Lagos"
          ],
          [
           "Lagos"
          ],
          [
           "Lagos"
          ],
          [
           "Lagos"
          ],
          [
           "Lagos"
          ],
          [
           "Lagos"
          ],
          [
           "Lagos"
          ],
          [
           "Lagos"
          ],
          [
           "Lagos"
          ],
          [
           "Lagos"
          ],
          [
           "Lagos"
          ],
          [
           "Lagos"
          ],
          [
           "Lagos"
          ],
          [
           "Lagos"
          ],
          [
           "Lagos"
          ],
          [
           "Lagos"
          ],
          [
           "Lagos"
          ],
          [
           "Lagos"
          ],
          [
           "Lagos"
          ],
          [
           "Lagos"
          ],
          [
           "Lagos"
          ],
          [
           "Lagos"
          ],
          [
           "Lagos"
          ],
          [
           "Lagos"
          ],
          [
           "Lagos"
          ],
          [
           "Lagos"
          ],
          [
           "Lagos"
          ],
          [
           "Lagos"
          ],
          [
           "Lagos"
          ],
          [
           "Lagos"
          ],
          [
           "Lagos"
          ],
          [
           "Lagos"
          ],
          [
           "Lagos"
          ],
          [
           "Lagos"
          ],
          [
           "Lagos"
          ],
          [
           "Lagos"
          ],
          [
           "Lagos"
          ],
          [
           "Lagos"
          ],
          [
           "Lagos"
          ],
          [
           "Lagos"
          ],
          [
           "Lagos"
          ],
          [
           "Lagos"
          ],
          [
           "Lagos"
          ],
          [
           "Lagos"
          ],
          [
           "Lagos"
          ],
          [
           "Lagos"
          ],
          [
           "Lagos"
          ],
          [
           "Lagos"
          ],
          [
           "Lagos"
          ],
          [
           "Lagos"
          ],
          [
           "Lagos"
          ],
          [
           "Lagos"
          ],
          [
           "Lagos"
          ],
          [
           "Lagos"
          ],
          [
           "Lagos"
          ],
          [
           "Lagos"
          ],
          [
           "Lagos"
          ],
          [
           "Lagos"
          ],
          [
           "Lagos"
          ],
          [
           "Lagos"
          ],
          [
           "Lagos"
          ],
          [
           "Lagos"
          ],
          [
           "Lagos"
          ],
          [
           "Lagos"
          ],
          [
           "Lagos"
          ],
          [
           "Lagos"
          ],
          [
           "Lagos"
          ],
          [
           "Lagos"
          ],
          [
           "Lagos"
          ],
          [
           "Lagos"
          ],
          [
           "Lagos"
          ],
          [
           "Lagos"
          ],
          [
           "Lagos"
          ],
          [
           "Lagos"
          ],
          [
           "Lagos"
          ],
          [
           "Lagos"
          ],
          [
           "Lagos"
          ],
          [
           "Lagos"
          ],
          [
           "Lagos"
          ],
          [
           "Lagos"
          ],
          [
           "Lagos"
          ],
          [
           "Lagos"
          ],
          [
           "Lagos"
          ],
          [
           "Lagos"
          ],
          [
           "Lagos"
          ],
          [
           "Lagos"
          ],
          [
           "Lagos"
          ],
          [
           "Lagos"
          ],
          [
           "Lagos"
          ],
          [
           "Lagos"
          ],
          [
           "Lagos"
          ],
          [
           "Lagos"
          ],
          [
           "Lagos"
          ],
          [
           "Lagos"
          ],
          [
           "Lagos"
          ],
          [
           "Lagos"
          ],
          [
           "Lagos"
          ],
          [
           "Lagos"
          ],
          [
           "Lagos"
          ],
          [
           "Lagos"
          ],
          [
           "Lagos"
          ],
          [
           "Lagos"
          ],
          [
           "Lagos"
          ],
          [
           "Lagos"
          ],
          [
           "Lagos"
          ],
          [
           "Lagos"
          ],
          [
           "Lagos"
          ],
          [
           "Lagos"
          ],
          [
           "Lagos"
          ],
          [
           "Lagos"
          ],
          [
           "Lagos"
          ],
          [
           "Lagos"
          ],
          [
           "Lagos"
          ],
          [
           "Lagos"
          ],
          [
           "Lagos"
          ],
          [
           "Lagos"
          ],
          [
           "Lagos"
          ],
          [
           "Lagos"
          ],
          [
           "Lagos"
          ],
          [
           "Lagos"
          ],
          [
           "Lagos"
          ],
          [
           "Lagos"
          ],
          [
           "Lagos"
          ],
          [
           "Lagos"
          ],
          [
           "Lagos"
          ],
          [
           "Lagos"
          ],
          [
           "Lagos"
          ],
          [
           "Lagos"
          ],
          [
           "Lagos"
          ],
          [
           "Lagos"
          ],
          [
           "Lagos"
          ],
          [
           "Lagos"
          ],
          [
           "Lagos"
          ],
          [
           "Lagos"
          ],
          [
           "Lagos"
          ],
          [
           "Lagos"
          ],
          [
           "Lagos"
          ],
          [
           "Lagos"
          ],
          [
           "Lagos"
          ],
          [
           "Lagos"
          ],
          [
           "Lagos"
          ],
          [
           "Lagos"
          ],
          [
           "Lagos"
          ],
          [
           "Lagos"
          ],
          [
           "Lagos"
          ],
          [
           "Lagos"
          ],
          [
           "Lagos"
          ],
          [
           "Lagos"
          ],
          [
           "Lagos"
          ],
          [
           "Lagos"
          ],
          [
           "Lagos"
          ],
          [
           "Lagos"
          ],
          [
           "Lagos"
          ],
          [
           "Lagos"
          ],
          [
           "Lagos"
          ],
          [
           "Lagos"
          ],
          [
           "Lagos"
          ],
          [
           "Lagos"
          ],
          [
           "Lagos"
          ],
          [
           "Lagos"
          ],
          [
           "Lagos"
          ],
          [
           "Lagos"
          ],
          [
           "Lagos"
          ],
          [
           "Lagos"
          ],
          [
           "Lagos"
          ],
          [
           "Lagos"
          ],
          [
           "Lagos"
          ],
          [
           "Lagos"
          ],
          [
           "Lagos"
          ],
          [
           "Lagos"
          ],
          [
           "Lagos"
          ],
          [
           "Lagos"
          ],
          [
           "Lagos"
          ],
          [
           "Lagos"
          ],
          [
           "Lagos"
          ],
          [
           "Lagos"
          ],
          [
           "Lagos"
          ],
          [
           "Lagos"
          ],
          [
           "Lagos"
          ],
          [
           "Lagos"
          ],
          [
           "Lagos"
          ],
          [
           "Lagos"
          ],
          [
           "Lagos"
          ],
          [
           "Lagos"
          ],
          [
           "Lagos"
          ],
          [
           "Lagos"
          ],
          [
           "Lagos"
          ],
          [
           "Lagos"
          ],
          [
           "Lagos"
          ],
          [
           "Lagos"
          ],
          [
           "Lagos"
          ],
          [
           "Lagos"
          ],
          [
           "Lagos"
          ],
          [
           "Lagos"
          ],
          [
           "Lagos"
          ],
          [
           "Lagos"
          ],
          [
           "Lagos"
          ],
          [
           "Lagos"
          ],
          [
           "Lagos"
          ],
          [
           "Lagos"
          ],
          [
           "Lagos"
          ],
          [
           "Lagos"
          ],
          [
           "Lagos"
          ],
          [
           "Lagos"
          ],
          [
           "Lagos"
          ],
          [
           "Lagos"
          ],
          [
           "Lagos"
          ],
          [
           "Lagos"
          ],
          [
           "Lagos"
          ],
          [
           "Lagos"
          ],
          [
           "Lagos"
          ],
          [
           "Lagos"
          ],
          [
           "Lagos"
          ],
          [
           "Lagos"
          ],
          [
           "Lagos"
          ],
          [
           "Lagos"
          ],
          [
           "Lagos"
          ],
          [
           "Lagos"
          ],
          [
           "Lagos"
          ],
          [
           "Lagos"
          ],
          [
           "Lagos"
          ],
          [
           "Lagos"
          ],
          [
           "Lagos"
          ],
          [
           "Lagos"
          ],
          [
           "Lagos"
          ],
          [
           "Lagos"
          ],
          [
           "Lagos"
          ],
          [
           "Lagos"
          ],
          [
           "Lagos"
          ],
          [
           "Lagos"
          ],
          [
           "Lagos"
          ],
          [
           "Lagos"
          ],
          [
           "Lagos"
          ],
          [
           "Lagos"
          ],
          [
           "Lagos"
          ],
          [
           "Lagos"
          ],
          [
           "Lagos"
          ],
          [
           "Lagos"
          ],
          [
           "Lagos"
          ],
          [
           "Lagos"
          ],
          [
           "Lagos"
          ],
          [
           "Lagos"
          ]
         ],
         "hovertemplate": "Branch=%{x}<br>Rating=%{y}<br>City=%{customdata[0]}<extra></extra>",
         "legendgroup": "",
         "marker": {
          "color": "#636efa"
         },
         "name": "",
         "notched": true,
         "offsetgroup": "",
         "orientation": "v",
         "showlegend": false,
         "type": "box",
         "x": [
          "B",
          "B",
          "B",
          "B",
          "B",
          "B",
          "B",
          "B",
          "B",
          "B",
          "B",
          "B",
          "B",
          "B",
          "B",
          "B",
          "B",
          "B",
          "B",
          "B",
          "B",
          "B",
          "B",
          "B",
          "B",
          "B",
          "B",
          "B",
          "B",
          "B",
          "B",
          "B",
          "B",
          "B",
          "B",
          "B",
          "B",
          "B",
          "B",
          "B",
          "B",
          "B",
          "B",
          "B",
          "B",
          "B",
          "B",
          "B",
          "B",
          "B",
          "B",
          "B",
          "B",
          "B",
          "B",
          "B",
          "B",
          "B",
          "B",
          "B",
          "B",
          "B",
          "B",
          "B",
          "B",
          "B",
          "B",
          "B",
          "B",
          "B",
          "B",
          "B",
          "B",
          "B",
          "B",
          "B",
          "B",
          "B",
          "B",
          "B",
          "B",
          "B",
          "B",
          "B",
          "B",
          "B",
          "B",
          "B",
          "B",
          "B",
          "B",
          "B",
          "B",
          "B",
          "B",
          "B",
          "B",
          "B",
          "B",
          "B",
          "B",
          "B",
          "B",
          "B",
          "B",
          "B",
          "B",
          "B",
          "B",
          "B",
          "B",
          "B",
          "B",
          "B",
          "B",
          "B",
          "B",
          "B",
          "B",
          "B",
          "B",
          "B",
          "B",
          "B",
          "B",
          "B",
          "B",
          "B",
          "B",
          "B",
          "B",
          "B",
          "B",
          "B",
          "B",
          "B",
          "B",
          "B",
          "B",
          "B",
          "B",
          "B",
          "B",
          "B",
          "B",
          "B",
          "B",
          "B",
          "B",
          "B",
          "B",
          "B",
          "B",
          "B",
          "B",
          "B",
          "B",
          "B",
          "B",
          "B",
          "B",
          "B",
          "B",
          "B",
          "B",
          "B",
          "B",
          "B",
          "B",
          "B",
          "B",
          "B",
          "B",
          "B",
          "B",
          "B",
          "B",
          "B",
          "B",
          "B",
          "B",
          "B",
          "B",
          "B",
          "B",
          "B",
          "B",
          "B",
          "B",
          "B",
          "B",
          "B",
          "B",
          "B",
          "B",
          "B",
          "B",
          "B",
          "B",
          "B",
          "B",
          "B",
          "B",
          "B",
          "B",
          "B",
          "B",
          "B",
          "B",
          "B",
          "B",
          "B",
          "B",
          "B",
          "B",
          "B",
          "B",
          "B",
          "B",
          "B",
          "B",
          "B",
          "B",
          "B",
          "B",
          "B",
          "B",
          "B",
          "B",
          "B",
          "B",
          "B",
          "B",
          "B",
          "B",
          "B",
          "B",
          "B",
          "B",
          "B",
          "B",
          "B",
          "B",
          "B",
          "B",
          "B",
          "B",
          "B",
          "B",
          "B",
          "B",
          "B",
          "B",
          "B",
          "B",
          "B",
          "B",
          "B",
          "B",
          "B",
          "B",
          "B",
          "B",
          "B",
          "B",
          "B",
          "B",
          "B",
          "B",
          "B",
          "B",
          "B",
          "B",
          "B",
          "B",
          "B",
          "B",
          "B",
          "B",
          "B",
          "B",
          "B",
          "B",
          "B",
          "B",
          "B",
          "B",
          "B",
          "B",
          "B",
          "B",
          "B",
          "B",
          "B",
          "B",
          "B",
          "B",
          "B",
          "B",
          "B",
          "B",
          "B",
          "B",
          "B",
          "B",
          "B",
          "B",
          "B",
          "B",
          "B",
          "B",
          "B",
          "B",
          "B",
          "B",
          "B",
          "B",
          "B",
          "B",
          "B",
          "B",
          "B",
          "B",
          "B",
          "B",
          "B",
          "B",
          "B",
          "B",
          "B",
          "B",
          "B",
          "C",
          "C",
          "C",
          "C",
          "C",
          "C",
          "C",
          "C",
          "C",
          "C",
          "C",
          "C",
          "C",
          "C",
          "C",
          "C",
          "C",
          "C",
          "C",
          "C",
          "C",
          "C",
          "C",
          "C",
          "C",
          "C",
          "C",
          "C",
          "C",
          "C",
          "C",
          "C",
          "C",
          "C",
          "C",
          "C",
          "C",
          "C",
          "C",
          "C",
          "C",
          "C",
          "C",
          "C",
          "C",
          "C",
          "C",
          "C",
          "C",
          "C",
          "C",
          "C",
          "C",
          "C",
          "C",
          "C",
          "C",
          "C",
          "C",
          "C",
          "C",
          "C",
          "C",
          "C",
          "C",
          "C",
          "C",
          "C",
          "C",
          "C",
          "C",
          "C",
          "C",
          "C",
          "C",
          "C",
          "C",
          "C",
          "C",
          "C",
          "C",
          "C",
          "C",
          "C",
          "C",
          "C",
          "C",
          "C",
          "C",
          "C",
          "C",
          "C",
          "C",
          "C",
          "C",
          "C",
          "C",
          "C",
          "C",
          "C",
          "C",
          "C",
          "C",
          "C",
          "C",
          "C",
          "C",
          "C",
          "C",
          "C",
          "C",
          "C",
          "C",
          "C",
          "C",
          "C",
          "C",
          "C",
          "C",
          "C",
          "C",
          "C",
          "C",
          "C",
          "C",
          "C",
          "C",
          "C",
          "C",
          "C",
          "C",
          "C",
          "C",
          "C",
          "C",
          "C",
          "C",
          "C",
          "C",
          "C",
          "C",
          "C",
          "C",
          "C",
          "C",
          "C",
          "C",
          "C",
          "C",
          "C",
          "C",
          "C",
          "C",
          "C",
          "C",
          "C",
          "C",
          "C",
          "C",
          "C",
          "C",
          "C",
          "C",
          "C",
          "C",
          "C",
          "C",
          "C",
          "C",
          "C",
          "C",
          "C",
          "C",
          "C",
          "C",
          "C",
          "C",
          "C",
          "C",
          "C",
          "C",
          "C",
          "C",
          "C",
          "C",
          "C",
          "C",
          "C",
          "C",
          "C",
          "C",
          "C",
          "C",
          "C",
          "C",
          "C",
          "C",
          "C",
          "C",
          "C",
          "C",
          "C",
          "C",
          "C",
          "C",
          "C",
          "C",
          "C",
          "C",
          "C",
          "C",
          "C",
          "C",
          "C",
          "C",
          "C",
          "C",
          "C",
          "C",
          "C",
          "C",
          "C",
          "C",
          "C",
          "C",
          "C",
          "C",
          "C",
          "C",
          "C",
          "C",
          "C",
          "C",
          "C",
          "C",
          "C",
          "C",
          "C",
          "C",
          "C",
          "C",
          "C",
          "C",
          "C",
          "C",
          "C",
          "C",
          "C",
          "C",
          "C",
          "C",
          "C",
          "C",
          "C",
          "C",
          "C",
          "C",
          "C",
          "C",
          "C",
          "C",
          "C",
          "C",
          "C",
          "C",
          "C",
          "C",
          "C",
          "C",
          "C",
          "C",
          "C",
          "C",
          "C",
          "C",
          "C",
          "C",
          "C",
          "C",
          "C",
          "C",
          "C",
          "C",
          "C",
          "C",
          "C",
          "C",
          "C",
          "C",
          "C",
          "C",
          "C",
          "C",
          "C",
          "C",
          "C",
          "C",
          "C",
          "C",
          "C",
          "C",
          "C",
          "C",
          "C",
          "C",
          "C",
          "C",
          "C",
          "C",
          "C",
          "C",
          "C",
          "C",
          "C",
          "C",
          "C",
          "C",
          "C",
          "C",
          "C",
          "C",
          "C",
          "C",
          "C",
          "C",
          "C",
          "C",
          "C",
          "A",
          "A",
          "A",
          "A",
          "A",
          "A",
          "A",
          "A",
          "A",
          "A",
          "A",
          "A",
          "A",
          "A",
          "A",
          "A",
          "A",
          "A",
          "A",
          "A",
          "A",
          "A",
          "A",
          "A",
          "A",
          "A",
          "A",
          "A",
          "A",
          "A",
          "A",
          "A",
          "A",
          "A",
          "A",
          "A",
          "A",
          "A",
          "A",
          "A",
          "A",
          "A",
          "A",
          "A",
          "A",
          "A",
          "A",
          "A",
          "A",
          "A",
          "A",
          "A",
          "A",
          "A",
          "A",
          "A",
          "A",
          "A",
          "A",
          "A",
          "A",
          "A",
          "A",
          "A",
          "A",
          "A",
          "A",
          "A",
          "A",
          "A",
          "A",
          "A",
          "A",
          "A",
          "A",
          "A",
          "A",
          "A",
          "A",
          "A",
          "A",
          "A",
          "A",
          "A",
          "A",
          "A",
          "A",
          "A",
          "A",
          "A",
          "A",
          "A",
          "A",
          "A",
          "A",
          "A",
          "A",
          "A",
          "A",
          "A",
          "A",
          "A",
          "A",
          "A",
          "A",
          "A",
          "A",
          "A",
          "A",
          "A",
          "A",
          "A",
          "A",
          "A",
          "A",
          "A",
          "A",
          "A",
          "A",
          "A",
          "A",
          "A",
          "A",
          "A",
          "A",
          "A",
          "A",
          "A",
          "A",
          "A",
          "A",
          "A",
          "A",
          "A",
          "A",
          "A",
          "A",
          "A",
          "A",
          "A",
          "A",
          "A",
          "A",
          "A",
          "A",
          "A",
          "A",
          "A",
          "A",
          "A",
          "A",
          "A",
          "A",
          "A",
          "A",
          "A",
          "A",
          "A",
          "A",
          "A",
          "A",
          "A",
          "A",
          "A",
          "A",
          "A",
          "A",
          "A",
          "A",
          "A",
          "A",
          "A",
          "A",
          "A",
          "A",
          "A",
          "A",
          "A",
          "A",
          "A",
          "A",
          "A",
          "A",
          "A",
          "A",
          "A",
          "A",
          "A",
          "A",
          "A",
          "A",
          "A",
          "A",
          "A",
          "A",
          "A",
          "A",
          "A",
          "A",
          "A",
          "A",
          "A",
          "A",
          "A",
          "A",
          "A",
          "A",
          "A",
          "A",
          "A",
          "A",
          "A",
          "A",
          "A",
          "A",
          "A",
          "A",
          "A",
          "A",
          "A",
          "A",
          "A",
          "A",
          "A",
          "A",
          "A",
          "A",
          "A",
          "A",
          "A",
          "A",
          "A",
          "A",
          "A",
          "A",
          "A",
          "A",
          "A",
          "A",
          "A",
          "A",
          "A",
          "A",
          "A",
          "A",
          "A",
          "A",
          "A",
          "A",
          "A",
          "A",
          "A",
          "A",
          "A",
          "A",
          "A",
          "A",
          "A",
          "A",
          "A",
          "A",
          "A",
          "A",
          "A",
          "A",
          "A",
          "A",
          "A",
          "A",
          "A",
          "A",
          "A",
          "A",
          "A",
          "A",
          "A",
          "A",
          "A",
          "A",
          "A",
          "A",
          "A",
          "A",
          "A",
          "A",
          "A",
          "A",
          "A",
          "A",
          "A",
          "A",
          "A",
          "A",
          "A",
          "A",
          "A",
          "A",
          "A",
          "A",
          "A",
          "A",
          "A",
          "A",
          "A",
          "A",
          "A",
          "A",
          "A",
          "A",
          "A",
          "A",
          "A",
          "A",
          "A",
          "A",
          "A",
          "A",
          "A",
          "A",
          "A",
          "A",
          "A",
          "A",
          "A",
          "A",
          "A",
          "A",
          "A",
          "A",
          "A",
          "A",
          "A",
          "A",
          "A",
          "A",
          "A",
          "A",
          "A",
          "A",
          "A"
         ],
         "x0": " ",
         "xaxis": "x",
         "y": [
          5.9,
          4.5,
          6.8,
          4.5,
          4.4,
          5.1,
          4.4,
          6.7,
          9.6,
          4.8,
          4.5,
          5.1,
          7.7,
          7.9,
          5.6,
          9.5,
          8.4,
          4.1,
          8.1,
          6.5,
          6.5,
          10,
          7.6,
          9.9,
          4,
          6.4,
          6.1,
          8.6,
          5.1,
          7.4,
          8,
          4.6,
          8.4,
          5.3,
          5.2,
          4.1,
          4.2,
          7.3,
          7.2,
          7.5,
          7.4,
          8.8,
          8.2,
          6.2,
          4.8,
          6.1,
          9.7,
          6,
          10,
          5.9,
          5.6,
          9.4,
          9.8,
          8.7,
          8,
          7.5,
          7,
          7.2,
          4.6,
          5.7,
          6.6,
          8.7,
          5.4,
          5.1,
          6.5,
          4.9,
          4.4,
          6.5,
          8.5,
          8.7,
          7.9,
          6.1,
          5.4,
          4,
          5.3,
          6.5,
          8.7,
          8,
          6.7,
          4.3,
          8.3,
          4.8,
          4.2,
          6.4,
          9,
          5.7,
          7.9,
          9.5,
          6.3,
          7.9,
          6.2,
          7.6,
          5.2,
          7,
          5.9,
          4.7,
          8.6,
          5.5,
          6.4,
          4,
          6.8,
          5.2,
          8.9,
          7.8,
          8.9,
          7.7,
          4.8,
          8.5,
          4.8,
          7.8,
          6.5,
          5.6,
          9.9,
          4.9,
          9.6,
          4,
          9.9,
          5.8,
          6.6,
          9.7,
          5.8,
          8.3,
          8,
          9.6,
          4.1,
          5.1,
          6.9,
          7.8,
          8.3,
          6.7,
          7,
          8,
          6.9,
          6.9,
          9.6,
          6.8,
          4.3,
          9.5,
          5.3,
          9.6,
          6.7,
          7.6,
          6.9,
          4.5,
          6.2,
          8.7,
          4.5,
          4.6,
          6.7,
          6,
          6.6,
          7.3,
          9.8,
          8.2,
          8.7,
          7.1,
          5.5,
          8.9,
          5.4,
          6.3,
          9.5,
          6.7,
          7.7,
          7,
          6.2,
          9.8,
          7.7,
          9,
          6.7,
          6.1,
          8.2,
          5,
          5,
          9.2,
          4.9,
          4.2,
          6.5,
          8.9,
          9.7,
          7.7,
          9.5,
          7.3,
          5.7,
          9,
          5.5,
          7.6,
          8.6,
          8.1,
          6.3,
          5.8,
          8.1,
          9.5,
          7,
          5.3,
          8.7,
          7.8,
          8.6,
          8.9,
          7.2,
          6.9,
          4.9,
          4.4,
          6.8,
          9.1,
          5,
          4.7,
          5,
          5,
          8.5,
          7.5,
          6.4,
          6,
          5.6,
          7.8,
          9.9,
          5.1,
          9.4,
          9.3,
          5.9,
          7.7,
          6.4,
          4.1,
          5.5,
          4,
          4.6,
          7.3,
          6.5,
          7,
          4.9,
          6.4,
          8,
          4.3,
          4.3,
          5,
          9.2,
          6.3,
          8.9,
          7.6,
          6.1,
          7.1,
          7.9,
          7.4,
          8.9,
          9.3,
          8.9,
          6.4,
          6,
          5.2,
          8,
          4.1,
          8.4,
          4.9,
          5.6,
          4.2,
          4.7,
          6.3,
          7.9,
          4.5,
          8,
          9.6,
          5.6,
          4.9,
          4.3,
          9.8,
          7.9,
          8,
          8.6,
          6.2,
          5,
          8.4,
          6,
          6.7,
          4.5,
          7.7,
          9.5,
          4.1,
          5.4,
          5.1,
          6,
          10,
          4.2,
          6.3,
          5.1,
          4.3,
          7,
          6.5,
          6.2,
          6.1,
          8.6,
          6,
          9.9,
          8.1,
          9.4,
          8.9,
          4.2,
          5.1,
          6.6,
          4.2,
          7.3,
          8.7,
          6.3,
          7,
          9,
          5.2,
          7.6,
          7.2,
          7.1,
          9.8,
          4.7,
          8.9,
          9.3,
          4.7,
          8.7,
          5.7,
          7.1,
          6.4,
          5.8,
          9,
          9,
          6.7,
          5.5,
          7,
          4.9,
          5.1,
          6.5,
          8.5,
          4.3,
          6.2,
          8.4,
          6,
          6.6,
          4.4,
          9.6,
          4.1,
          8,
          4.8,
          7.5,
          6.8,
          7.6,
          6.3,
          7.6,
          7.2,
          7.9,
          9.5,
          6.1,
          8.2,
          9.3,
          10,
          7,
          6.7,
          9.6,
          5.9,
          8.7,
          5.4,
          8.6,
          6.6,
          6,
          5.5,
          6.6,
          8.3,
          6.6,
          4,
          9.9,
          7.1,
          8.2,
          6.6,
          4.1,
          4.1,
          7.2,
          4.9,
          7.9,
          4.2,
          9.2,
          7.8,
          9.5,
          7.1,
          6.5,
          4.6,
          5.9,
          8.5,
          5.3,
          6.2,
          5.4,
          8.1,
          9.1,
          8.4,
          9.5,
          5.6,
          7.3,
          9.9,
          9.3,
          8.3,
          6.5,
          4.8,
          6.3,
          4.8,
          9.9,
          5.7,
          7.7,
          5.7,
          5.9,
          9.2,
          5,
          4.9,
          8.2,
          5.5,
          6.8,
          9.8,
          9.7,
          7.8,
          8.8,
          9.4,
          8.2,
          9.7,
          9.7,
          4.9,
          8.6,
          6,
          8.4,
          7.2,
          6.9,
          5.6,
          6.9,
          9.7,
          7.1,
          6.4,
          5.7,
          7.9,
          6.9,
          9.5,
          6,
          7.5,
          6.4,
          7.7,
          6.7,
          4.4,
          9.7,
          4.4,
          5.2,
          7.3,
          4.9,
          8.1,
          8.4,
          5.5,
          8.4,
          8.6,
          8.5,
          9.5,
          9.3,
          4.7,
          6.6,
          8.4,
          9.3,
          5.2,
          9.1,
          8,
          7.1,
          9.1,
          5.6,
          5.4,
          5.2,
          8.9,
          8.7,
          9.4,
          4.2,
          4.2,
          6,
          9.5,
          8.1,
          9.4,
          6.2,
          9.8,
          4.9,
          5.4,
          8.7,
          9.2,
          7.5,
          9.8,
          8.7,
          5,
          5.7,
          9,
          9.6,
          7,
          6.5,
          8.1,
          9.5,
          8.9,
          6.5,
          7.6,
          7.9,
          4.5,
          6.1,
          6.4,
          7.1,
          7.7,
          7.2,
          8.4,
          5.4,
          4.4,
          8.4,
          6.2,
          7,
          4.3,
          8.4,
          8.5,
          6.2,
          9.1,
          9,
          5.1,
          8.2,
          8.5,
          8.7,
          4.3,
          7.3,
          5,
          8.4,
          7.4,
          5.1,
          7.1,
          5.5,
          8.6,
          4.5,
          4.4,
          9.4,
          4.1,
          6.2,
          7.3,
          8,
          5.3,
          4.3,
          9.4,
          5.3,
          9.2,
          6.4,
          4.5,
          6.9,
          4.5,
          6.4,
          6.7,
          9,
          4.4,
          8.5,
          6.3,
          4.7,
          4,
          5.5,
          7.4,
          6.3,
          7.1,
          8,
          7.9,
          9.9,
          7.7,
          4.4,
          9.3,
          8.1,
          7.1,
          6.1,
          6.7,
          5.2,
          9.5,
          7.6,
          8,
          9.6,
          4.8,
          9.1,
          8.3,
          7.2,
          6,
          8.5,
          5.1,
          7.4,
          6.6,
          5.9,
          6.8,
          6,
          8.1,
          9,
          8.5,
          8.8,
          5.6,
          8.6,
          5.8,
          9,
          7.4,
          9.8,
          8,
          5.7,
          6.3,
          6,
          4.2,
          6.1,
          8.3,
          8.8,
          4.1,
          5.5,
          9.3,
          5.6,
          9.2,
          5.5,
          9.4,
          5.1,
          6.9,
          6,
          6.5,
          9.2,
          5.9,
          5.2,
          5.8,
          5,
          8.9,
          8.6,
          4,
          5,
          7,
          7.3,
          4.9,
          4.3,
          9.6,
          6.3,
          4,
          9.5,
          6.8,
          7.2,
          8.6,
          5,
          8.8,
          5.3,
          7.5,
          6,
          7.9,
          8.8,
          8.6,
          4.1,
          9.3,
          5.1,
          5.2,
          6.6,
          6.5,
          9.5,
          7.6,
          5.1,
          7.5,
          5.9,
          6.6,
          5.3,
          7.9,
          7.6,
          5.4,
          7.8,
          9.8,
          6.7,
          8.2,
          9.8,
          6.1,
          6,
          4.3,
          5.9,
          6.2,
          9.1,
          7.4,
          8.4,
          5.3,
          5.8,
          7.2,
          7.1,
          8.2,
          5.7,
          4.6,
          6.9,
          8.6,
          9.9,
          6,
          8.5,
          7.7,
          7.4,
          5.1,
          7,
          4.7,
          8.5,
          5.8,
          6.6,
          5.4,
          8.6,
          5.8,
          6.4,
          4.3,
          9.4,
          5.7,
          7.3,
          5.7,
          5.1,
          7.2,
          9.3,
          9.9,
          7.3,
          7.4,
          4.3,
          6,
          5.2,
          4.5,
          9,
          8.3,
          8.8,
          9.8,
          9.2,
          8,
          9.2,
          4.9,
          7.4,
          9,
          6,
          7,
          8.7,
          6.5,
          8.5,
          5.5,
          8.8,
          9.6,
          4.4,
          8,
          6.7,
          9.9,
          9.9,
          6.1,
          7.9,
          5.9,
          8.3,
          5.5,
          6.2,
          7.4,
          6.5,
          4.1,
          4.9,
          5.6,
          5.8,
          4.2,
          5.7,
          6.8,
          8.8,
          5.2,
          8.9,
          9.7,
          8.7,
          6.5,
          6.2,
          4.2,
          8.7,
          4.4,
          7,
          8.8,
          5.1,
          9.6,
          6.4,
          6.5,
          8.5,
          9.1,
          4.2,
          4.7,
          7.1,
          5.8,
          4.5,
          4.7,
          4.3,
          9.6,
          4.1,
          4.7,
          7.8,
          4.4,
          5,
          9.8,
          6.7,
          9.4,
          5.4,
          7.6,
          9.1,
          5.5,
          7.9,
          9.1,
          7.5,
          6.2,
          7.6,
          7.3,
          5.1,
          5.5,
          7.4,
          7.2,
          6,
          7.8,
          9.1,
          7,
          7.5,
          9.9,
          10,
          7.2,
          6.2,
          7.3,
          4.3,
          4.6,
          8,
          7.8,
          5.5,
          7.8,
          6.6,
          9.2,
          8.2,
          8.9,
          7.3,
          6.4,
          7.7,
          6.5,
          9.7,
          4.8,
          5.5,
          4.7,
          9.1,
          9.7,
          5.5,
          6.6,
          6.3,
          4.2,
          6.7,
          5,
          8.3,
          7.2,
          9.6,
          9.8,
          6.1,
          9.3,
          7.6,
          9.7,
          5.9,
          8,
          7.1,
          9.3,
          7,
          7.2,
          6.2,
          6.9,
          4.9,
          9.1,
          8.9,
          6,
          7.3,
          6.9,
          5.6,
          8.2,
          5,
          6.3,
          7.7,
          8.3,
          8.6,
          7.7,
          8.4,
          9.8,
          9.2,
          7.7,
          4.4,
          9.8,
          4.8,
          9.5,
          9.6,
          5.2,
          5.2,
          6.2,
          4.2,
          4.2,
          4,
          9.2,
          9.8,
          8.7,
          7.5,
          8.2,
          6.7,
          5.4,
          7,
          6,
          8.7,
          7.3,
          5.8,
          7.9,
          5.9,
          4.9,
          7.6,
          4.4,
          4.8,
          6,
          9.4,
          6.6,
          4.3,
          7.5,
          8.8,
          6.6,
          6.9,
          7.8,
          6.1,
          9.1,
          6.6,
          4.5,
          8.1,
          7.2,
          4.4,
          4.8,
          9.5,
          9.8,
          8.8,
          9.5,
          8.6,
          7,
          6.2,
          4.5,
          5.6,
          8,
          9.9,
          7.6,
          6.6,
          7.7,
          7.8,
          4.1,
          9,
          9.7,
          4,
          9.3,
          6.6,
          8.1,
          8,
          4.2,
          8.5,
          9,
          5,
          6,
          5,
          9.6,
          4.1,
          8.7,
          6.6,
          8.5,
          4.3,
          7.6,
          9.2,
          5.8,
          5.6,
          7.9,
          5,
          5.9,
          5.9,
          9.7,
          4.2,
          9.2,
          9.2,
          8.8,
          8.2,
          5,
          7.8,
          6.6,
          9.3,
          7.1,
          9.9,
          5.9,
          4.5,
          7.5,
          7.6,
          5,
          6.7,
          9.5,
          5.6,
          4.6,
          4.2,
          8.1,
          6.2,
          6.8,
          7.6,
          5.8,
          6.8,
          6.8,
          5.1,
          7.4,
          4.2,
          6.9,
          5.7,
          5.3,
          4.2,
          7.3,
          6.8,
          8.4,
          9.8,
          7.4,
          7.2,
          9.3,
          9.5,
          5.4,
          8.5,
          8.4,
          7.4,
          4.5,
          8.8,
          7.7,
          4.1,
          6.6
         ],
         "y0": " ",
         "yaxis": "y"
        }
       ],
       "layout": {
        "boxmode": "group",
        "legend": {
         "tracegroupgap": 0
        },
        "template": {
         "data": {
          "bar": [
           {
            "error_x": {
             "color": "#2a3f5f"
            },
            "error_y": {
             "color": "#2a3f5f"
            },
            "marker": {
             "line": {
              "color": "#E5ECF6",
              "width": 0.5
             },
             "pattern": {
              "fillmode": "overlay",
              "size": 10,
              "solidity": 0.2
             }
            },
            "type": "bar"
           }
          ],
          "barpolar": [
           {
            "marker": {
             "line": {
              "color": "#E5ECF6",
              "width": 0.5
             },
             "pattern": {
              "fillmode": "overlay",
              "size": 10,
              "solidity": 0.2
             }
            },
            "type": "barpolar"
           }
          ],
          "carpet": [
           {
            "aaxis": {
             "endlinecolor": "#2a3f5f",
             "gridcolor": "white",
             "linecolor": "white",
             "minorgridcolor": "white",
             "startlinecolor": "#2a3f5f"
            },
            "baxis": {
             "endlinecolor": "#2a3f5f",
             "gridcolor": "white",
             "linecolor": "white",
             "minorgridcolor": "white",
             "startlinecolor": "#2a3f5f"
            },
            "type": "carpet"
           }
          ],
          "choropleth": [
           {
            "colorbar": {
             "outlinewidth": 0,
             "ticks": ""
            },
            "type": "choropleth"
           }
          ],
          "contour": [
           {
            "colorbar": {
             "outlinewidth": 0,
             "ticks": ""
            },
            "colorscale": [
             [
              0,
              "#0d0887"
             ],
             [
              0.1111111111111111,
              "#46039f"
             ],
             [
              0.2222222222222222,
              "#7201a8"
             ],
             [
              0.3333333333333333,
              "#9c179e"
             ],
             [
              0.4444444444444444,
              "#bd3786"
             ],
             [
              0.5555555555555556,
              "#d8576b"
             ],
             [
              0.6666666666666666,
              "#ed7953"
             ],
             [
              0.7777777777777778,
              "#fb9f3a"
             ],
             [
              0.8888888888888888,
              "#fdca26"
             ],
             [
              1,
              "#f0f921"
             ]
            ],
            "type": "contour"
           }
          ],
          "contourcarpet": [
           {
            "colorbar": {
             "outlinewidth": 0,
             "ticks": ""
            },
            "type": "contourcarpet"
           }
          ],
          "heatmap": [
           {
            "colorbar": {
             "outlinewidth": 0,
             "ticks": ""
            },
            "colorscale": [
             [
              0,
              "#0d0887"
             ],
             [
              0.1111111111111111,
              "#46039f"
             ],
             [
              0.2222222222222222,
              "#7201a8"
             ],
             [
              0.3333333333333333,
              "#9c179e"
             ],
             [
              0.4444444444444444,
              "#bd3786"
             ],
             [
              0.5555555555555556,
              "#d8576b"
             ],
             [
              0.6666666666666666,
              "#ed7953"
             ],
             [
              0.7777777777777778,
              "#fb9f3a"
             ],
             [
              0.8888888888888888,
              "#fdca26"
             ],
             [
              1,
              "#f0f921"
             ]
            ],
            "type": "heatmap"
           }
          ],
          "heatmapgl": [
           {
            "colorbar": {
             "outlinewidth": 0,
             "ticks": ""
            },
            "colorscale": [
             [
              0,
              "#0d0887"
             ],
             [
              0.1111111111111111,
              "#46039f"
             ],
             [
              0.2222222222222222,
              "#7201a8"
             ],
             [
              0.3333333333333333,
              "#9c179e"
             ],
             [
              0.4444444444444444,
              "#bd3786"
             ],
             [
              0.5555555555555556,
              "#d8576b"
             ],
             [
              0.6666666666666666,
              "#ed7953"
             ],
             [
              0.7777777777777778,
              "#fb9f3a"
             ],
             [
              0.8888888888888888,
              "#fdca26"
             ],
             [
              1,
              "#f0f921"
             ]
            ],
            "type": "heatmapgl"
           }
          ],
          "histogram": [
           {
            "marker": {
             "pattern": {
              "fillmode": "overlay",
              "size": 10,
              "solidity": 0.2
             }
            },
            "type": "histogram"
           }
          ],
          "histogram2d": [
           {
            "colorbar": {
             "outlinewidth": 0,
             "ticks": ""
            },
            "colorscale": [
             [
              0,
              "#0d0887"
             ],
             [
              0.1111111111111111,
              "#46039f"
             ],
             [
              0.2222222222222222,
              "#7201a8"
             ],
             [
              0.3333333333333333,
              "#9c179e"
             ],
             [
              0.4444444444444444,
              "#bd3786"
             ],
             [
              0.5555555555555556,
              "#d8576b"
             ],
             [
              0.6666666666666666,
              "#ed7953"
             ],
             [
              0.7777777777777778,
              "#fb9f3a"
             ],
             [
              0.8888888888888888,
              "#fdca26"
             ],
             [
              1,
              "#f0f921"
             ]
            ],
            "type": "histogram2d"
           }
          ],
          "histogram2dcontour": [
           {
            "colorbar": {
             "outlinewidth": 0,
             "ticks": ""
            },
            "colorscale": [
             [
              0,
              "#0d0887"
             ],
             [
              0.1111111111111111,
              "#46039f"
             ],
             [
              0.2222222222222222,
              "#7201a8"
             ],
             [
              0.3333333333333333,
              "#9c179e"
             ],
             [
              0.4444444444444444,
              "#bd3786"
             ],
             [
              0.5555555555555556,
              "#d8576b"
             ],
             [
              0.6666666666666666,
              "#ed7953"
             ],
             [
              0.7777777777777778,
              "#fb9f3a"
             ],
             [
              0.8888888888888888,
              "#fdca26"
             ],
             [
              1,
              "#f0f921"
             ]
            ],
            "type": "histogram2dcontour"
           }
          ],
          "mesh3d": [
           {
            "colorbar": {
             "outlinewidth": 0,
             "ticks": ""
            },
            "type": "mesh3d"
           }
          ],
          "parcoords": [
           {
            "line": {
             "colorbar": {
              "outlinewidth": 0,
              "ticks": ""
             }
            },
            "type": "parcoords"
           }
          ],
          "pie": [
           {
            "automargin": true,
            "type": "pie"
           }
          ],
          "scatter": [
           {
            "marker": {
             "colorbar": {
              "outlinewidth": 0,
              "ticks": ""
             }
            },
            "type": "scatter"
           }
          ],
          "scatter3d": [
           {
            "line": {
             "colorbar": {
              "outlinewidth": 0,
              "ticks": ""
             }
            },
            "marker": {
             "colorbar": {
              "outlinewidth": 0,
              "ticks": ""
             }
            },
            "type": "scatter3d"
           }
          ],
          "scattercarpet": [
           {
            "marker": {
             "colorbar": {
              "outlinewidth": 0,
              "ticks": ""
             }
            },
            "type": "scattercarpet"
           }
          ],
          "scattergeo": [
           {
            "marker": {
             "colorbar": {
              "outlinewidth": 0,
              "ticks": ""
             }
            },
            "type": "scattergeo"
           }
          ],
          "scattergl": [
           {
            "marker": {
             "colorbar": {
              "outlinewidth": 0,
              "ticks": ""
             }
            },
            "type": "scattergl"
           }
          ],
          "scattermapbox": [
           {
            "marker": {
             "colorbar": {
              "outlinewidth": 0,
              "ticks": ""
             }
            },
            "type": "scattermapbox"
           }
          ],
          "scatterpolar": [
           {
            "marker": {
             "colorbar": {
              "outlinewidth": 0,
              "ticks": ""
             }
            },
            "type": "scatterpolar"
           }
          ],
          "scatterpolargl": [
           {
            "marker": {
             "colorbar": {
              "outlinewidth": 0,
              "ticks": ""
             }
            },
            "type": "scatterpolargl"
           }
          ],
          "scatterternary": [
           {
            "marker": {
             "colorbar": {
              "outlinewidth": 0,
              "ticks": ""
             }
            },
            "type": "scatterternary"
           }
          ],
          "surface": [
           {
            "colorbar": {
             "outlinewidth": 0,
             "ticks": ""
            },
            "colorscale": [
             [
              0,
              "#0d0887"
             ],
             [
              0.1111111111111111,
              "#46039f"
             ],
             [
              0.2222222222222222,
              "#7201a8"
             ],
             [
              0.3333333333333333,
              "#9c179e"
             ],
             [
              0.4444444444444444,
              "#bd3786"
             ],
             [
              0.5555555555555556,
              "#d8576b"
             ],
             [
              0.6666666666666666,
              "#ed7953"
             ],
             [
              0.7777777777777778,
              "#fb9f3a"
             ],
             [
              0.8888888888888888,
              "#fdca26"
             ],
             [
              1,
              "#f0f921"
             ]
            ],
            "type": "surface"
           }
          ],
          "table": [
           {
            "cells": {
             "fill": {
              "color": "#EBF0F8"
             },
             "line": {
              "color": "white"
             }
            },
            "header": {
             "fill": {
              "color": "#C8D4E3"
             },
             "line": {
              "color": "white"
             }
            },
            "type": "table"
           }
          ]
         },
         "layout": {
          "annotationdefaults": {
           "arrowcolor": "#2a3f5f",
           "arrowhead": 0,
           "arrowwidth": 1
          },
          "autotypenumbers": "strict",
          "coloraxis": {
           "colorbar": {
            "outlinewidth": 0,
            "ticks": ""
           }
          },
          "colorscale": {
           "diverging": [
            [
             0,
             "#8e0152"
            ],
            [
             0.1,
             "#c51b7d"
            ],
            [
             0.2,
             "#de77ae"
            ],
            [
             0.3,
             "#f1b6da"
            ],
            [
             0.4,
             "#fde0ef"
            ],
            [
             0.5,
             "#f7f7f7"
            ],
            [
             0.6,
             "#e6f5d0"
            ],
            [
             0.7,
             "#b8e186"
            ],
            [
             0.8,
             "#7fbc41"
            ],
            [
             0.9,
             "#4d9221"
            ],
            [
             1,
             "#276419"
            ]
           ],
           "sequential": [
            [
             0,
             "#0d0887"
            ],
            [
             0.1111111111111111,
             "#46039f"
            ],
            [
             0.2222222222222222,
             "#7201a8"
            ],
            [
             0.3333333333333333,
             "#9c179e"
            ],
            [
             0.4444444444444444,
             "#bd3786"
            ],
            [
             0.5555555555555556,
             "#d8576b"
            ],
            [
             0.6666666666666666,
             "#ed7953"
            ],
            [
             0.7777777777777778,
             "#fb9f3a"
            ],
            [
             0.8888888888888888,
             "#fdca26"
            ],
            [
             1,
             "#f0f921"
            ]
           ],
           "sequentialminus": [
            [
             0,
             "#0d0887"
            ],
            [
             0.1111111111111111,
             "#46039f"
            ],
            [
             0.2222222222222222,
             "#7201a8"
            ],
            [
             0.3333333333333333,
             "#9c179e"
            ],
            [
             0.4444444444444444,
             "#bd3786"
            ],
            [
             0.5555555555555556,
             "#d8576b"
            ],
            [
             0.6666666666666666,
             "#ed7953"
            ],
            [
             0.7777777777777778,
             "#fb9f3a"
            ],
            [
             0.8888888888888888,
             "#fdca26"
            ],
            [
             1,
             "#f0f921"
            ]
           ]
          },
          "colorway": [
           "#636efa",
           "#EF553B",
           "#00cc96",
           "#ab63fa",
           "#FFA15A",
           "#19d3f3",
           "#FF6692",
           "#B6E880",
           "#FF97FF",
           "#FECB52"
          ],
          "font": {
           "color": "#2a3f5f"
          },
          "geo": {
           "bgcolor": "white",
           "lakecolor": "white",
           "landcolor": "#E5ECF6",
           "showlakes": true,
           "showland": true,
           "subunitcolor": "white"
          },
          "hoverlabel": {
           "align": "left"
          },
          "hovermode": "closest",
          "mapbox": {
           "style": "light"
          },
          "paper_bgcolor": "white",
          "plot_bgcolor": "#E5ECF6",
          "polar": {
           "angularaxis": {
            "gridcolor": "white",
            "linecolor": "white",
            "ticks": ""
           },
           "bgcolor": "#E5ECF6",
           "radialaxis": {
            "gridcolor": "white",
            "linecolor": "white",
            "ticks": ""
           }
          },
          "scene": {
           "xaxis": {
            "backgroundcolor": "#E5ECF6",
            "gridcolor": "white",
            "gridwidth": 2,
            "linecolor": "white",
            "showbackground": true,
            "ticks": "",
            "zerolinecolor": "white"
           },
           "yaxis": {
            "backgroundcolor": "#E5ECF6",
            "gridcolor": "white",
            "gridwidth": 2,
            "linecolor": "white",
            "showbackground": true,
            "ticks": "",
            "zerolinecolor": "white"
           },
           "zaxis": {
            "backgroundcolor": "#E5ECF6",
            "gridcolor": "white",
            "gridwidth": 2,
            "linecolor": "white",
            "showbackground": true,
            "ticks": "",
            "zerolinecolor": "white"
           }
          },
          "shapedefaults": {
           "line": {
            "color": "#2a3f5f"
           }
          },
          "ternary": {
           "aaxis": {
            "gridcolor": "white",
            "linecolor": "white",
            "ticks": ""
           },
           "baxis": {
            "gridcolor": "white",
            "linecolor": "white",
            "ticks": ""
           },
           "bgcolor": "#E5ECF6",
           "caxis": {
            "gridcolor": "white",
            "linecolor": "white",
            "ticks": ""
           }
          },
          "title": {
           "x": 0.05
          },
          "xaxis": {
           "automargin": true,
           "gridcolor": "white",
           "linecolor": "white",
           "ticks": "",
           "title": {
            "standoff": 15
           },
           "zerolinecolor": "white",
           "zerolinewidth": 2
          },
          "yaxis": {
           "automargin": true,
           "gridcolor": "white",
           "linecolor": "white",
           "ticks": "",
           "title": {
            "standoff": 15
           },
           "zerolinecolor": "white",
           "zerolinewidth": 2
          }
         }
        },
        "title": {
         "text": "Box Plot Ratings"
        },
        "xaxis": {
         "anchor": "y",
         "domain": [
          0,
          1
         ],
         "title": {
          "text": "Branch"
         }
        },
        "yaxis": {
         "anchor": "x",
         "domain": [
          0,
          1
         ],
         "title": {
          "text": "Rating"
         }
        }
       }
      },
      "text/html": [
       "<div>                            <div id=\"996ce79a-75f9-4438-ab83-f0532d8b9e41\" class=\"plotly-graph-div\" style=\"height:525px; width:100%;\"></div>            <script type=\"text/javascript\">                require([\"plotly\"], function(Plotly) {                    window.PLOTLYENV=window.PLOTLYENV || {};                                    if (document.getElementById(\"996ce79a-75f9-4438-ab83-f0532d8b9e41\")) {                    Plotly.newPlot(                        \"996ce79a-75f9-4438-ab83-f0532d8b9e41\",                        [{\"alignmentgroup\":\"True\",\"boxpoints\":\"all\",\"customdata\":[[\"Abuja\"],[\"Abuja\"],[\"Abuja\"],[\"Abuja\"],[\"Abuja\"],[\"Abuja\"],[\"Abuja\"],[\"Abuja\"],[\"Abuja\"],[\"Abuja\"],[\"Abuja\"],[\"Abuja\"],[\"Abuja\"],[\"Abuja\"],[\"Abuja\"],[\"Abuja\"],[\"Abuja\"],[\"Abuja\"],[\"Abuja\"],[\"Abuja\"],[\"Abuja\"],[\"Abuja\"],[\"Abuja\"],[\"Abuja\"],[\"Abuja\"],[\"Abuja\"],[\"Abuja\"],[\"Abuja\"],[\"Abuja\"],[\"Abuja\"],[\"Abuja\"],[\"Abuja\"],[\"Abuja\"],[\"Abuja\"],[\"Abuja\"],[\"Abuja\"],[\"Abuja\"],[\"Abuja\"],[\"Abuja\"],[\"Abuja\"],[\"Abuja\"],[\"Abuja\"],[\"Abuja\"],[\"Abuja\"],[\"Abuja\"],[\"Abuja\"],[\"Abuja\"],[\"Abuja\"],[\"Abuja\"],[\"Abuja\"],[\"Abuja\"],[\"Abuja\"],[\"Abuja\"],[\"Abuja\"],[\"Abuja\"],[\"Abuja\"],[\"Abuja\"],[\"Abuja\"],[\"Abuja\"],[\"Abuja\"],[\"Abuja\"],[\"Abuja\"],[\"Abuja\"],[\"Abuja\"],[\"Abuja\"],[\"Abuja\"],[\"Abuja\"],[\"Abuja\"],[\"Abuja\"],[\"Abuja\"],[\"Abuja\"],[\"Abuja\"],[\"Abuja\"],[\"Abuja\"],[\"Abuja\"],[\"Abuja\"],[\"Abuja\"],[\"Abuja\"],[\"Abuja\"],[\"Abuja\"],[\"Abuja\"],[\"Abuja\"],[\"Abuja\"],[\"Abuja\"],[\"Abuja\"],[\"Abuja\"],[\"Abuja\"],[\"Abuja\"],[\"Abuja\"],[\"Abuja\"],[\"Abuja\"],[\"Abuja\"],[\"Abuja\"],[\"Abuja\"],[\"Abuja\"],[\"Abuja\"],[\"Abuja\"],[\"Abuja\"],[\"Abuja\"],[\"Abuja\"],[\"Abuja\"],[\"Abuja\"],[\"Abuja\"],[\"Abuja\"],[\"Abuja\"],[\"Abuja\"],[\"Abuja\"],[\"Abuja\"],[\"Abuja\"],[\"Abuja\"],[\"Abuja\"],[\"Abuja\"],[\"Abuja\"],[\"Abuja\"],[\"Abuja\"],[\"Abuja\"],[\"Abuja\"],[\"Abuja\"],[\"Abuja\"],[\"Abuja\"],[\"Abuja\"],[\"Abuja\"],[\"Abuja\"],[\"Abuja\"],[\"Abuja\"],[\"Abuja\"],[\"Abuja\"],[\"Abuja\"],[\"Abuja\"],[\"Abuja\"],[\"Abuja\"],[\"Abuja\"],[\"Abuja\"],[\"Abuja\"],[\"Abuja\"],[\"Abuja\"],[\"Abuja\"],[\"Abuja\"],[\"Abuja\"],[\"Abuja\"],[\"Abuja\"],[\"Abuja\"],[\"Abuja\"],[\"Abuja\"],[\"Abuja\"],[\"Abuja\"],[\"Abuja\"],[\"Abuja\"],[\"Abuja\"],[\"Abuja\"],[\"Abuja\"],[\"Abuja\"],[\"Abuja\"],[\"Abuja\"],[\"Abuja\"],[\"Abuja\"],[\"Abuja\"],[\"Abuja\"],[\"Abuja\"],[\"Abuja\"],[\"Abuja\"],[\"Abuja\"],[\"Abuja\"],[\"Abuja\"],[\"Abuja\"],[\"Abuja\"],[\"Abuja\"],[\"Abuja\"],[\"Abuja\"],[\"Abuja\"],[\"Abuja\"],[\"Abuja\"],[\"Abuja\"],[\"Abuja\"],[\"Abuja\"],[\"Abuja\"],[\"Abuja\"],[\"Abuja\"],[\"Abuja\"],[\"Abuja\"],[\"Abuja\"],[\"Abuja\"],[\"Abuja\"],[\"Abuja\"],[\"Abuja\"],[\"Abuja\"],[\"Abuja\"],[\"Abuja\"],[\"Abuja\"],[\"Abuja\"],[\"Abuja\"],[\"Abuja\"],[\"Abuja\"],[\"Abuja\"],[\"Abuja\"],[\"Abuja\"],[\"Abuja\"],[\"Abuja\"],[\"Abuja\"],[\"Abuja\"],[\"Abuja\"],[\"Abuja\"],[\"Abuja\"],[\"Abuja\"],[\"Abuja\"],[\"Abuja\"],[\"Abuja\"],[\"Abuja\"],[\"Abuja\"],[\"Abuja\"],[\"Abuja\"],[\"Abuja\"],[\"Abuja\"],[\"Abuja\"],[\"Abuja\"],[\"Abuja\"],[\"Abuja\"],[\"Abuja\"],[\"Abuja\"],[\"Abuja\"],[\"Abuja\"],[\"Abuja\"],[\"Abuja\"],[\"Abuja\"],[\"Abuja\"],[\"Abuja\"],[\"Abuja\"],[\"Abuja\"],[\"Abuja\"],[\"Abuja\"],[\"Abuja\"],[\"Abuja\"],[\"Abuja\"],[\"Abuja\"],[\"Abuja\"],[\"Abuja\"],[\"Abuja\"],[\"Abuja\"],[\"Abuja\"],[\"Abuja\"],[\"Abuja\"],[\"Abuja\"],[\"Abuja\"],[\"Abuja\"],[\"Abuja\"],[\"Abuja\"],[\"Abuja\"],[\"Abuja\"],[\"Abuja\"],[\"Abuja\"],[\"Abuja\"],[\"Abuja\"],[\"Abuja\"],[\"Abuja\"],[\"Abuja\"],[\"Abuja\"],[\"Abuja\"],[\"Abuja\"],[\"Abuja\"],[\"Abuja\"],[\"Abuja\"],[\"Abuja\"],[\"Abuja\"],[\"Abuja\"],[\"Abuja\"],[\"Abuja\"],[\"Abuja\"],[\"Abuja\"],[\"Abuja\"],[\"Abuja\"],[\"Abuja\"],[\"Abuja\"],[\"Abuja\"],[\"Abuja\"],[\"Abuja\"],[\"Abuja\"],[\"Abuja\"],[\"Abuja\"],[\"Abuja\"],[\"Abuja\"],[\"Abuja\"],[\"Abuja\"],[\"Abuja\"],[\"Abuja\"],[\"Abuja\"],[\"Abuja\"],[\"Abuja\"],[\"Abuja\"],[\"Abuja\"],[\"Abuja\"],[\"Abuja\"],[\"Abuja\"],[\"Abuja\"],[\"Abuja\"],[\"Abuja\"],[\"Abuja\"],[\"Abuja\"],[\"Abuja\"],[\"Abuja\"],[\"Abuja\"],[\"Abuja\"],[\"Abuja\"],[\"Abuja\"],[\"Abuja\"],[\"Abuja\"],[\"Abuja\"],[\"Abuja\"],[\"Abuja\"],[\"Abuja\"],[\"Abuja\"],[\"Abuja\"],[\"Abuja\"],[\"Abuja\"],[\"Abuja\"],[\"Abuja\"],[\"Abuja\"],[\"Abuja\"],[\"Abuja\"],[\"Abuja\"],[\"Abuja\"],[\"Abuja\"],[\"Abuja\"],[\"Abuja\"],[\"Abuja\"],[\"Abuja\"],[\"Abuja\"],[\"Abuja\"],[\"Abuja\"],[\"Abuja\"],[\"Abuja\"],[\"Abuja\"],[\"Abuja\"],[\"Port Harcourt\"],[\"Port Harcourt\"],[\"Port Harcourt\"],[\"Port Harcourt\"],[\"Port Harcourt\"],[\"Port Harcourt\"],[\"Port Harcourt\"],[\"Port Harcourt\"],[\"Port Harcourt\"],[\"Port Harcourt\"],[\"Port Harcourt\"],[\"Port Harcourt\"],[\"Port Harcourt\"],[\"Port Harcourt\"],[\"Port Harcourt\"],[\"Port Harcourt\"],[\"Port Harcourt\"],[\"Port Harcourt\"],[\"Port Harcourt\"],[\"Port Harcourt\"],[\"Port Harcourt\"],[\"Port Harcourt\"],[\"Port Harcourt\"],[\"Port Harcourt\"],[\"Port Harcourt\"],[\"Port Harcourt\"],[\"Port Harcourt\"],[\"Port Harcourt\"],[\"Port Harcourt\"],[\"Port Harcourt\"],[\"Port Harcourt\"],[\"Port Harcourt\"],[\"Port Harcourt\"],[\"Port Harcourt\"],[\"Port Harcourt\"],[\"Port Harcourt\"],[\"Port Harcourt\"],[\"Port Harcourt\"],[\"Port Harcourt\"],[\"Port Harcourt\"],[\"Port Harcourt\"],[\"Port Harcourt\"],[\"Port Harcourt\"],[\"Port Harcourt\"],[\"Port Harcourt\"],[\"Port Harcourt\"],[\"Port Harcourt\"],[\"Port Harcourt\"],[\"Port Harcourt\"],[\"Port Harcourt\"],[\"Port Harcourt\"],[\"Port Harcourt\"],[\"Port Harcourt\"],[\"Port Harcourt\"],[\"Port Harcourt\"],[\"Port Harcourt\"],[\"Port Harcourt\"],[\"Port Harcourt\"],[\"Port Harcourt\"],[\"Port Harcourt\"],[\"Port Harcourt\"],[\"Port Harcourt\"],[\"Port Harcourt\"],[\"Port Harcourt\"],[\"Port Harcourt\"],[\"Port Harcourt\"],[\"Port Harcourt\"],[\"Port Harcourt\"],[\"Port Harcourt\"],[\"Port Harcourt\"],[\"Port Harcourt\"],[\"Port Harcourt\"],[\"Port Harcourt\"],[\"Port Harcourt\"],[\"Port Harcourt\"],[\"Port Harcourt\"],[\"Port Harcourt\"],[\"Port Harcourt\"],[\"Port Harcourt\"],[\"Port Harcourt\"],[\"Port Harcourt\"],[\"Port Harcourt\"],[\"Port Harcourt\"],[\"Port Harcourt\"],[\"Port Harcourt\"],[\"Port Harcourt\"],[\"Port Harcourt\"],[\"Port Harcourt\"],[\"Port Harcourt\"],[\"Port Harcourt\"],[\"Port Harcourt\"],[\"Port Harcourt\"],[\"Port Harcourt\"],[\"Port Harcourt\"],[\"Port Harcourt\"],[\"Port Harcourt\"],[\"Port Harcourt\"],[\"Port Harcourt\"],[\"Port Harcourt\"],[\"Port Harcourt\"],[\"Port Harcourt\"],[\"Port Harcourt\"],[\"Port Harcourt\"],[\"Port Harcourt\"],[\"Port Harcourt\"],[\"Port Harcourt\"],[\"Port Harcourt\"],[\"Port Harcourt\"],[\"Port Harcourt\"],[\"Port Harcourt\"],[\"Port Harcourt\"],[\"Port Harcourt\"],[\"Port Harcourt\"],[\"Port Harcourt\"],[\"Port Harcourt\"],[\"Port Harcourt\"],[\"Port Harcourt\"],[\"Port Harcourt\"],[\"Port Harcourt\"],[\"Port Harcourt\"],[\"Port Harcourt\"],[\"Port Harcourt\"],[\"Port Harcourt\"],[\"Port Harcourt\"],[\"Port Harcourt\"],[\"Port Harcourt\"],[\"Port Harcourt\"],[\"Port Harcourt\"],[\"Port Harcourt\"],[\"Port Harcourt\"],[\"Port Harcourt\"],[\"Port Harcourt\"],[\"Port Harcourt\"],[\"Port Harcourt\"],[\"Port Harcourt\"],[\"Port Harcourt\"],[\"Port Harcourt\"],[\"Port Harcourt\"],[\"Port Harcourt\"],[\"Port Harcourt\"],[\"Port Harcourt\"],[\"Port Harcourt\"],[\"Port Harcourt\"],[\"Port Harcourt\"],[\"Port Harcourt\"],[\"Port Harcourt\"],[\"Port Harcourt\"],[\"Port Harcourt\"],[\"Port Harcourt\"],[\"Port Harcourt\"],[\"Port Harcourt\"],[\"Port Harcourt\"],[\"Port Harcourt\"],[\"Port Harcourt\"],[\"Port Harcourt\"],[\"Port Harcourt\"],[\"Port Harcourt\"],[\"Port Harcourt\"],[\"Port Harcourt\"],[\"Port Harcourt\"],[\"Port Harcourt\"],[\"Port Harcourt\"],[\"Port Harcourt\"],[\"Port Harcourt\"],[\"Port Harcourt\"],[\"Port Harcourt\"],[\"Port Harcourt\"],[\"Port Harcourt\"],[\"Port Harcourt\"],[\"Port Harcourt\"],[\"Port Harcourt\"],[\"Port Harcourt\"],[\"Port Harcourt\"],[\"Port Harcourt\"],[\"Port Harcourt\"],[\"Port Harcourt\"],[\"Port Harcourt\"],[\"Port Harcourt\"],[\"Port Harcourt\"],[\"Port Harcourt\"],[\"Port Harcourt\"],[\"Port Harcourt\"],[\"Port Harcourt\"],[\"Port Harcourt\"],[\"Port Harcourt\"],[\"Port Harcourt\"],[\"Port Harcourt\"],[\"Port Harcourt\"],[\"Port Harcourt\"],[\"Port Harcourt\"],[\"Port Harcourt\"],[\"Port Harcourt\"],[\"Port Harcourt\"],[\"Port Harcourt\"],[\"Port Harcourt\"],[\"Port Harcourt\"],[\"Port Harcourt\"],[\"Port Harcourt\"],[\"Port Harcourt\"],[\"Port Harcourt\"],[\"Port Harcourt\"],[\"Port Harcourt\"],[\"Port Harcourt\"],[\"Port Harcourt\"],[\"Port Harcourt\"],[\"Port Harcourt\"],[\"Port Harcourt\"],[\"Port Harcourt\"],[\"Port Harcourt\"],[\"Port Harcourt\"],[\"Port Harcourt\"],[\"Port Harcourt\"],[\"Port Harcourt\"],[\"Port Harcourt\"],[\"Port Harcourt\"],[\"Port Harcourt\"],[\"Port Harcourt\"],[\"Port Harcourt\"],[\"Port Harcourt\"],[\"Port Harcourt\"],[\"Port Harcourt\"],[\"Port Harcourt\"],[\"Port Harcourt\"],[\"Port Harcourt\"],[\"Port Harcourt\"],[\"Port Harcourt\"],[\"Port Harcourt\"],[\"Port Harcourt\"],[\"Port Harcourt\"],[\"Port Harcourt\"],[\"Port Harcourt\"],[\"Port Harcourt\"],[\"Port Harcourt\"],[\"Port Harcourt\"],[\"Port Harcourt\"],[\"Port Harcourt\"],[\"Port Harcourt\"],[\"Port Harcourt\"],[\"Port Harcourt\"],[\"Port Harcourt\"],[\"Port Harcourt\"],[\"Port Harcourt\"],[\"Port Harcourt\"],[\"Port Harcourt\"],[\"Port Harcourt\"],[\"Port Harcourt\"],[\"Port Harcourt\"],[\"Port Harcourt\"],[\"Port Harcourt\"],[\"Port Harcourt\"],[\"Port Harcourt\"],[\"Port Harcourt\"],[\"Port Harcourt\"],[\"Port Harcourt\"],[\"Port Harcourt\"],[\"Port Harcourt\"],[\"Port Harcourt\"],[\"Port Harcourt\"],[\"Port Harcourt\"],[\"Port Harcourt\"],[\"Port Harcourt\"],[\"Port Harcourt\"],[\"Port Harcourt\"],[\"Port Harcourt\"],[\"Port Harcourt\"],[\"Port Harcourt\"],[\"Port Harcourt\"],[\"Port Harcourt\"],[\"Port Harcourt\"],[\"Port Harcourt\"],[\"Port Harcourt\"],[\"Port Harcourt\"],[\"Port Harcourt\"],[\"Port Harcourt\"],[\"Port Harcourt\"],[\"Port Harcourt\"],[\"Port Harcourt\"],[\"Port Harcourt\"],[\"Port Harcourt\"],[\"Port Harcourt\"],[\"Port Harcourt\"],[\"Port Harcourt\"],[\"Port Harcourt\"],[\"Port Harcourt\"],[\"Port Harcourt\"],[\"Port Harcourt\"],[\"Port Harcourt\"],[\"Port Harcourt\"],[\"Port Harcourt\"],[\"Port Harcourt\"],[\"Port Harcourt\"],[\"Port Harcourt\"],[\"Port Harcourt\"],[\"Port Harcourt\"],[\"Port Harcourt\"],[\"Port Harcourt\"],[\"Port Harcourt\"],[\"Port Harcourt\"],[\"Port Harcourt\"],[\"Port Harcourt\"],[\"Port Harcourt\"],[\"Port Harcourt\"],[\"Port Harcourt\"],[\"Port Harcourt\"],[\"Port Harcourt\"],[\"Port Harcourt\"],[\"Port Harcourt\"],[\"Port Harcourt\"],[\"Port Harcourt\"],[\"Port Harcourt\"],[\"Port Harcourt\"],[\"Port Harcourt\"],[\"Port Harcourt\"],[\"Port Harcourt\"],[\"Port Harcourt\"],[\"Port Harcourt\"],[\"Port Harcourt\"],[\"Port Harcourt\"],[\"Port Harcourt\"],[\"Port Harcourt\"],[\"Port Harcourt\"],[\"Port Harcourt\"],[\"Port Harcourt\"],[\"Port Harcourt\"],[\"Port Harcourt\"],[\"Port Harcourt\"],[\"Port Harcourt\"],[\"Port Harcourt\"],[\"Lagos\"],[\"Lagos\"],[\"Lagos\"],[\"Lagos\"],[\"Lagos\"],[\"Lagos\"],[\"Lagos\"],[\"Lagos\"],[\"Lagos\"],[\"Lagos\"],[\"Lagos\"],[\"Lagos\"],[\"Lagos\"],[\"Lagos\"],[\"Lagos\"],[\"Lagos\"],[\"Lagos\"],[\"Lagos\"],[\"Lagos\"],[\"Lagos\"],[\"Lagos\"],[\"Lagos\"],[\"Lagos\"],[\"Lagos\"],[\"Lagos\"],[\"Lagos\"],[\"Lagos\"],[\"Lagos\"],[\"Lagos\"],[\"Lagos\"],[\"Lagos\"],[\"Lagos\"],[\"Lagos\"],[\"Lagos\"],[\"Lagos\"],[\"Lagos\"],[\"Lagos\"],[\"Lagos\"],[\"Lagos\"],[\"Lagos\"],[\"Lagos\"],[\"Lagos\"],[\"Lagos\"],[\"Lagos\"],[\"Lagos\"],[\"Lagos\"],[\"Lagos\"],[\"Lagos\"],[\"Lagos\"],[\"Lagos\"],[\"Lagos\"],[\"Lagos\"],[\"Lagos\"],[\"Lagos\"],[\"Lagos\"],[\"Lagos\"],[\"Lagos\"],[\"Lagos\"],[\"Lagos\"],[\"Lagos\"],[\"Lagos\"],[\"Lagos\"],[\"Lagos\"],[\"Lagos\"],[\"Lagos\"],[\"Lagos\"],[\"Lagos\"],[\"Lagos\"],[\"Lagos\"],[\"Lagos\"],[\"Lagos\"],[\"Lagos\"],[\"Lagos\"],[\"Lagos\"],[\"Lagos\"],[\"Lagos\"],[\"Lagos\"],[\"Lagos\"],[\"Lagos\"],[\"Lagos\"],[\"Lagos\"],[\"Lagos\"],[\"Lagos\"],[\"Lagos\"],[\"Lagos\"],[\"Lagos\"],[\"Lagos\"],[\"Lagos\"],[\"Lagos\"],[\"Lagos\"],[\"Lagos\"],[\"Lagos\"],[\"Lagos\"],[\"Lagos\"],[\"Lagos\"],[\"Lagos\"],[\"Lagos\"],[\"Lagos\"],[\"Lagos\"],[\"Lagos\"],[\"Lagos\"],[\"Lagos\"],[\"Lagos\"],[\"Lagos\"],[\"Lagos\"],[\"Lagos\"],[\"Lagos\"],[\"Lagos\"],[\"Lagos\"],[\"Lagos\"],[\"Lagos\"],[\"Lagos\"],[\"Lagos\"],[\"Lagos\"],[\"Lagos\"],[\"Lagos\"],[\"Lagos\"],[\"Lagos\"],[\"Lagos\"],[\"Lagos\"],[\"Lagos\"],[\"Lagos\"],[\"Lagos\"],[\"Lagos\"],[\"Lagos\"],[\"Lagos\"],[\"Lagos\"],[\"Lagos\"],[\"Lagos\"],[\"Lagos\"],[\"Lagos\"],[\"Lagos\"],[\"Lagos\"],[\"Lagos\"],[\"Lagos\"],[\"Lagos\"],[\"Lagos\"],[\"Lagos\"],[\"Lagos\"],[\"Lagos\"],[\"Lagos\"],[\"Lagos\"],[\"Lagos\"],[\"Lagos\"],[\"Lagos\"],[\"Lagos\"],[\"Lagos\"],[\"Lagos\"],[\"Lagos\"],[\"Lagos\"],[\"Lagos\"],[\"Lagos\"],[\"Lagos\"],[\"Lagos\"],[\"Lagos\"],[\"Lagos\"],[\"Lagos\"],[\"Lagos\"],[\"Lagos\"],[\"Lagos\"],[\"Lagos\"],[\"Lagos\"],[\"Lagos\"],[\"Lagos\"],[\"Lagos\"],[\"Lagos\"],[\"Lagos\"],[\"Lagos\"],[\"Lagos\"],[\"Lagos\"],[\"Lagos\"],[\"Lagos\"],[\"Lagos\"],[\"Lagos\"],[\"Lagos\"],[\"Lagos\"],[\"Lagos\"],[\"Lagos\"],[\"Lagos\"],[\"Lagos\"],[\"Lagos\"],[\"Lagos\"],[\"Lagos\"],[\"Lagos\"],[\"Lagos\"],[\"Lagos\"],[\"Lagos\"],[\"Lagos\"],[\"Lagos\"],[\"Lagos\"],[\"Lagos\"],[\"Lagos\"],[\"Lagos\"],[\"Lagos\"],[\"Lagos\"],[\"Lagos\"],[\"Lagos\"],[\"Lagos\"],[\"Lagos\"],[\"Lagos\"],[\"Lagos\"],[\"Lagos\"],[\"Lagos\"],[\"Lagos\"],[\"Lagos\"],[\"Lagos\"],[\"Lagos\"],[\"Lagos\"],[\"Lagos\"],[\"Lagos\"],[\"Lagos\"],[\"Lagos\"],[\"Lagos\"],[\"Lagos\"],[\"Lagos\"],[\"Lagos\"],[\"Lagos\"],[\"Lagos\"],[\"Lagos\"],[\"Lagos\"],[\"Lagos\"],[\"Lagos\"],[\"Lagos\"],[\"Lagos\"],[\"Lagos\"],[\"Lagos\"],[\"Lagos\"],[\"Lagos\"],[\"Lagos\"],[\"Lagos\"],[\"Lagos\"],[\"Lagos\"],[\"Lagos\"],[\"Lagos\"],[\"Lagos\"],[\"Lagos\"],[\"Lagos\"],[\"Lagos\"],[\"Lagos\"],[\"Lagos\"],[\"Lagos\"],[\"Lagos\"],[\"Lagos\"],[\"Lagos\"],[\"Lagos\"],[\"Lagos\"],[\"Lagos\"],[\"Lagos\"],[\"Lagos\"],[\"Lagos\"],[\"Lagos\"],[\"Lagos\"],[\"Lagos\"],[\"Lagos\"],[\"Lagos\"],[\"Lagos\"],[\"Lagos\"],[\"Lagos\"],[\"Lagos\"],[\"Lagos\"],[\"Lagos\"],[\"Lagos\"],[\"Lagos\"],[\"Lagos\"],[\"Lagos\"],[\"Lagos\"],[\"Lagos\"],[\"Lagos\"],[\"Lagos\"],[\"Lagos\"],[\"Lagos\"],[\"Lagos\"],[\"Lagos\"],[\"Lagos\"],[\"Lagos\"],[\"Lagos\"],[\"Lagos\"],[\"Lagos\"],[\"Lagos\"],[\"Lagos\"],[\"Lagos\"],[\"Lagos\"],[\"Lagos\"],[\"Lagos\"],[\"Lagos\"],[\"Lagos\"],[\"Lagos\"],[\"Lagos\"],[\"Lagos\"],[\"Lagos\"],[\"Lagos\"],[\"Lagos\"],[\"Lagos\"],[\"Lagos\"],[\"Lagos\"],[\"Lagos\"],[\"Lagos\"],[\"Lagos\"],[\"Lagos\"],[\"Lagos\"],[\"Lagos\"],[\"Lagos\"],[\"Lagos\"],[\"Lagos\"],[\"Lagos\"],[\"Lagos\"],[\"Lagos\"],[\"Lagos\"],[\"Lagos\"],[\"Lagos\"],[\"Lagos\"],[\"Lagos\"],[\"Lagos\"],[\"Lagos\"],[\"Lagos\"],[\"Lagos\"],[\"Lagos\"],[\"Lagos\"],[\"Lagos\"],[\"Lagos\"],[\"Lagos\"],[\"Lagos\"],[\"Lagos\"],[\"Lagos\"],[\"Lagos\"],[\"Lagos\"],[\"Lagos\"],[\"Lagos\"],[\"Lagos\"],[\"Lagos\"],[\"Lagos\"],[\"Lagos\"],[\"Lagos\"],[\"Lagos\"],[\"Lagos\"],[\"Lagos\"],[\"Lagos\"],[\"Lagos\"],[\"Lagos\"],[\"Lagos\"]],\"hovertemplate\":\"Branch=%{x}<br>Rating=%{y}<br>City=%{customdata[0]}<extra></extra>\",\"legendgroup\":\"\",\"marker\":{\"color\":\"#636efa\"},\"name\":\"\",\"notched\":true,\"offsetgroup\":\"\",\"orientation\":\"v\",\"showlegend\":false,\"type\":\"box\",\"x\":[\"B\",\"B\",\"B\",\"B\",\"B\",\"B\",\"B\",\"B\",\"B\",\"B\",\"B\",\"B\",\"B\",\"B\",\"B\",\"B\",\"B\",\"B\",\"B\",\"B\",\"B\",\"B\",\"B\",\"B\",\"B\",\"B\",\"B\",\"B\",\"B\",\"B\",\"B\",\"B\",\"B\",\"B\",\"B\",\"B\",\"B\",\"B\",\"B\",\"B\",\"B\",\"B\",\"B\",\"B\",\"B\",\"B\",\"B\",\"B\",\"B\",\"B\",\"B\",\"B\",\"B\",\"B\",\"B\",\"B\",\"B\",\"B\",\"B\",\"B\",\"B\",\"B\",\"B\",\"B\",\"B\",\"B\",\"B\",\"B\",\"B\",\"B\",\"B\",\"B\",\"B\",\"B\",\"B\",\"B\",\"B\",\"B\",\"B\",\"B\",\"B\",\"B\",\"B\",\"B\",\"B\",\"B\",\"B\",\"B\",\"B\",\"B\",\"B\",\"B\",\"B\",\"B\",\"B\",\"B\",\"B\",\"B\",\"B\",\"B\",\"B\",\"B\",\"B\",\"B\",\"B\",\"B\",\"B\",\"B\",\"B\",\"B\",\"B\",\"B\",\"B\",\"B\",\"B\",\"B\",\"B\",\"B\",\"B\",\"B\",\"B\",\"B\",\"B\",\"B\",\"B\",\"B\",\"B\",\"B\",\"B\",\"B\",\"B\",\"B\",\"B\",\"B\",\"B\",\"B\",\"B\",\"B\",\"B\",\"B\",\"B\",\"B\",\"B\",\"B\",\"B\",\"B\",\"B\",\"B\",\"B\",\"B\",\"B\",\"B\",\"B\",\"B\",\"B\",\"B\",\"B\",\"B\",\"B\",\"B\",\"B\",\"B\",\"B\",\"B\",\"B\",\"B\",\"B\",\"B\",\"B\",\"B\",\"B\",\"B\",\"B\",\"B\",\"B\",\"B\",\"B\",\"B\",\"B\",\"B\",\"B\",\"B\",\"B\",\"B\",\"B\",\"B\",\"B\",\"B\",\"B\",\"B\",\"B\",\"B\",\"B\",\"B\",\"B\",\"B\",\"B\",\"B\",\"B\",\"B\",\"B\",\"B\",\"B\",\"B\",\"B\",\"B\",\"B\",\"B\",\"B\",\"B\",\"B\",\"B\",\"B\",\"B\",\"B\",\"B\",\"B\",\"B\",\"B\",\"B\",\"B\",\"B\",\"B\",\"B\",\"B\",\"B\",\"B\",\"B\",\"B\",\"B\",\"B\",\"B\",\"B\",\"B\",\"B\",\"B\",\"B\",\"B\",\"B\",\"B\",\"B\",\"B\",\"B\",\"B\",\"B\",\"B\",\"B\",\"B\",\"B\",\"B\",\"B\",\"B\",\"B\",\"B\",\"B\",\"B\",\"B\",\"B\",\"B\",\"B\",\"B\",\"B\",\"B\",\"B\",\"B\",\"B\",\"B\",\"B\",\"B\",\"B\",\"B\",\"B\",\"B\",\"B\",\"B\",\"B\",\"B\",\"B\",\"B\",\"B\",\"B\",\"B\",\"B\",\"B\",\"B\",\"B\",\"B\",\"B\",\"B\",\"B\",\"B\",\"B\",\"B\",\"B\",\"B\",\"B\",\"B\",\"B\",\"B\",\"B\",\"B\",\"B\",\"B\",\"B\",\"B\",\"B\",\"B\",\"B\",\"B\",\"B\",\"B\",\"B\",\"B\",\"B\",\"B\",\"B\",\"B\",\"B\",\"B\",\"B\",\"B\",\"B\",\"B\",\"B\",\"B\",\"B\",\"B\",\"B\",\"B\",\"B\",\"B\",\"B\",\"C\",\"C\",\"C\",\"C\",\"C\",\"C\",\"C\",\"C\",\"C\",\"C\",\"C\",\"C\",\"C\",\"C\",\"C\",\"C\",\"C\",\"C\",\"C\",\"C\",\"C\",\"C\",\"C\",\"C\",\"C\",\"C\",\"C\",\"C\",\"C\",\"C\",\"C\",\"C\",\"C\",\"C\",\"C\",\"C\",\"C\",\"C\",\"C\",\"C\",\"C\",\"C\",\"C\",\"C\",\"C\",\"C\",\"C\",\"C\",\"C\",\"C\",\"C\",\"C\",\"C\",\"C\",\"C\",\"C\",\"C\",\"C\",\"C\",\"C\",\"C\",\"C\",\"C\",\"C\",\"C\",\"C\",\"C\",\"C\",\"C\",\"C\",\"C\",\"C\",\"C\",\"C\",\"C\",\"C\",\"C\",\"C\",\"C\",\"C\",\"C\",\"C\",\"C\",\"C\",\"C\",\"C\",\"C\",\"C\",\"C\",\"C\",\"C\",\"C\",\"C\",\"C\",\"C\",\"C\",\"C\",\"C\",\"C\",\"C\",\"C\",\"C\",\"C\",\"C\",\"C\",\"C\",\"C\",\"C\",\"C\",\"C\",\"C\",\"C\",\"C\",\"C\",\"C\",\"C\",\"C\",\"C\",\"C\",\"C\",\"C\",\"C\",\"C\",\"C\",\"C\",\"C\",\"C\",\"C\",\"C\",\"C\",\"C\",\"C\",\"C\",\"C\",\"C\",\"C\",\"C\",\"C\",\"C\",\"C\",\"C\",\"C\",\"C\",\"C\",\"C\",\"C\",\"C\",\"C\",\"C\",\"C\",\"C\",\"C\",\"C\",\"C\",\"C\",\"C\",\"C\",\"C\",\"C\",\"C\",\"C\",\"C\",\"C\",\"C\",\"C\",\"C\",\"C\",\"C\",\"C\",\"C\",\"C\",\"C\",\"C\",\"C\",\"C\",\"C\",\"C\",\"C\",\"C\",\"C\",\"C\",\"C\",\"C\",\"C\",\"C\",\"C\",\"C\",\"C\",\"C\",\"C\",\"C\",\"C\",\"C\",\"C\",\"C\",\"C\",\"C\",\"C\",\"C\",\"C\",\"C\",\"C\",\"C\",\"C\",\"C\",\"C\",\"C\",\"C\",\"C\",\"C\",\"C\",\"C\",\"C\",\"C\",\"C\",\"C\",\"C\",\"C\",\"C\",\"C\",\"C\",\"C\",\"C\",\"C\",\"C\",\"C\",\"C\",\"C\",\"C\",\"C\",\"C\",\"C\",\"C\",\"C\",\"C\",\"C\",\"C\",\"C\",\"C\",\"C\",\"C\",\"C\",\"C\",\"C\",\"C\",\"C\",\"C\",\"C\",\"C\",\"C\",\"C\",\"C\",\"C\",\"C\",\"C\",\"C\",\"C\",\"C\",\"C\",\"C\",\"C\",\"C\",\"C\",\"C\",\"C\",\"C\",\"C\",\"C\",\"C\",\"C\",\"C\",\"C\",\"C\",\"C\",\"C\",\"C\",\"C\",\"C\",\"C\",\"C\",\"C\",\"C\",\"C\",\"C\",\"C\",\"C\",\"C\",\"C\",\"C\",\"C\",\"C\",\"C\",\"C\",\"C\",\"C\",\"C\",\"C\",\"C\",\"C\",\"C\",\"C\",\"C\",\"C\",\"C\",\"C\",\"C\",\"C\",\"C\",\"C\",\"C\",\"C\",\"C\",\"C\",\"C\",\"C\",\"C\",\"C\",\"C\",\"C\",\"C\",\"C\",\"C\",\"C\",\"C\",\"C\",\"C\",\"C\",\"C\",\"A\",\"A\",\"A\",\"A\",\"A\",\"A\",\"A\",\"A\",\"A\",\"A\",\"A\",\"A\",\"A\",\"A\",\"A\",\"A\",\"A\",\"A\",\"A\",\"A\",\"A\",\"A\",\"A\",\"A\",\"A\",\"A\",\"A\",\"A\",\"A\",\"A\",\"A\",\"A\",\"A\",\"A\",\"A\",\"A\",\"A\",\"A\",\"A\",\"A\",\"A\",\"A\",\"A\",\"A\",\"A\",\"A\",\"A\",\"A\",\"A\",\"A\",\"A\",\"A\",\"A\",\"A\",\"A\",\"A\",\"A\",\"A\",\"A\",\"A\",\"A\",\"A\",\"A\",\"A\",\"A\",\"A\",\"A\",\"A\",\"A\",\"A\",\"A\",\"A\",\"A\",\"A\",\"A\",\"A\",\"A\",\"A\",\"A\",\"A\",\"A\",\"A\",\"A\",\"A\",\"A\",\"A\",\"A\",\"A\",\"A\",\"A\",\"A\",\"A\",\"A\",\"A\",\"A\",\"A\",\"A\",\"A\",\"A\",\"A\",\"A\",\"A\",\"A\",\"A\",\"A\",\"A\",\"A\",\"A\",\"A\",\"A\",\"A\",\"A\",\"A\",\"A\",\"A\",\"A\",\"A\",\"A\",\"A\",\"A\",\"A\",\"A\",\"A\",\"A\",\"A\",\"A\",\"A\",\"A\",\"A\",\"A\",\"A\",\"A\",\"A\",\"A\",\"A\",\"A\",\"A\",\"A\",\"A\",\"A\",\"A\",\"A\",\"A\",\"A\",\"A\",\"A\",\"A\",\"A\",\"A\",\"A\",\"A\",\"A\",\"A\",\"A\",\"A\",\"A\",\"A\",\"A\",\"A\",\"A\",\"A\",\"A\",\"A\",\"A\",\"A\",\"A\",\"A\",\"A\",\"A\",\"A\",\"A\",\"A\",\"A\",\"A\",\"A\",\"A\",\"A\",\"A\",\"A\",\"A\",\"A\",\"A\",\"A\",\"A\",\"A\",\"A\",\"A\",\"A\",\"A\",\"A\",\"A\",\"A\",\"A\",\"A\",\"A\",\"A\",\"A\",\"A\",\"A\",\"A\",\"A\",\"A\",\"A\",\"A\",\"A\",\"A\",\"A\",\"A\",\"A\",\"A\",\"A\",\"A\",\"A\",\"A\",\"A\",\"A\",\"A\",\"A\",\"A\",\"A\",\"A\",\"A\",\"A\",\"A\",\"A\",\"A\",\"A\",\"A\",\"A\",\"A\",\"A\",\"A\",\"A\",\"A\",\"A\",\"A\",\"A\",\"A\",\"A\",\"A\",\"A\",\"A\",\"A\",\"A\",\"A\",\"A\",\"A\",\"A\",\"A\",\"A\",\"A\",\"A\",\"A\",\"A\",\"A\",\"A\",\"A\",\"A\",\"A\",\"A\",\"A\",\"A\",\"A\",\"A\",\"A\",\"A\",\"A\",\"A\",\"A\",\"A\",\"A\",\"A\",\"A\",\"A\",\"A\",\"A\",\"A\",\"A\",\"A\",\"A\",\"A\",\"A\",\"A\",\"A\",\"A\",\"A\",\"A\",\"A\",\"A\",\"A\",\"A\",\"A\",\"A\",\"A\",\"A\",\"A\",\"A\",\"A\",\"A\",\"A\",\"A\",\"A\",\"A\",\"A\",\"A\",\"A\",\"A\",\"A\",\"A\",\"A\",\"A\",\"A\",\"A\",\"A\",\"A\",\"A\",\"A\",\"A\",\"A\",\"A\",\"A\",\"A\",\"A\",\"A\",\"A\",\"A\",\"A\",\"A\",\"A\",\"A\",\"A\",\"A\",\"A\",\"A\",\"A\",\"A\",\"A\",\"A\",\"A\",\"A\"],\"x0\":\" \",\"xaxis\":\"x\",\"y\":[5.9,4.5,6.8,4.5,4.4,5.1,4.4,6.7,9.6,4.8,4.5,5.1,7.7,7.9,5.6,9.5,8.4,4.1,8.1,6.5,6.5,10.0,7.6,9.9,4.0,6.4,6.1,8.6,5.1,7.4,8.0,4.6,8.4,5.3,5.2,4.1,4.2,7.3,7.2,7.5,7.4,8.8,8.2,6.2,4.8,6.1,9.7,6.0,10.0,5.9,5.6,9.4,9.8,8.7,8.0,7.5,7.0,7.2,4.6,5.7,6.6,8.7,5.4,5.1,6.5,4.9,4.4,6.5,8.5,8.7,7.9,6.1,5.4,4.0,5.3,6.5,8.7,8.0,6.7,4.3,8.3,4.8,4.2,6.4,9.0,5.7,7.9,9.5,6.3,7.9,6.2,7.6,5.2,7.0,5.9,4.7,8.6,5.5,6.4,4.0,6.8,5.2,8.9,7.8,8.9,7.7,4.8,8.5,4.8,7.8,6.5,5.6,9.9,4.9,9.6,4.0,9.9,5.8,6.6,9.7,5.8,8.3,8.0,9.6,4.1,5.1,6.9,7.8,8.3,6.7,7.0,8.0,6.9,6.9,9.6,6.8,4.3,9.5,5.3,9.6,6.7,7.6,6.9,4.5,6.2,8.7,4.5,4.6,6.7,6.0,6.6,7.3,9.8,8.2,8.7,7.1,5.5,8.9,5.4,6.3,9.5,6.7,7.7,7.0,6.2,9.8,7.7,9.0,6.7,6.1,8.2,5.0,5.0,9.2,4.9,4.2,6.5,8.9,9.7,7.7,9.5,7.3,5.7,9.0,5.5,7.6,8.6,8.1,6.3,5.8,8.1,9.5,7.0,5.3,8.7,7.8,8.6,8.9,7.2,6.9,4.9,4.4,6.8,9.1,5.0,4.7,5.0,5.0,8.5,7.5,6.4,6.0,5.6,7.8,9.9,5.1,9.4,9.3,5.9,7.7,6.4,4.1,5.5,4.0,4.6,7.3,6.5,7.0,4.9,6.4,8.0,4.3,4.3,5.0,9.2,6.3,8.9,7.6,6.1,7.1,7.9,7.4,8.9,9.3,8.9,6.4,6.0,5.2,8.0,4.1,8.4,4.9,5.6,4.2,4.7,6.3,7.9,4.5,8.0,9.6,5.6,4.9,4.3,9.8,7.9,8.0,8.6,6.2,5.0,8.4,6.0,6.7,4.5,7.7,9.5,4.1,5.4,5.1,6.0,10.0,4.2,6.3,5.1,4.3,7.0,6.5,6.2,6.1,8.6,6.0,9.9,8.1,9.4,8.9,4.2,5.1,6.6,4.2,7.3,8.7,6.3,7.0,9.0,5.2,7.6,7.2,7.1,9.8,4.7,8.9,9.3,4.7,8.7,5.7,7.1,6.4,5.8,9.0,9.0,6.7,5.5,7.0,4.9,5.1,6.5,8.5,4.3,6.2,8.4,6.0,6.6,4.4,9.6,4.1,8.0,4.8,7.5,6.8,7.6,6.3,7.6,7.2,7.9,9.5,6.1,8.2,9.3,10.0,7.0,6.7,9.6,5.9,8.7,5.4,8.6,6.6,6.0,5.5,6.6,8.3,6.6,4.0,9.9,7.1,8.2,6.6,4.1,4.1,7.2,4.9,7.9,4.2,9.2,7.8,9.5,7.1,6.5,4.6,5.9,8.5,5.3,6.2,5.4,8.1,9.1,8.4,9.5,5.6,7.3,9.9,9.3,8.3,6.5,4.8,6.3,4.8,9.9,5.7,7.7,5.7,5.9,9.2,5.0,4.9,8.2,5.5,6.8,9.8,9.7,7.8,8.8,9.4,8.2,9.7,9.7,4.9,8.6,6.0,8.4,7.2,6.9,5.6,6.9,9.7,7.1,6.4,5.7,7.9,6.9,9.5,6.0,7.5,6.4,7.7,6.7,4.4,9.7,4.4,5.2,7.3,4.9,8.1,8.4,5.5,8.4,8.6,8.5,9.5,9.3,4.7,6.6,8.4,9.3,5.2,9.1,8.0,7.1,9.1,5.6,5.4,5.2,8.9,8.7,9.4,4.2,4.2,6.0,9.5,8.1,9.4,6.2,9.8,4.9,5.4,8.7,9.2,7.5,9.8,8.7,5.0,5.7,9.0,9.6,7.0,6.5,8.1,9.5,8.9,6.5,7.6,7.9,4.5,6.1,6.4,7.1,7.7,7.2,8.4,5.4,4.4,8.4,6.2,7.0,4.3,8.4,8.5,6.2,9.1,9.0,5.1,8.2,8.5,8.7,4.3,7.3,5.0,8.4,7.4,5.1,7.1,5.5,8.6,4.5,4.4,9.4,4.1,6.2,7.3,8.0,5.3,4.3,9.4,5.3,9.2,6.4,4.5,6.9,4.5,6.4,6.7,9.0,4.4,8.5,6.3,4.7,4.0,5.5,7.4,6.3,7.1,8.0,7.9,9.9,7.7,4.4,9.3,8.1,7.1,6.1,6.7,5.2,9.5,7.6,8.0,9.6,4.8,9.1,8.3,7.2,6.0,8.5,5.1,7.4,6.6,5.9,6.8,6.0,8.1,9.0,8.5,8.8,5.6,8.6,5.8,9.0,7.4,9.8,8.0,5.7,6.3,6.0,4.2,6.1,8.3,8.8,4.1,5.5,9.3,5.6,9.2,5.5,9.4,5.1,6.9,6.0,6.5,9.2,5.9,5.2,5.8,5.0,8.9,8.6,4.0,5.0,7.0,7.3,4.9,4.3,9.6,6.3,4.0,9.5,6.8,7.2,8.6,5.0,8.8,5.3,7.5,6.0,7.9,8.8,8.6,4.1,9.3,5.1,5.2,6.6,6.5,9.5,7.6,5.1,7.5,5.9,6.6,5.3,7.9,7.6,5.4,7.8,9.8,6.7,8.2,9.8,6.1,6.0,4.3,5.9,6.2,9.1,7.4,8.4,5.3,5.8,7.2,7.1,8.2,5.7,4.6,6.9,8.6,9.9,6.0,8.5,7.7,7.4,5.1,7.0,4.7,8.5,5.8,6.6,5.4,8.6,5.8,6.4,4.3,9.4,5.7,7.3,5.7,5.1,7.2,9.3,9.9,7.3,7.4,4.3,6.0,5.2,4.5,9.0,8.3,8.8,9.8,9.2,8.0,9.2,4.9,7.4,9.0,6.0,7.0,8.7,6.5,8.5,5.5,8.8,9.6,4.4,8.0,6.7,9.9,9.9,6.1,7.9,5.9,8.3,5.5,6.2,7.4,6.5,4.1,4.9,5.6,5.8,4.2,5.7,6.8,8.8,5.2,8.9,9.7,8.7,6.5,6.2,4.2,8.7,4.4,7.0,8.8,5.1,9.6,6.4,6.5,8.5,9.1,4.2,4.7,7.1,5.8,4.5,4.7,4.3,9.6,4.1,4.7,7.8,4.4,5.0,9.8,6.7,9.4,5.4,7.6,9.1,5.5,7.9,9.1,7.5,6.2,7.6,7.3,5.1,5.5,7.4,7.2,6.0,7.8,9.1,7.0,7.5,9.9,10.0,7.2,6.2,7.3,4.3,4.6,8.0,7.8,5.5,7.8,6.6,9.2,8.2,8.9,7.3,6.4,7.7,6.5,9.7,4.8,5.5,4.7,9.1,9.7,5.5,6.6,6.3,4.2,6.7,5.0,8.3,7.2,9.6,9.8,6.1,9.3,7.6,9.7,5.9,8.0,7.1,9.3,7.0,7.2,6.2,6.9,4.9,9.1,8.9,6.0,7.3,6.9,5.6,8.2,5.0,6.3,7.7,8.3,8.6,7.7,8.4,9.8,9.2,7.7,4.4,9.8,4.8,9.5,9.6,5.2,5.2,6.2,4.2,4.2,4.0,9.2,9.8,8.7,7.5,8.2,6.7,5.4,7.0,6.0,8.7,7.3,5.8,7.9,5.9,4.9,7.6,4.4,4.8,6.0,9.4,6.6,4.3,7.5,8.8,6.6,6.9,7.8,6.1,9.1,6.6,4.5,8.1,7.2,4.4,4.8,9.5,9.8,8.8,9.5,8.6,7.0,6.2,4.5,5.6,8.0,9.9,7.6,6.6,7.7,7.8,4.1,9.0,9.7,4.0,9.3,6.6,8.1,8.0,4.2,8.5,9.0,5.0,6.0,5.0,9.6,4.1,8.7,6.6,8.5,4.3,7.6,9.2,5.8,5.6,7.9,5.0,5.9,5.9,9.7,4.2,9.2,9.2,8.8,8.2,5.0,7.8,6.6,9.3,7.1,9.9,5.9,4.5,7.5,7.6,5.0,6.7,9.5,5.6,4.6,4.2,8.1,6.2,6.8,7.6,5.8,6.8,6.8,5.1,7.4,4.2,6.9,5.7,5.3,4.2,7.3,6.8,8.4,9.8,7.4,7.2,9.3,9.5,5.4,8.5,8.4,7.4,4.5,8.8,7.7,4.1,6.6],\"y0\":\" \",\"yaxis\":\"y\"}],                        {\"boxmode\":\"group\",\"legend\":{\"tracegroupgap\":0},\"template\":{\"data\":{\"bar\":[{\"error_x\":{\"color\":\"#2a3f5f\"},\"error_y\":{\"color\":\"#2a3f5f\"},\"marker\":{\"line\":{\"color\":\"#E5ECF6\",\"width\":0.5},\"pattern\":{\"fillmode\":\"overlay\",\"size\":10,\"solidity\":0.2}},\"type\":\"bar\"}],\"barpolar\":[{\"marker\":{\"line\":{\"color\":\"#E5ECF6\",\"width\":0.5},\"pattern\":{\"fillmode\":\"overlay\",\"size\":10,\"solidity\":0.2}},\"type\":\"barpolar\"}],\"carpet\":[{\"aaxis\":{\"endlinecolor\":\"#2a3f5f\",\"gridcolor\":\"white\",\"linecolor\":\"white\",\"minorgridcolor\":\"white\",\"startlinecolor\":\"#2a3f5f\"},\"baxis\":{\"endlinecolor\":\"#2a3f5f\",\"gridcolor\":\"white\",\"linecolor\":\"white\",\"minorgridcolor\":\"white\",\"startlinecolor\":\"#2a3f5f\"},\"type\":\"carpet\"}],\"choropleth\":[{\"colorbar\":{\"outlinewidth\":0,\"ticks\":\"\"},\"type\":\"choropleth\"}],\"contour\":[{\"colorbar\":{\"outlinewidth\":0,\"ticks\":\"\"},\"colorscale\":[[0.0,\"#0d0887\"],[0.1111111111111111,\"#46039f\"],[0.2222222222222222,\"#7201a8\"],[0.3333333333333333,\"#9c179e\"],[0.4444444444444444,\"#bd3786\"],[0.5555555555555556,\"#d8576b\"],[0.6666666666666666,\"#ed7953\"],[0.7777777777777778,\"#fb9f3a\"],[0.8888888888888888,\"#fdca26\"],[1.0,\"#f0f921\"]],\"type\":\"contour\"}],\"contourcarpet\":[{\"colorbar\":{\"outlinewidth\":0,\"ticks\":\"\"},\"type\":\"contourcarpet\"}],\"heatmap\":[{\"colorbar\":{\"outlinewidth\":0,\"ticks\":\"\"},\"colorscale\":[[0.0,\"#0d0887\"],[0.1111111111111111,\"#46039f\"],[0.2222222222222222,\"#7201a8\"],[0.3333333333333333,\"#9c179e\"],[0.4444444444444444,\"#bd3786\"],[0.5555555555555556,\"#d8576b\"],[0.6666666666666666,\"#ed7953\"],[0.7777777777777778,\"#fb9f3a\"],[0.8888888888888888,\"#fdca26\"],[1.0,\"#f0f921\"]],\"type\":\"heatmap\"}],\"heatmapgl\":[{\"colorbar\":{\"outlinewidth\":0,\"ticks\":\"\"},\"colorscale\":[[0.0,\"#0d0887\"],[0.1111111111111111,\"#46039f\"],[0.2222222222222222,\"#7201a8\"],[0.3333333333333333,\"#9c179e\"],[0.4444444444444444,\"#bd3786\"],[0.5555555555555556,\"#d8576b\"],[0.6666666666666666,\"#ed7953\"],[0.7777777777777778,\"#fb9f3a\"],[0.8888888888888888,\"#fdca26\"],[1.0,\"#f0f921\"]],\"type\":\"heatmapgl\"}],\"histogram\":[{\"marker\":{\"pattern\":{\"fillmode\":\"overlay\",\"size\":10,\"solidity\":0.2}},\"type\":\"histogram\"}],\"histogram2d\":[{\"colorbar\":{\"outlinewidth\":0,\"ticks\":\"\"},\"colorscale\":[[0.0,\"#0d0887\"],[0.1111111111111111,\"#46039f\"],[0.2222222222222222,\"#7201a8\"],[0.3333333333333333,\"#9c179e\"],[0.4444444444444444,\"#bd3786\"],[0.5555555555555556,\"#d8576b\"],[0.6666666666666666,\"#ed7953\"],[0.7777777777777778,\"#fb9f3a\"],[0.8888888888888888,\"#fdca26\"],[1.0,\"#f0f921\"]],\"type\":\"histogram2d\"}],\"histogram2dcontour\":[{\"colorbar\":{\"outlinewidth\":0,\"ticks\":\"\"},\"colorscale\":[[0.0,\"#0d0887\"],[0.1111111111111111,\"#46039f\"],[0.2222222222222222,\"#7201a8\"],[0.3333333333333333,\"#9c179e\"],[0.4444444444444444,\"#bd3786\"],[0.5555555555555556,\"#d8576b\"],[0.6666666666666666,\"#ed7953\"],[0.7777777777777778,\"#fb9f3a\"],[0.8888888888888888,\"#fdca26\"],[1.0,\"#f0f921\"]],\"type\":\"histogram2dcontour\"}],\"mesh3d\":[{\"colorbar\":{\"outlinewidth\":0,\"ticks\":\"\"},\"type\":\"mesh3d\"}],\"parcoords\":[{\"line\":{\"colorbar\":{\"outlinewidth\":0,\"ticks\":\"\"}},\"type\":\"parcoords\"}],\"pie\":[{\"automargin\":true,\"type\":\"pie\"}],\"scatter\":[{\"marker\":{\"colorbar\":{\"outlinewidth\":0,\"ticks\":\"\"}},\"type\":\"scatter\"}],\"scatter3d\":[{\"line\":{\"colorbar\":{\"outlinewidth\":0,\"ticks\":\"\"}},\"marker\":{\"colorbar\":{\"outlinewidth\":0,\"ticks\":\"\"}},\"type\":\"scatter3d\"}],\"scattercarpet\":[{\"marker\":{\"colorbar\":{\"outlinewidth\":0,\"ticks\":\"\"}},\"type\":\"scattercarpet\"}],\"scattergeo\":[{\"marker\":{\"colorbar\":{\"outlinewidth\":0,\"ticks\":\"\"}},\"type\":\"scattergeo\"}],\"scattergl\":[{\"marker\":{\"colorbar\":{\"outlinewidth\":0,\"ticks\":\"\"}},\"type\":\"scattergl\"}],\"scattermapbox\":[{\"marker\":{\"colorbar\":{\"outlinewidth\":0,\"ticks\":\"\"}},\"type\":\"scattermapbox\"}],\"scatterpolar\":[{\"marker\":{\"colorbar\":{\"outlinewidth\":0,\"ticks\":\"\"}},\"type\":\"scatterpolar\"}],\"scatterpolargl\":[{\"marker\":{\"colorbar\":{\"outlinewidth\":0,\"ticks\":\"\"}},\"type\":\"scatterpolargl\"}],\"scatterternary\":[{\"marker\":{\"colorbar\":{\"outlinewidth\":0,\"ticks\":\"\"}},\"type\":\"scatterternary\"}],\"surface\":[{\"colorbar\":{\"outlinewidth\":0,\"ticks\":\"\"},\"colorscale\":[[0.0,\"#0d0887\"],[0.1111111111111111,\"#46039f\"],[0.2222222222222222,\"#7201a8\"],[0.3333333333333333,\"#9c179e\"],[0.4444444444444444,\"#bd3786\"],[0.5555555555555556,\"#d8576b\"],[0.6666666666666666,\"#ed7953\"],[0.7777777777777778,\"#fb9f3a\"],[0.8888888888888888,\"#fdca26\"],[1.0,\"#f0f921\"]],\"type\":\"surface\"}],\"table\":[{\"cells\":{\"fill\":{\"color\":\"#EBF0F8\"},\"line\":{\"color\":\"white\"}},\"header\":{\"fill\":{\"color\":\"#C8D4E3\"},\"line\":{\"color\":\"white\"}},\"type\":\"table\"}]},\"layout\":{\"annotationdefaults\":{\"arrowcolor\":\"#2a3f5f\",\"arrowhead\":0,\"arrowwidth\":1},\"autotypenumbers\":\"strict\",\"coloraxis\":{\"colorbar\":{\"outlinewidth\":0,\"ticks\":\"\"}},\"colorscale\":{\"diverging\":[[0,\"#8e0152\"],[0.1,\"#c51b7d\"],[0.2,\"#de77ae\"],[0.3,\"#f1b6da\"],[0.4,\"#fde0ef\"],[0.5,\"#f7f7f7\"],[0.6,\"#e6f5d0\"],[0.7,\"#b8e186\"],[0.8,\"#7fbc41\"],[0.9,\"#4d9221\"],[1,\"#276419\"]],\"sequential\":[[0.0,\"#0d0887\"],[0.1111111111111111,\"#46039f\"],[0.2222222222222222,\"#7201a8\"],[0.3333333333333333,\"#9c179e\"],[0.4444444444444444,\"#bd3786\"],[0.5555555555555556,\"#d8576b\"],[0.6666666666666666,\"#ed7953\"],[0.7777777777777778,\"#fb9f3a\"],[0.8888888888888888,\"#fdca26\"],[1.0,\"#f0f921\"]],\"sequentialminus\":[[0.0,\"#0d0887\"],[0.1111111111111111,\"#46039f\"],[0.2222222222222222,\"#7201a8\"],[0.3333333333333333,\"#9c179e\"],[0.4444444444444444,\"#bd3786\"],[0.5555555555555556,\"#d8576b\"],[0.6666666666666666,\"#ed7953\"],[0.7777777777777778,\"#fb9f3a\"],[0.8888888888888888,\"#fdca26\"],[1.0,\"#f0f921\"]]},\"colorway\":[\"#636efa\",\"#EF553B\",\"#00cc96\",\"#ab63fa\",\"#FFA15A\",\"#19d3f3\",\"#FF6692\",\"#B6E880\",\"#FF97FF\",\"#FECB52\"],\"font\":{\"color\":\"#2a3f5f\"},\"geo\":{\"bgcolor\":\"white\",\"lakecolor\":\"white\",\"landcolor\":\"#E5ECF6\",\"showlakes\":true,\"showland\":true,\"subunitcolor\":\"white\"},\"hoverlabel\":{\"align\":\"left\"},\"hovermode\":\"closest\",\"mapbox\":{\"style\":\"light\"},\"paper_bgcolor\":\"white\",\"plot_bgcolor\":\"#E5ECF6\",\"polar\":{\"angularaxis\":{\"gridcolor\":\"white\",\"linecolor\":\"white\",\"ticks\":\"\"},\"bgcolor\":\"#E5ECF6\",\"radialaxis\":{\"gridcolor\":\"white\",\"linecolor\":\"white\",\"ticks\":\"\"}},\"scene\":{\"xaxis\":{\"backgroundcolor\":\"#E5ECF6\",\"gridcolor\":\"white\",\"gridwidth\":2,\"linecolor\":\"white\",\"showbackground\":true,\"ticks\":\"\",\"zerolinecolor\":\"white\"},\"yaxis\":{\"backgroundcolor\":\"#E5ECF6\",\"gridcolor\":\"white\",\"gridwidth\":2,\"linecolor\":\"white\",\"showbackground\":true,\"ticks\":\"\",\"zerolinecolor\":\"white\"},\"zaxis\":{\"backgroundcolor\":\"#E5ECF6\",\"gridcolor\":\"white\",\"gridwidth\":2,\"linecolor\":\"white\",\"showbackground\":true,\"ticks\":\"\",\"zerolinecolor\":\"white\"}},\"shapedefaults\":{\"line\":{\"color\":\"#2a3f5f\"}},\"ternary\":{\"aaxis\":{\"gridcolor\":\"white\",\"linecolor\":\"white\",\"ticks\":\"\"},\"baxis\":{\"gridcolor\":\"white\",\"linecolor\":\"white\",\"ticks\":\"\"},\"bgcolor\":\"#E5ECF6\",\"caxis\":{\"gridcolor\":\"white\",\"linecolor\":\"white\",\"ticks\":\"\"}},\"title\":{\"x\":0.05},\"xaxis\":{\"automargin\":true,\"gridcolor\":\"white\",\"linecolor\":\"white\",\"ticks\":\"\",\"title\":{\"standoff\":15},\"zerolinecolor\":\"white\",\"zerolinewidth\":2},\"yaxis\":{\"automargin\":true,\"gridcolor\":\"white\",\"linecolor\":\"white\",\"ticks\":\"\",\"title\":{\"standoff\":15},\"zerolinecolor\":\"white\",\"zerolinewidth\":2}}},\"title\":{\"text\":\"Box Plot Ratings\"},\"xaxis\":{\"anchor\":\"y\",\"domain\":[0.0,1.0],\"title\":{\"text\":\"Branch\"}},\"yaxis\":{\"anchor\":\"x\",\"domain\":[0.0,1.0],\"title\":{\"text\":\"Rating\"}}},                        {\"responsive\": true}                    ).then(function(){\n",
       "                            \n",
       "var gd = document.getElementById('996ce79a-75f9-4438-ab83-f0532d8b9e41');\n",
       "var x = new MutationObserver(function (mutations, observer) {{\n",
       "        var display = window.getComputedStyle(gd).display;\n",
       "        if (!display || display === 'none') {{\n",
       "            console.log([gd, 'removed!']);\n",
       "            Plotly.purge(gd);\n",
       "            observer.disconnect();\n",
       "        }}\n",
       "}});\n",
       "\n",
       "// Listen for the removal of the full notebook cells\n",
       "var notebookContainer = gd.closest('#notebook-container');\n",
       "if (notebookContainer) {{\n",
       "    x.observe(notebookContainer, {childList: true});\n",
       "}}\n",
       "\n",
       "// Listen for the clearing of the current output cell\n",
       "var outputEl = gd.closest('.output');\n",
       "if (outputEl) {{\n",
       "    x.observe(outputEl, {childList: true});\n",
       "}}\n",
       "\n",
       "                        })                };                });            </script>        </div>"
      ]
     },
     "metadata": {},
     "output_type": "display_data"
    }
   ],
   "source": [
    "import plotly.express as px\n",
    "import cufflinks as cf\n",
    "from plotly.offline import download_plotlyjs, init_notebook_mode, plot, iplot\n",
    "init_notebook_mode(connected=True)\n",
    "cf.go_offline()\n",
    "\n",
    "fig = px.box(xyz, x=\"Branch\", y=\"Rating\", points= 'all',notched=True,\n",
    "            title= 'Box Plot Ratings',hover_data= ['City'])\n",
    "fig.show()"
   ]
  },
  {
   "cell_type": "markdown",
   "metadata": {},
   "source": [
    "All the branch have the same low and high rating values"
   ]
  },
  {
   "attachments": {},
   "cell_type": "markdown",
   "metadata": {},
   "source": [
    "####  The gender type often affects the kind of products being purchased at the supermarket."
   ]
  },
  {
   "cell_type": "code",
   "execution_count": 40,
   "metadata": {},
   "outputs": [
    {
     "data": {
      "image/png": "[encoded data removed]",
      "text/plain": [
       "<Figure size 1181.15x360 with 1 Axes>"
      ]
     },
     "metadata": {},
     "output_type": "display_data"
    }
   ],
   "source": [
    "g = sns.catplot(x=\"Product line\", y=\"Quantity\", hue=\"Gender\",\n",
    "                data=xyz, kind=\"point\", ci=None,  aspect=3)\n",
    "(g.set_axis_labels(\"\", \"Quantity\")\n",
    "  .set_titles(\"{hue_name} {hue_var}\"));"
   ]
  },
  {
   "cell_type": "markdown",
   "metadata": {},
   "source": [
    "The graph displayed the number of quantity purchased by each gender;\n",
    "\n",
    "Female buy more of this product (Food and beverages, Fashion accessories, Sports and travel, Home and lifestyle) than Male"
   ]
  },
  {
   "cell_type": "code",
   "execution_count": 41,
   "metadata": {},
   "outputs": [
    {
     "data": {
      "image/png": "[encoded data removed]",
      "text/plain": [
       "<Figure size 1181.15x360 with 1 Axes>"
      ]
     },
     "metadata": {},
     "output_type": "display_data"
    }
   ],
   "source": [
    "g = sns.catplot(x=\"Product line\", y=\"Total\", hue=\"Gender\",\n",
    "                data=xyz, kind=\"point\", ci=None, aspect=3)\n",
    "(g.set_axis_labels(\"\", \"Total\")\n",
    "  .set_titles(\"{hue_name} {hue_var}\")\n",
    "  .despine(left=True));"
   ]
  },
  {
   "cell_type": "markdown",
   "metadata": {},
   "source": [
    "The total column shows a different in male purchasing the service of sports and travel than female"
   ]
  },
  {
   "attachments": {},
   "cell_type": "markdown",
   "metadata": {},
   "source": [
    "##### Interaction of Unit price on the Quantity of goods purchased."
   ]
  },
  {
   "cell_type": "code",
   "execution_count": 42,
   "metadata": {},
   "outputs": [
    {
     "data": {
      "image/png": "[encoded data removed]",
      "text/plain": [
       "<Figure size 1152x288 with 1 Axes>"
      ]
     },
     "metadata": {},
     "output_type": "display_data"
    }
   ],
   "source": [
    "sns.catplot(x=\"Product line\", y=\"Unit price\", data=xyz, kind='point', height=4, aspect=4);"
   ]
  },
  {
   "cell_type": "code",
   "execution_count": 43,
   "metadata": {},
   "outputs": [
    {
     "data": {
      "image/png": "[encoded data removed]",
      "text/plain": [
       "<Figure size 1152x288 with 1 Axes>"
      ]
     },
     "metadata": {},
     "output_type": "display_data"
    }
   ],
   "source": [
    "sns.catplot(x=\"Product line\", y=\"Quantity\", data=xyz, kind='point', height=4, aspect=4);"
   ]
  },
  {
   "cell_type": "markdown",
   "metadata": {},
   "source": [
    "The observation here is that, low price of a product result to high quantity demand"
   ]
  }
 ],
 "metadata": {
  "kernelspec": {
   "display_name": "Python 3",
   "language": "python",
   "name": "python3"
  },
  "language_info": {
   "codemirror_mode": {
    "name": "ipython",
    "version": 3
   },
   "file_extension": ".py",
   "mimetype": "text/x-python",
   "name": "python",
   "nbconvert_exporter": "python",
   "pygments_lexer": "ipython3",
   "version": "3.7.9 (v3.7.9:13c94747c7, Aug 15 2020, 01:31:08) \n[Clang 6.0 (clang-600.0.57)]"
  },
  "vscode": {
   "interpreter": {
    "hash": "aee8b7b246df8f9039afb4144a1f6fd8d2ca17a180786b69acc140d282b71a49"
   }
  }
 },
 "nbformat": 4,
 "nbformat_minor": 4
}
